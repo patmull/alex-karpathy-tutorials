{
  "nbformat": 4,
  "nbformat_minor": 0,
  "metadata": {
    "colab": {
      "provenance": [],
      "include_colab_link": true
    },
    "kernelspec": {
      "name": "python3",
      "display_name": "Python 3"
    },
    "language_info": {
      "name": "python"
    }
  },
  "cells": [
    {
      "cell_type": "markdown",
      "metadata": {
        "id": "view-in-github",
        "colab_type": "text"
      },
      "source": [
        "<a href=\"https://colab.research.google.com/github/patmull/alex-karpathy-tutorials/blob/main/build_makemore_mlp.ipynb\" target=\"_parent\"><img src=\"https://colab.research.google.com/assets/colab-badge.svg\" alt=\"Open In Colab\"/></a>"
      ]
    },
    {
      "cell_type": "code",
      "execution_count": 4,
      "metadata": {
        "id": "vowXRstocd8F"
      },
      "outputs": [],
      "source": [
        "import torch\n",
        "import torch.nn.functional as F\n",
        "import matplotlib.pyplot as plt # for making figures\n",
        "%matplotlib inline"
      ]
    },
    {
      "cell_type": "code",
      "source": [
        "# download the names.txt file from github\n",
        "!wget https://raw.githubusercontent.com/karpathy/makemore/master/names.txt"
      ],
      "metadata": {
        "colab": {
          "base_uri": "https://localhost:8080/"
        },
        "id": "9Rlc3YeWcm_d",
        "outputId": "1dfe318a-fbd1-4e14-e683-5e9ccfcca2ef"
      },
      "execution_count": 5,
      "outputs": [
        {
          "output_type": "stream",
          "name": "stdout",
          "text": [
            "--2023-10-03 14:13:47--  https://raw.githubusercontent.com/karpathy/makemore/master/names.txt\n",
            "Resolving raw.githubusercontent.com (raw.githubusercontent.com)... 185.199.108.133, 185.199.111.133, 185.199.109.133, ...\n",
            "Connecting to raw.githubusercontent.com (raw.githubusercontent.com)|185.199.108.133|:443... connected.\n",
            "HTTP request sent, awaiting response... 200 OK\n",
            "Length: 228145 (223K) [text/plain]\n",
            "Saving to: ‘names.txt’\n",
            "\n",
            "\rnames.txt             0%[                    ]       0  --.-KB/s               \rnames.txt           100%[===================>] 222.80K  --.-KB/s    in 0.02s   \n",
            "\n",
            "2023-10-03 14:13:48 (8.99 MB/s) - ‘names.txt’ saved [228145/228145]\n",
            "\n"
          ]
        }
      ]
    },
    {
      "cell_type": "code",
      "source": [
        "words = open('names.txt', 'r').read().splitlines()\n",
        "words[:8]"
      ],
      "metadata": {
        "colab": {
          "base_uri": "https://localhost:8080/"
        },
        "id": "uH2MGP4FcidR",
        "outputId": "7c62f52d-48b7-435a-e541-064470970535"
      },
      "execution_count": 6,
      "outputs": [
        {
          "output_type": "execute_result",
          "data": {
            "text/plain": [
              "['emma', 'olivia', 'ava', 'isabella', 'sophia', 'charlotte', 'mia', 'amelia']"
            ]
          },
          "metadata": {},
          "execution_count": 6
        }
      ]
    },
    {
      "cell_type": "code",
      "source": [
        "len(words)"
      ],
      "metadata": {
        "colab": {
          "base_uri": "https://localhost:8080/"
        },
        "id": "FbakoEqAcvnF",
        "outputId": "a4d255cd-0a43-48c3-b038-74057c9a3e86"
      },
      "execution_count": 7,
      "outputs": [
        {
          "output_type": "execute_result",
          "data": {
            "text/plain": [
              "32033"
            ]
          },
          "metadata": {},
          "execution_count": 7
        }
      ]
    },
    {
      "cell_type": "code",
      "source": [
        "# build the vocabulary of characters and mappings to/from integers\n",
        "chars = sorted(list(set(''.join(words))))\n",
        "stoi = {s:i+1 for i,s in enumerate(chars)}\n",
        "stoi['.'] = 0\n",
        "itos = {i:s for s,i in stoi.items()}\n",
        "print(itos)"
      ],
      "metadata": {
        "colab": {
          "base_uri": "https://localhost:8080/"
        },
        "id": "EYnXhmWVcx-l",
        "outputId": "dabbb881-06a1-42ea-b583-0f3edb437205"
      },
      "execution_count": 8,
      "outputs": [
        {
          "output_type": "stream",
          "name": "stdout",
          "text": [
            "{1: 'a', 2: 'b', 3: 'c', 4: 'd', 5: 'e', 6: 'f', 7: 'g', 8: 'h', 9: 'i', 10: 'j', 11: 'k', 12: 'l', 13: 'm', 14: 'n', 15: 'o', 16: 'p', 17: 'q', 18: 'r', 19: 's', 20: 't', 21: 'u', 22: 'v', 23: 'w', 24: 'x', 25: 'y', 26: 'z', 0: '.'}\n"
          ]
        }
      ]
    },
    {
      "cell_type": "code",
      "source": [
        "# build the dataset\n",
        "block_size = 3 # context length: how many characters do we take to predict the next one. NOTICE: If we change this, the shape dimensions will change.\n",
        "\n",
        "def build_dataset(words):\n",
        "  X, Y = [], []\n",
        "  for w in words:\n",
        "\n",
        "    # print(f\"w: {w}\")\n",
        "    context = [0] * block_size\n",
        "    for ch in w + '.':\n",
        "      ix = stoi[ch]\n",
        "      X.append(context)\n",
        "      Y.append(ix)\n",
        "      # print(''.join(itos[i] for i in context), '--->', itos[ix])\n",
        "      context = context[1:] + [ix] # crop and append\n",
        "\n",
        "  X = torch.tensor(X)\n",
        "  Y = torch.tensor(Y)\n",
        "  print(X.shape, Y.shape)\n",
        "  return X, Y\n",
        "\n",
        "import random\n",
        "random.seed(42)\n",
        "random.shuffle(words)\n",
        "n1 = int(0.8*len(words))\n",
        "n2 = int(0.9*len(words))\n",
        "\n",
        "Xtr, Ytr = build_dataset(words[:n1])\n",
        "Xdev, Ydev = build_dataset(words[n1:n2]) # ( = validation set)\n",
        "Xte, Yte = build_dataset(words[n2:])"
      ],
      "metadata": {
        "colab": {
          "base_uri": "https://localhost:8080/"
        },
        "id": "MB5XgJxdczFi",
        "outputId": "f5ce3d4a-9ef3-46c5-c20c-585b484602a4"
      },
      "execution_count": 9,
      "outputs": [
        {
          "output_type": "stream",
          "name": "stdout",
          "text": [
            "torch.Size([182625, 3]) torch.Size([182625])\n",
            "torch.Size([22655, 3]) torch.Size([22655])\n",
            "torch.Size([22866, 3]) torch.Size([22866])\n"
          ]
        }
      ]
    },
    {
      "cell_type": "code",
      "source": [
        "(Xtr.shape, Xtr.dtype, Ytr.shape, Ytr.dtype)"
      ],
      "metadata": {
        "colab": {
          "base_uri": "https://localhost:8080/"
        },
        "id": "PEDC3USHmThX",
        "outputId": "ad9c1463-67c4-4bab-dd92-7217fcb8854b"
      },
      "execution_count": 10,
      "outputs": [
        {
          "output_type": "execute_result",
          "data": {
            "text/plain": [
              "(torch.Size([182625, 3]), torch.int64, torch.Size([182625]), torch.int64)"
            ]
          },
          "metadata": {},
          "execution_count": 10
        }
      ]
    },
    {
      "cell_type": "code",
      "source": [
        "Xtr"
      ],
      "metadata": {
        "colab": {
          "base_uri": "https://localhost:8080/"
        },
        "id": "YEqjLmYOnNaj",
        "outputId": "38f1aee0-7533-4ee2-b7cf-d4b7e9cad8fa"
      },
      "execution_count": 11,
      "outputs": [
        {
          "output_type": "execute_result",
          "data": {
            "text/plain": [
              "tensor([[ 0,  0,  0],\n",
              "        [ 0,  0, 25],\n",
              "        [ 0, 25, 21],\n",
              "        ...,\n",
              "        [15, 12,  4],\n",
              "        [12,  4,  1],\n",
              "        [ 4,  1, 14]])"
            ]
          },
          "metadata": {},
          "execution_count": 11
        }
      ]
    },
    {
      "cell_type": "code",
      "source": [
        "Ytr"
      ],
      "metadata": {
        "colab": {
          "base_uri": "https://localhost:8080/"
        },
        "id": "2HlCdiZHnZPR",
        "outputId": "ac5f99ef-cd35-4884-aa96-a643a8c4dfa5"
      },
      "execution_count": 12,
      "outputs": [
        {
          "output_type": "execute_result",
          "data": {
            "text/plain": [
              "tensor([25, 21,  8,  ...,  1, 14,  0])"
            ]
          },
          "metadata": {},
          "execution_count": 12
        }
      ]
    },
    {
      "cell_type": "code",
      "source": [
        "Ytr.shape"
      ],
      "metadata": {
        "colab": {
          "base_uri": "https://localhost:8080/"
        },
        "id": "k4H9qFW0neKp",
        "outputId": "4a3c5923-8ca5-4fb5-ce7a-d038cf0417ee"
      },
      "execution_count": null,
      "outputs": [
        {
          "output_type": "execute_result",
          "data": {
            "text/plain": [
              "torch.Size([182625])"
            ]
          },
          "metadata": {},
          "execution_count": 11
        }
      ]
    },
    {
      "cell_type": "code",
      "source": [
        "GENERATOR_SEED = 2147483647  # for reproducibility\n",
        "g = torch.Generator().manual_seed(GENERATOR_SEED)\n",
        "C = torch.randn((27, 10), generator=g)\n",
        "W1 = torch.randn((30, 200), generator=g)\n",
        "b1 = torch.randn(200, generator=g)\n",
        "W2 = torch.randn((200, 27), generator=g)\n",
        "b2 = torch.randn(27, generator=g)\n",
        "parameters = [C, W1, b1, W2, b2]"
      ],
      "metadata": {
        "id": "EAA0_oigc13X"
      },
      "execution_count": 13,
      "outputs": []
    },
    {
      "cell_type": "code",
      "source": [
        "sum(p.nelement() for p in parameters) # number of parameters in total"
      ],
      "metadata": {
        "colab": {
          "base_uri": "https://localhost:8080/"
        },
        "id": "_HcVef6-c5S4",
        "outputId": "e877eb0e-7e74-44ab-961e-61f8b3093aa6"
      },
      "execution_count": 14,
      "outputs": [
        {
          "output_type": "execute_result",
          "data": {
            "text/plain": [
              "11897"
            ]
          },
          "metadata": {},
          "execution_count": 14
        }
      ]
    },
    {
      "cell_type": "code",
      "source": [
        "for p in parameters:\n",
        "  p.requires_grad = True"
      ],
      "metadata": {
        "id": "coNBea1sc6tm"
      },
      "execution_count": 15,
      "outputs": []
    },
    {
      "cell_type": "code",
      "source": [
        "C.shape"
      ],
      "metadata": {
        "colab": {
          "base_uri": "https://localhost:8080/"
        },
        "id": "CymZcj7Foqvc",
        "outputId": "390fe318-aa77-4e0f-c59d-d5dbaf343fe6"
      },
      "execution_count": 16,
      "outputs": [
        {
          "output_type": "execute_result",
          "data": {
            "text/plain": [
              "torch.Size([27, 10])"
            ]
          },
          "metadata": {},
          "execution_count": 16
        }
      ]
    },
    {
      "cell_type": "code",
      "source": [
        "C[2] # Thes values are from the Tensor above (only not rounded)"
      ],
      "metadata": {
        "colab": {
          "base_uri": "https://localhost:8080/"
        },
        "id": "RNwTuhWhohIj",
        "outputId": "b2efe06a-80ad-4d32-e704-e38a95590b8c"
      },
      "execution_count": 17,
      "outputs": [
        {
          "output_type": "execute_result",
          "data": {
            "text/plain": [
              "tensor([ 0.9849, -0.1484, -1.4795,  0.4483, -0.0707,  2.4968,  2.4448, -0.6701,\n",
              "        -1.2199,  0.3031], grad_fn=<SelectBackward0>)"
            ]
          },
          "metadata": {},
          "execution_count": 17
        }
      ]
    },
    {
      "cell_type": "code",
      "source": [
        "# We can also do the selection effectively using the One Hot Encoding method\n",
        "f_one_hot = F.one_hot(torch.tensor(2), num_classes=27)\n",
        "print(f_one_hot)\n",
        "print(f_one_hot.float() @ C)"
      ],
      "metadata": {
        "colab": {
          "base_uri": "https://localhost:8080/"
        },
        "id": "3Y20c3pdomkN",
        "outputId": "d13b27ef-f0c2-474b-dc06-8d3e9459f49c"
      },
      "execution_count": 18,
      "outputs": [
        {
          "output_type": "stream",
          "name": "stdout",
          "text": [
            "tensor([0, 0, 1, 0, 0, 0, 0, 0, 0, 0, 0, 0, 0, 0, 0, 0, 0, 0, 0, 0, 0, 0, 0, 0,\n",
            "        0, 0, 0])\n",
            "tensor([ 0.9849, -0.1484, -1.4795,  0.4483, -0.0707,  2.4968,  2.4448, -0.6701,\n",
            "        -1.2199,  0.3031], grad_fn=<SqueezeBackward4>)\n"
          ]
        }
      ]
    },
    {
      "cell_type": "code",
      "source": [
        "## PyTorch tensors indexing\n",
        "print(C[torch.tensor([2,6,7])])\n",
        "print(C[torch.tensor([2,2,2,2,2,6,7,7,7,2])])\n",
        "print(f\"C dimensions: {C.shape}\")\n",
        "print(f\"Xtr dimensions: {Xtr.shape}\")\n",
        "print(f\"C[Xtr] dimensions: {C[Xtr].shape}\") # [182424, 3, 10]. z=10 is embedding vector from the C. x, y are the Xtr dimensions\n",
        "print(C[Xtr])\n",
        "example_location = Xtr[4, 2]\n",
        "print(\"Selecting individual integer from the tensor: \", example_location, example_location.item())\n",
        "print(C[Xtr][4,2])\n",
        "print(\"This is == to selecting by the example_location.item():\")\n",
        "print(C[example_location.item()])"
      ],
      "metadata": {
        "colab": {
          "base_uri": "https://localhost:8080/"
        },
        "id": "MH7XD6IspeG5",
        "outputId": "68d4a95e-84b3-49a0-f234-5c2552da0a10"
      },
      "execution_count": 19,
      "outputs": [
        {
          "output_type": "stream",
          "name": "stdout",
          "text": [
            "tensor([[ 0.9849, -0.1484, -1.4795,  0.4483, -0.0707,  2.4968,  2.4448, -0.6701,\n",
            "         -1.2199,  0.3031],\n",
            "        [ 0.1351, -0.2116, -1.0406, -1.5367,  0.9374, -0.8830,  1.7457,  2.1346,\n",
            "         -0.8561,  0.5408],\n",
            "        [ 0.6169,  1.5160, -1.0447, -0.6641, -0.7239,  1.7507,  0.1753,  0.9928,\n",
            "         -0.6279,  0.0770]], grad_fn=<IndexBackward0>)\n",
            "tensor([[ 0.9849, -0.1484, -1.4795,  0.4483, -0.0707,  2.4968,  2.4448, -0.6701,\n",
            "         -1.2199,  0.3031],\n",
            "        [ 0.9849, -0.1484, -1.4795,  0.4483, -0.0707,  2.4968,  2.4448, -0.6701,\n",
            "         -1.2199,  0.3031],\n",
            "        [ 0.9849, -0.1484, -1.4795,  0.4483, -0.0707,  2.4968,  2.4448, -0.6701,\n",
            "         -1.2199,  0.3031],\n",
            "        [ 0.9849, -0.1484, -1.4795,  0.4483, -0.0707,  2.4968,  2.4448, -0.6701,\n",
            "         -1.2199,  0.3031],\n",
            "        [ 0.9849, -0.1484, -1.4795,  0.4483, -0.0707,  2.4968,  2.4448, -0.6701,\n",
            "         -1.2199,  0.3031],\n",
            "        [ 0.1351, -0.2116, -1.0406, -1.5367,  0.9374, -0.8830,  1.7457,  2.1346,\n",
            "         -0.8561,  0.5408],\n",
            "        [ 0.6169,  1.5160, -1.0447, -0.6641, -0.7239,  1.7507,  0.1753,  0.9928,\n",
            "         -0.6279,  0.0770],\n",
            "        [ 0.6169,  1.5160, -1.0447, -0.6641, -0.7239,  1.7507,  0.1753,  0.9928,\n",
            "         -0.6279,  0.0770],\n",
            "        [ 0.6169,  1.5160, -1.0447, -0.6641, -0.7239,  1.7507,  0.1753,  0.9928,\n",
            "         -0.6279,  0.0770],\n",
            "        [ 0.9849, -0.1484, -1.4795,  0.4483, -0.0707,  2.4968,  2.4448, -0.6701,\n",
            "         -1.2199,  0.3031]], grad_fn=<IndexBackward0>)\n",
            "C dimensions: torch.Size([27, 10])\n",
            "Xtr dimensions: torch.Size([182625, 3])\n",
            "C[Xtr] dimensions: torch.Size([182625, 3, 10])\n",
            "tensor([[[ 1.5674e+00, -2.3729e-01, -2.7385e-02,  ...,  6.0489e-01,\n",
            "           7.9136e-02,  9.0462e-01],\n",
            "         [ 1.5674e+00, -2.3729e-01, -2.7385e-02,  ...,  6.0489e-01,\n",
            "           7.9136e-02,  9.0462e-01],\n",
            "         [ 1.5674e+00, -2.3729e-01, -2.7385e-02,  ...,  6.0489e-01,\n",
            "           7.9136e-02,  9.0462e-01]],\n",
            "\n",
            "        [[ 1.5674e+00, -2.3729e-01, -2.7385e-02,  ...,  6.0489e-01,\n",
            "           7.9136e-02,  9.0462e-01],\n",
            "         [ 1.5674e+00, -2.3729e-01, -2.7385e-02,  ...,  6.0489e-01,\n",
            "           7.9136e-02,  9.0462e-01],\n",
            "         [-1.2801e+00,  9.2445e-02,  1.0526e-01,  ..., -8.1628e-01,\n",
            "          -3.9243e-01, -7.4521e-01]],\n",
            "\n",
            "        [[ 1.5674e+00, -2.3729e-01, -2.7385e-02,  ...,  6.0489e-01,\n",
            "           7.9136e-02,  9.0462e-01],\n",
            "         [-1.2801e+00,  9.2445e-02,  1.0526e-01,  ..., -8.1628e-01,\n",
            "          -3.9243e-01, -7.4521e-01],\n",
            "         [-2.4780e-01,  8.8282e-01, -8.1004e-02,  ..., -1.9295e-01,\n",
            "           1.2348e+00,  3.3308e-01]],\n",
            "\n",
            "        ...,\n",
            "\n",
            "        [[ 5.5570e-01,  4.7458e-01, -1.3867e+00,  ...,  1.0198e+00,\n",
            "          -1.9062e+00, -4.2753e-01],\n",
            "         [-5.6144e-01, -1.3753e-01, -1.3799e-01,  ..., -5.1029e-01,\n",
            "           5.6421e-01,  9.6838e-01],\n",
            "         [-9.6478e-01, -2.3211e-01, -3.4762e-01,  ...,  4.5846e-01,\n",
            "           5.4011e-02, -1.7400e+00]],\n",
            "\n",
            "        [[-5.6144e-01, -1.3753e-01, -1.3799e-01,  ..., -5.1029e-01,\n",
            "           5.6421e-01,  9.6838e-01],\n",
            "         [-9.6478e-01, -2.3211e-01, -3.4762e-01,  ...,  4.5846e-01,\n",
            "           5.4011e-02, -1.7400e+00],\n",
            "         [-4.7125e-01,  7.8682e-01, -3.2843e-01,  ..., -1.6261e+00,\n",
            "           6.7716e-01, -8.4039e-01]],\n",
            "\n",
            "        [[-9.6478e-01, -2.3211e-01, -3.4762e-01,  ...,  4.5846e-01,\n",
            "           5.4011e-02, -1.7400e+00],\n",
            "         [-4.7125e-01,  7.8682e-01, -3.2843e-01,  ..., -1.6261e+00,\n",
            "           6.7716e-01, -8.4039e-01],\n",
            "         [ 4.6827e-01, -6.5650e-01,  6.1662e-01,  ..., -4.5585e-01,\n",
            "          -1.3132e-03, -5.1161e-01]]], grad_fn=<IndexBackward0>)\n",
            "Selecting individual integer from the tensor:  tensor(5) 5\n",
            "tensor([ 0.1156,  0.8032,  0.5411, -1.1646,  0.1476, -1.0006,  0.3801,  0.4733,\n",
            "        -0.9103, -0.7830], grad_fn=<SelectBackward0>)\n",
            "This is == to selecting by the example_location.item():\n",
            "tensor([ 0.1156,  0.8032,  0.5411, -1.1646,  0.1476, -1.0006,  0.3801,  0.4733,\n",
            "        -0.9103, -0.7830], grad_fn=<SelectBackward0>)\n"
          ]
        }
      ]
    },
    {
      "cell_type": "code",
      "source": [
        "emb = C[Xtr]\n",
        "emb.shape"
      ],
      "metadata": {
        "colab": {
          "base_uri": "https://localhost:8080/"
        },
        "id": "N7-3ORmf1QOq",
        "outputId": "5d4f3e6a-3bd1-42f5-fcdd-8b4423ea9c4b"
      },
      "execution_count": 20,
      "outputs": [
        {
          "output_type": "execute_result",
          "data": {
            "text/plain": [
              "torch.Size([182625, 3, 10])"
            ]
          },
          "metadata": {},
          "execution_count": 20
        }
      ]
    },
    {
      "cell_type": "code",
      "source": [
        "W_x_shape = emb.shape[0] * emb.shape[2] # * emb.shape[2]\n",
        "W_y_shape = 100 # Chosen some meaningul value\n",
        "print(f\"W_x_shape: {W_x_shape}\")\n",
        "W = torch.randn((W_x_shape, W_y_shape))\n",
        "W"
      ],
      "metadata": {
        "colab": {
          "base_uri": "https://localhost:8080/"
        },
        "id": "vlP4Ewjm1Yd4",
        "outputId": "1b453b7d-540e-45b3-bd7d-9dc705f8c2f0"
      },
      "execution_count": 21,
      "outputs": [
        {
          "output_type": "stream",
          "name": "stdout",
          "text": [
            "W_x_shape: 1826250\n"
          ]
        },
        {
          "output_type": "execute_result",
          "data": {
            "text/plain": [
              "tensor([[-1.2872,  1.2915,  1.1121,  ..., -0.2995, -1.7290,  0.9916],\n",
              "        [ 1.2538, -1.2670, -1.7079,  ...,  0.4289, -0.7350,  0.7228],\n",
              "        [-1.1332,  0.4564,  0.5180,  ...,  0.0327,  0.1553,  1.7219],\n",
              "        ...,\n",
              "        [-0.7041,  0.9848, -1.7163,  ...,  0.5896, -0.3184,  0.3632],\n",
              "        [-1.5502,  1.8407, -0.0985,  ...,  1.3444,  1.0158,  0.0169],\n",
              "        [ 0.5027,  2.2436, -0.5562,  ...,  1.1865, -0.0390,  1.1930]])"
            ]
          },
          "metadata": {},
          "execution_count": 21
        }
      ]
    },
    {
      "cell_type": "code",
      "source": [
        "# What we want. WARNING: This will produce an error due to the uncompatible shape\n",
        "# emb @ W1 + b1\n",
        "# What we need\n",
        "# Those are the 3 embeddings selected (the very first \"nodes\" of the NN, see the picture in the original MLP paper or Andrej's video)\n",
        "print(emb[:, 0, :].size())\n",
        "print(emb[:, 1, :].size())\n",
        "print(emb[:, 2, :].size())\n",
        "# Concatination of the tensors together in order to edit the shape\n",
        "concat_embeddings = torch.cat([emb[:, 0, :], emb[:, 1, :], emb[:, 2, :]], 1) # Now the shape is what we need\n",
        "print(concat_embeddings.size())"
      ],
      "metadata": {
        "id": "5a_KKplH5N1-",
        "outputId": "f0bf8962-e03e-4391-dbba-ac7b1b21fbe3",
        "colab": {
          "base_uri": "https://localhost:8080/"
        }
      },
      "execution_count": 22,
      "outputs": [
        {
          "output_type": "stream",
          "name": "stdout",
          "text": [
            "torch.Size([182625, 10])\n",
            "torch.Size([182625, 10])\n",
            "torch.Size([182625, 10])\n",
            "torch.Size([182625, 30])\n"
          ]
        }
      ]
    },
    {
      "cell_type": "code",
      "source": [
        "torch.unbind(emb, 1)"
      ],
      "metadata": {
        "id": "0_-TGtFPUlqi",
        "outputId": "d52ca31a-93a3-4f51-b970-9a6cfabb04ac",
        "colab": {
          "base_uri": "https://localhost:8080/"
        }
      },
      "execution_count": 23,
      "outputs": [
        {
          "output_type": "execute_result",
          "data": {
            "text/plain": [
              "(tensor([[ 1.5674, -0.2373, -0.0274,  ...,  0.6049,  0.0791,  0.9046],\n",
              "         [ 1.5674, -0.2373, -0.0274,  ...,  0.6049,  0.0791,  0.9046],\n",
              "         [ 1.5674, -0.2373, -0.0274,  ...,  0.6049,  0.0791,  0.9046],\n",
              "         ...,\n",
              "         [ 0.5557,  0.4746, -1.3867,  ...,  1.0198, -1.9062, -0.4275],\n",
              "         [-0.5614, -0.1375, -0.1380,  ..., -0.5103,  0.5642,  0.9684],\n",
              "         [-0.9648, -0.2321, -0.3476,  ...,  0.4585,  0.0540, -1.7400]],\n",
              "        grad_fn=<UnbindBackward0>),\n",
              " tensor([[ 1.5674, -0.2373, -0.0274,  ...,  0.6049,  0.0791,  0.9046],\n",
              "         [ 1.5674, -0.2373, -0.0274,  ...,  0.6049,  0.0791,  0.9046],\n",
              "         [-1.2801,  0.0924,  0.1053,  ..., -0.8163, -0.3924, -0.7452],\n",
              "         ...,\n",
              "         [-0.5614, -0.1375, -0.1380,  ..., -0.5103,  0.5642,  0.9684],\n",
              "         [-0.9648, -0.2321, -0.3476,  ...,  0.4585,  0.0540, -1.7400],\n",
              "         [-0.4713,  0.7868, -0.3284,  ..., -1.6261,  0.6772, -0.8404]],\n",
              "        grad_fn=<UnbindBackward0>),\n",
              " tensor([[ 1.5674e+00, -2.3729e-01, -2.7385e-02,  ...,  6.0489e-01,\n",
              "           7.9136e-02,  9.0462e-01],\n",
              "         [-1.2801e+00,  9.2445e-02,  1.0526e-01,  ..., -8.1628e-01,\n",
              "          -3.9243e-01, -7.4521e-01],\n",
              "         [-2.4780e-01,  8.8282e-01, -8.1004e-02,  ..., -1.9295e-01,\n",
              "           1.2348e+00,  3.3308e-01],\n",
              "         ...,\n",
              "         [-9.6478e-01, -2.3211e-01, -3.4762e-01,  ...,  4.5846e-01,\n",
              "           5.4011e-02, -1.7400e+00],\n",
              "         [-4.7125e-01,  7.8682e-01, -3.2843e-01,  ..., -1.6261e+00,\n",
              "           6.7716e-01, -8.4039e-01],\n",
              "         [ 4.6827e-01, -6.5650e-01,  6.1662e-01,  ..., -4.5585e-01,\n",
              "          -1.3132e-03, -5.1161e-01]], grad_fn=<UnbindBackward0>))"
            ]
          },
          "metadata": {},
          "execution_count": 23
        }
      ]
    },
    {
      "cell_type": "code",
      "source": [
        "torch.cat(torch.unbind(emb, 1), 1).shape # we finally have same result as before (but with much better SW engineering practises)"
      ],
      "metadata": {
        "id": "orITpO31WaY8",
        "outputId": "8201c218-cef8-42bb-9914-f4ac59e2d8b2",
        "colab": {
          "base_uri": "https://localhost:8080/"
        }
      },
      "execution_count": 24,
      "outputs": [
        {
          "output_type": "execute_result",
          "data": {
            "text/plain": [
              "torch.Size([182625, 30])"
            ]
          },
          "metadata": {},
          "execution_count": 24
        }
      ]
    },
    {
      "cell_type": "code",
      "source": [
        "a = torch.arange(18)\n",
        "a"
      ],
      "metadata": {
        "id": "FGoJku5GWgOr",
        "outputId": "ca06db6e-65d8-47a9-8d98-c6727d28a771",
        "colab": {
          "base_uri": "https://localhost:8080/"
        }
      },
      "execution_count": 25,
      "outputs": [
        {
          "output_type": "execute_result",
          "data": {
            "text/plain": [
              "tensor([ 0,  1,  2,  3,  4,  5,  6,  7,  8,  9, 10, 11, 12, 13, 14, 15, 16, 17])"
            ]
          },
          "metadata": {},
          "execution_count": 25
        }
      ]
    },
    {
      "cell_type": "code",
      "source": [
        "## EFFICIENTY OF TORCH\n",
        "a.storage() # this is TOrch in memory\n",
        "# TODO: What is the purpose f a.view()?\n"
      ],
      "metadata": {
        "id": "lGQArXBvXFgg",
        "outputId": "0a1716f2-3197-485e-8d06-8cc4e8435cde",
        "colab": {
          "base_uri": "https://localhost:8080/"
        }
      },
      "execution_count": 26,
      "outputs": [
        {
          "output_type": "stream",
          "name": "stderr",
          "text": [
            "<ipython-input-26-1fb01bc2b505>:2: UserWarning: TypedStorage is deprecated. It will be removed in the future and UntypedStorage will be the only storage class. This should only matter to you if you are using storages directly.  To access UntypedStorage directly, use tensor.untyped_storage() instead of tensor.storage()\n",
            "  a.storage() # this is TOrch in memory\n"
          ]
        },
        {
          "output_type": "execute_result",
          "data": {
            "text/plain": [
              " 0\n",
              " 1\n",
              " 2\n",
              " 3\n",
              " 4\n",
              " 5\n",
              " 6\n",
              " 7\n",
              " 8\n",
              " 9\n",
              " 10\n",
              " 11\n",
              " 12\n",
              " 13\n",
              " 14\n",
              " 15\n",
              " 16\n",
              " 17\n",
              "[torch.storage.TypedStorage(dtype=torch.int64, device=cpu) of size 18]"
            ]
          },
          "metadata": {},
          "execution_count": 26
        }
      ]
    },
    {
      "cell_type": "code",
      "source": [
        "print(a.view(9,2)) # representing the 'a' as a different size tensor\n",
        "print(a.view(3,3,2))"
      ],
      "metadata": {
        "colab": {
          "base_uri": "https://localhost:8080/"
        },
        "id": "zEps138TbGOa",
        "outputId": "6a6064d7-cfd5-46b2-d662-2fc246e8973a"
      },
      "execution_count": 27,
      "outputs": [
        {
          "output_type": "stream",
          "name": "stdout",
          "text": [
            "tensor([[ 0,  1],\n",
            "        [ 2,  3],\n",
            "        [ 4,  5],\n",
            "        [ 6,  7],\n",
            "        [ 8,  9],\n",
            "        [10, 11],\n",
            "        [12, 13],\n",
            "        [14, 15],\n",
            "        [16, 17]])\n",
            "tensor([[[ 0,  1],\n",
            "         [ 2,  3],\n",
            "         [ 4,  5]],\n",
            "\n",
            "        [[ 6,  7],\n",
            "         [ 8,  9],\n",
            "         [10, 11]],\n",
            "\n",
            "        [[12, 13],\n",
            "         [14, 15],\n",
            "         [16, 17]]])\n"
          ]
        }
      ]
    },
    {
      "cell_type": "code",
      "source": [
        "# The equality of using the previous approch of concatinating the embeddings and the view() method\n",
        "torch.cat(torch.unbind(emb, 1), 1) == emb.view(182625, 30)"
      ],
      "metadata": {
        "colab": {
          "base_uri": "https://localhost:8080/"
        },
        "id": "GVx9JInJcYyM",
        "outputId": "0d8f5b07-29eb-4af9-c90d-869e2f17d02a"
      },
      "execution_count": 28,
      "outputs": [
        {
          "output_type": "execute_result",
          "data": {
            "text/plain": [
              "tensor([[True, True, True,  ..., True, True, True],\n",
              "        [True, True, True,  ..., True, True, True],\n",
              "        [True, True, True,  ..., True, True, True],\n",
              "        ...,\n",
              "        [True, True, True,  ..., True, True, True],\n",
              "        [True, True, True,  ..., True, True, True],\n",
              "        [True, True, True,  ..., True, True, True]])"
            ]
          },
          "metadata": {},
          "execution_count": 28
        }
      ]
    },
    {
      "cell_type": "code",
      "source": [
        "emb_view_X_dim = 182625\n"
      ],
      "metadata": {
        "id": "FI4Rsg4VfpZd"
      },
      "execution_count": 30,
      "outputs": []
    },
    {
      "cell_type": "code",
      "source": [
        "## Hidden layer\n",
        "Xtr_x_dim = Xtr.shape[0]\n",
        "Xtr_x_dim\n"
      ],
      "metadata": {
        "colab": {
          "base_uri": "https://localhost:8080/"
        },
        "id": "EYgPT9uEfYXH",
        "outputId": "9f2c2eb0-8eb4-4017-8b01-4e71f427fb25"
      },
      "execution_count": 31,
      "outputs": [
        {
          "output_type": "execute_result",
          "data": {
            "text/plain": [
              "182625"
            ]
          },
          "metadata": {},
          "execution_count": 31
        }
      ]
    },
    {
      "cell_type": "code",
      "source": [
        "torch.arange(Xtr_x_dim)"
      ],
      "metadata": {
        "colab": {
          "base_uri": "https://localhost:8080/"
        },
        "id": "lS7esSx7gRIN",
        "outputId": "8f279b20-9d11-4f21-8c0f-7f3d5f8694f0"
      },
      "execution_count": null,
      "outputs": [
        {
          "output_type": "execute_result",
          "data": {
            "text/plain": [
              "tensor([     0,      1,      2,  ..., 182622, 182623, 182624])"
            ]
          },
          "metadata": {},
          "execution_count": 71
        }
      ]
    },
    {
      "cell_type": "code",
      "source": [
        "b_tr = torch.randn(Xtr_x_dim)\n",
        "b_tr.shape"
      ],
      "metadata": {
        "colab": {
          "base_uri": "https://localhost:8080/"
        },
        "id": "jr7FDm-tgb90",
        "outputId": "e1cb4bbc-328e-456a-a1e8-95500ff13e5b"
      },
      "execution_count": 32,
      "outputs": [
        {
          "output_type": "execute_result",
          "data": {
            "text/plain": [
              "torch.Size([182625])"
            ]
          },
          "metadata": {},
          "execution_count": 32
        }
      ]
    },
    {
      "cell_type": "code",
      "source": [
        "emb = C[Xtr]\n",
        "emb.view(-1, Xtr_x_dim)"
      ],
      "metadata": {
        "colab": {
          "base_uri": "https://localhost:8080/"
        },
        "id": "9Nx8mK6fkMYz",
        "outputId": "40cf1b3b-f80d-4c78-8942-497d66d5e53f"
      },
      "execution_count": 33,
      "outputs": [
        {
          "output_type": "execute_result",
          "data": {
            "text/plain": [
              "tensor([[ 1.5674e+00, -2.3729e-01, -2.7385e-02,  ...,  5.1114e-02,\n",
              "          1.3095e+00, -8.0220e-01],\n",
              "        [-8.5042e-01, -1.8068e+00,  1.2523e+00,  ..., -1.1100e+00,\n",
              "         -4.5285e-01, -4.9578e-01],\n",
              "        [ 1.5674e+00, -2.3729e-01, -2.7385e-02,  ..., -1.3799e-01,\n",
              "         -2.0977e+00, -7.9238e-01],\n",
              "        ...,\n",
              "        [-2.9643e-02, -1.5471e+00,  6.0489e-01,  ..., -1.6261e+00,\n",
              "          6.7716e-01, -8.4039e-01],\n",
              "        [-5.6144e-01, -1.3753e-01, -1.3799e-01,  ...,  6.1662e-01,\n",
              "         -6.2197e-01,  5.1007e-01],\n",
              "        [ 1.3563e+00,  2.3445e-01, -4.5585e-01,  ..., -4.5585e-01,\n",
              "         -1.3132e-03, -5.1161e-01]], grad_fn=<ViewBackward0>)"
            ]
          },
          "metadata": {},
          "execution_count": 33
        }
      ]
    },
    {
      "cell_type": "code",
      "source": [
        "### HIDDEN LAYER\n",
        "print(emb.shape)\n",
        "emb_y_z_dim = emb.shape[1]*emb.shape[2]\n",
        "W1 = torch.randn(emb_y_z_dim, W_y_shape)\n",
        "b1 = torch.randn(W_y_shape)\n",
        "print(W1.shape)\n",
        "print(b1.shape)\n",
        "print(emb.view(emb.shape[0], emb_y_z_dim).shape)\n",
        "h = emb.view(emb.shape[0], emb_y_z_dim) @ W1 + b1\n",
        "h = torch.tanh(h)\n",
        "h"
      ],
      "metadata": {
        "colab": {
          "base_uri": "https://localhost:8080/"
        },
        "id": "LEcMxJiLjXeY",
        "outputId": "1bd02d50-cfa3-4cf6-defc-f2a8fbd43b01"
      },
      "execution_count": 50,
      "outputs": [
        {
          "output_type": "stream",
          "name": "stdout",
          "text": [
            "torch.Size([32, 3, 10])\n",
            "torch.Size([30, 100])\n",
            "torch.Size([100])\n",
            "torch.Size([32, 30])\n"
          ]
        },
        {
          "output_type": "execute_result",
          "data": {
            "text/plain": [
              "tensor([[-0.9661,  0.6365,  0.9691,  ...,  0.7493, -0.9999, -0.9999],\n",
              "        [ 0.9992, -0.9997, -0.3215,  ..., -1.0000,  1.0000,  0.9942],\n",
              "        [ 1.0000,  1.0000,  0.9688,  ..., -1.0000, -0.9987,  0.9964],\n",
              "        ...,\n",
              "        [ 0.9786, -0.9794,  0.9999,  ..., -0.9942, -0.9978, -0.4541],\n",
              "        [ 0.9249, -0.9996, -1.0000,  ..., -0.1521, -1.0000, -0.6977],\n",
              "        [ 0.9994, -0.6806, -1.0000,  ...,  0.9955, -1.0000, -0.9992]],\n",
              "       grad_fn=<TanhBackward0>)"
            ]
          },
          "metadata": {},
          "execution_count": 50
        }
      ]
    },
    {
      "cell_type": "code",
      "source": [
        "### OUTPUT LAYER\n",
        "POSSIBLE_CHARS = 27\n",
        "W2 = torch.randn((W_y_shape, POSSIBLE_CHARS))\n",
        "b2 = torch.randn(POSSIBLE_CHARS)"
      ],
      "metadata": {
        "id": "hfNxCgkKr8wb"
      },
      "execution_count": 51,
      "outputs": []
    },
    {
      "cell_type": "code",
      "source": [
        "logits = h @ W2 + b2\n",
        "logits.shape"
      ],
      "metadata": {
        "colab": {
          "base_uri": "https://localhost:8080/"
        },
        "id": "6nMmZUufi9w3",
        "outputId": "3b16c365-0905-4a58-e5a6-26c704fe279b"
      },
      "execution_count": 36,
      "outputs": [
        {
          "output_type": "execute_result",
          "data": {
            "text/plain": [
              "torch.Size([182625, 27])"
            ]
          },
          "metadata": {},
          "execution_count": 36
        }
      ]
    },
    {
      "cell_type": "code",
      "source": [
        "counts = logits.exp()\n",
        "counts.shape"
      ],
      "metadata": {
        "id": "IvWU9dekwaCe",
        "outputId": "874fdc09-957b-4df4-ee0f-4c5fd27217d2",
        "colab": {
          "base_uri": "https://localhost:8080/"
        }
      },
      "execution_count": 37,
      "outputs": [
        {
          "output_type": "execute_result",
          "data": {
            "text/plain": [
              "torch.Size([182625, 27])"
            ]
          },
          "metadata": {},
          "execution_count": 37
        }
      ]
    },
    {
      "cell_type": "code",
      "source": [
        "prob = counts / counts.sum(1, keepdims=True)\n",
        "prob.shape"
      ],
      "metadata": {
        "id": "XkWcMClKwOx7",
        "outputId": "e2338ab5-1da1-4dc1-e869-c3a3b4cf8823",
        "colab": {
          "base_uri": "https://localhost:8080/"
        }
      },
      "execution_count": 38,
      "outputs": [
        {
          "output_type": "execute_result",
          "data": {
            "text/plain": [
              "torch.Size([182625, 27])"
            ]
          },
          "metadata": {},
          "execution_count": 38
        }
      ]
    },
    {
      "cell_type": "code",
      "source": [
        "# see that probs are normalized (= summing to 1)\n",
        "prob[0].sum()"
      ],
      "metadata": {
        "id": "rUjcRjWexBEl",
        "outputId": "bfece70e-d091-4a00-bfa3-2689d8949c2d",
        "colab": {
          "base_uri": "https://localhost:8080/"
        }
      },
      "execution_count": null,
      "outputs": [
        {
          "output_type": "execute_result",
          "data": {
            "text/plain": [
              "tensor(1.0000, grad_fn=<SumBackward0>)"
            ]
          },
          "metadata": {},
          "execution_count": 115
        }
      ]
    },
    {
      "cell_type": "code",
      "source": [
        "## PREDICTING THE Y"
      ],
      "metadata": {
        "id": "ZOwP7_92x0Ct"
      },
      "execution_count": 39,
      "outputs": []
    },
    {
      "cell_type": "code",
      "source": [
        "# Reminder of the main goal: we want to predict the Y\n",
        "Ytr\n",
        "Ytr.shape"
      ],
      "metadata": {
        "colab": {
          "base_uri": "https://localhost:8080/"
        },
        "id": "aKOUv98pg79M",
        "outputId": "fc9293c2-694b-4a30-e4ab-f04b182edb63"
      },
      "execution_count": 40,
      "outputs": [
        {
          "output_type": "execute_result",
          "data": {
            "text/plain": [
              "torch.Size([182625])"
            ]
          },
          "metadata": {},
          "execution_count": 40
        }
      ]
    },
    {
      "cell_type": "code",
      "source": [
        "# Like in the case of Bigrams lang. model, we want to index each row ang plug out the correct probability for the given character\n",
        "rows_indexes = torch.arange(Ytr.shape[0]) # This will select the necessary rows\n",
        "rows_indexes"
      ],
      "metadata": {
        "id": "OnDBevhqwr2p",
        "outputId": "2fcf85c6-87f0-4559-a015-3b5ed3dcbd63",
        "colab": {
          "base_uri": "https://localhost:8080/"
        }
      },
      "execution_count": null,
      "outputs": [
        {
          "output_type": "execute_result",
          "data": {
            "text/plain": [
              "tensor([     0,      1,      2,  ..., 182622, 182623, 182624])"
            ]
          },
          "metadata": {},
          "execution_count": 124
        }
      ]
    },
    {
      "cell_type": "code",
      "source": [
        "prob[rows_indexes, Ytr]\n",
        "# You can see very low probabilities here. But we haven't trained the network yet, so this is expected."
      ],
      "metadata": {
        "id": "RhZ-A4PzyCgY",
        "outputId": "16a84888-894c-4a43-8860-a261abd851cc",
        "colab": {
          "base_uri": "https://localhost:8080/"
        }
      },
      "execution_count": null,
      "outputs": [
        {
          "output_type": "execute_result",
          "data": {
            "text/plain": [
              "tensor([4.0319e-12, 1.6939e-16, 1.2945e-06,  ..., 4.8899e-13, 3.1018e-16,\n",
              "        7.7022e-01], grad_fn=<IndexBackward0>)"
            ]
          },
          "metadata": {},
          "execution_count": 126
        }
      ]
    },
    {
      "cell_type": "code",
      "source": [
        "loss = -prob[rows_indexes, Ytr].log().mean()\n",
        "loss"
      ],
      "metadata": {
        "id": "96vyRbi2y84Y",
        "outputId": "cb9ab61d-6e39-4595-ef02-2a2678c1eb3f",
        "colab": {
          "base_uri": "https://localhost:8080/"
        }
      },
      "execution_count": null,
      "outputs": [
        {
          "output_type": "execute_result",
          "data": {
            "text/plain": [
              "tensor(18.8370, grad_fn=<NegBackward0>)"
            ]
          },
          "metadata": {},
          "execution_count": 127
        }
      ]
    },
    {
      "cell_type": "code",
      "source": [
        "lri = []\n",
        "lossi = []\n",
        "stepi = []"
      ],
      "metadata": {
        "id": "t2huuyTudBlF"
      },
      "execution_count": null,
      "outputs": []
    },
    {
      "cell_type": "code",
      "source": [
        "for i in range(1000):\n",
        "\n",
        "  # minibatch construct\n",
        "  ix = torch.randint(0, Xtr.shape[0], (32,))\n",
        "\n",
        "  # forward pass\n",
        "  emb = C[Xtr[ix]] # (32, 3, 2)\n",
        "  h = torch.tanh(emb.view(-1, 30) @ W1 + b1) # (32, 100)\n",
        "  logits = h @ W2 + b2 # (32, 27)\n",
        "  # Old way:\n",
        "  \"\"\"\n",
        "  rows_indexes = torch.arange(Ytr[ix].shape[0])\n",
        "  counts = logits.exp()\n",
        "  prob = counts / counts.sum(1, keepdims=True)\n",
        "  loss = -prob[rows_indexes, Ytr[ix]].log().mean()\n",
        "  \"\"\"\n",
        "  # New way:\n",
        "  loss = F.cross_entropy(logits, Ytr[ix])\n",
        "\n",
        "  print(loss.item())\n",
        "\n",
        "  # backward pass\n",
        "  for p in parameters:\n",
        "    p.grad = None\n",
        "  loss.backward()\n",
        "\n",
        "\n",
        "\n"
      ],
      "metadata": {
        "id": "DFOrEI5azwEt",
        "outputId": "1b0584cf-5e9a-469f-8d52-c1fc156416c1",
        "colab": {
          "base_uri": "https://localhost:8080/"
        }
      },
      "execution_count": 52,
      "outputs": [
        {
          "output_type": "stream",
          "name": "stdout",
          "text": [
            "19.54763412475586\n",
            "22.31546401977539\n",
            "18.004554748535156\n",
            "18.959138870239258\n",
            "19.146635055541992\n",
            "18.883941650390625\n",
            "19.312782287597656\n",
            "17.81365966796875\n",
            "17.785146713256836\n",
            "20.282466888427734\n",
            "18.992061614990234\n",
            "16.4956111907959\n",
            "17.445119857788086\n",
            "17.30679702758789\n",
            "17.776113510131836\n",
            "19.721220016479492\n",
            "21.28794288635254\n",
            "20.180194854736328\n",
            "19.746931076049805\n",
            "15.25900936126709\n",
            "15.391290664672852\n",
            "19.12989044189453\n",
            "17.365997314453125\n",
            "20.478271484375\n",
            "16.036571502685547\n",
            "19.67639923095703\n",
            "20.010913848876953\n",
            "20.762540817260742\n",
            "19.05402374267578\n",
            "22.563697814941406\n",
            "15.967818260192871\n",
            "19.00424575805664\n",
            "19.591777801513672\n",
            "17.434804916381836\n",
            "20.799087524414062\n",
            "17.561174392700195\n",
            "17.300615310668945\n",
            "17.794889450073242\n",
            "14.515981674194336\n",
            "16.375030517578125\n",
            "19.243648529052734\n",
            "20.420190811157227\n",
            "21.273897171020508\n",
            "20.131587982177734\n",
            "18.583538055419922\n",
            "18.330127716064453\n",
            "19.441526412963867\n",
            "18.867435455322266\n",
            "18.187461853027344\n",
            "18.405324935913086\n",
            "17.784101486206055\n",
            "16.047809600830078\n",
            "17.483903884887695\n",
            "20.08163070678711\n",
            "16.852676391601562\n",
            "17.623558044433594\n",
            "18.68276023864746\n",
            "22.310457229614258\n",
            "19.48016357421875\n",
            "21.989561080932617\n",
            "17.75172233581543\n",
            "18.221878051757812\n",
            "19.51105308532715\n",
            "20.04859161376953\n",
            "18.595630645751953\n",
            "18.37433433532715\n",
            "16.635644912719727\n",
            "17.722553253173828\n",
            "17.38662338256836\n",
            "19.06303596496582\n",
            "15.665569305419922\n",
            "20.60796356201172\n",
            "19.949331283569336\n",
            "20.452329635620117\n",
            "22.535192489624023\n",
            "19.657745361328125\n",
            "17.00371742248535\n",
            "17.85922622680664\n",
            "18.795576095581055\n",
            "18.89527130126953\n",
            "19.670162200927734\n",
            "21.92995262145996\n",
            "17.82857322692871\n",
            "21.552078247070312\n",
            "22.9660587310791\n",
            "15.858983039855957\n",
            "17.15425682067871\n",
            "19.972028732299805\n",
            "19.688934326171875\n",
            "21.853923797607422\n",
            "17.58400535583496\n",
            "20.488128662109375\n",
            "19.075965881347656\n",
            "19.23674774169922\n",
            "18.124502182006836\n",
            "17.16364288330078\n",
            "17.128286361694336\n",
            "22.413555145263672\n",
            "21.358901977539062\n",
            "19.480667114257812\n",
            "15.854477882385254\n",
            "20.24750328063965\n",
            "20.013856887817383\n",
            "16.746936798095703\n",
            "16.610267639160156\n",
            "17.969667434692383\n",
            "14.751191139221191\n",
            "16.92091941833496\n",
            "15.267163276672363\n",
            "19.099443435668945\n",
            "17.484548568725586\n",
            "16.477373123168945\n",
            "18.60438346862793\n",
            "18.410755157470703\n",
            "18.277660369873047\n",
            "19.166547775268555\n",
            "17.15060043334961\n",
            "16.5820369720459\n",
            "16.12969398498535\n",
            "19.081947326660156\n",
            "19.765579223632812\n",
            "20.304302215576172\n",
            "22.40436363220215\n",
            "18.393020629882812\n",
            "20.17532730102539\n",
            "19.596773147583008\n",
            "22.60113525390625\n",
            "16.97080421447754\n",
            "18.34857940673828\n",
            "16.43442153930664\n",
            "18.31866455078125\n",
            "20.536136627197266\n",
            "21.773536682128906\n",
            "15.718570709228516\n",
            "20.239158630371094\n",
            "16.503620147705078\n",
            "20.193984985351562\n",
            "21.90597152709961\n",
            "18.487558364868164\n",
            "18.620676040649414\n",
            "18.750524520874023\n",
            "19.25792694091797\n",
            "16.882549285888672\n",
            "18.56416130065918\n",
            "18.808862686157227\n",
            "18.128332138061523\n",
            "17.34503746032715\n",
            "16.70428466796875\n",
            "17.507205963134766\n",
            "18.741703033447266\n",
            "17.81180763244629\n",
            "18.35990333557129\n",
            "18.897260665893555\n",
            "20.18160629272461\n",
            "18.60079574584961\n",
            "18.206697463989258\n",
            "20.16207504272461\n",
            "16.916688919067383\n",
            "17.147136688232422\n",
            "20.134960174560547\n",
            "18.819015502929688\n",
            "20.07653045654297\n",
            "19.65411949157715\n",
            "20.030982971191406\n",
            "18.992467880249023\n",
            "17.94170379638672\n",
            "19.687891006469727\n",
            "18.63067054748535\n",
            "21.77141571044922\n",
            "17.31769371032715\n",
            "14.305157661437988\n",
            "18.803936004638672\n",
            "19.067373275756836\n",
            "15.829984664916992\n",
            "18.270837783813477\n",
            "17.742706298828125\n",
            "18.91900062561035\n",
            "18.229841232299805\n",
            "17.129329681396484\n",
            "17.39695930480957\n",
            "20.333343505859375\n",
            "18.791038513183594\n",
            "17.51923942565918\n",
            "16.799150466918945\n",
            "19.61727523803711\n",
            "17.44591522216797\n",
            "19.188739776611328\n",
            "15.97038745880127\n",
            "17.10101318359375\n",
            "19.954334259033203\n",
            "19.19068145751953\n",
            "20.346120834350586\n",
            "17.212141036987305\n",
            "17.694875717163086\n",
            "17.57843780517578\n",
            "16.95560073852539\n",
            "16.686424255371094\n",
            "15.893338203430176\n",
            "17.223642349243164\n",
            "19.25946617126465\n",
            "16.616159439086914\n",
            "17.0478515625\n",
            "18.048274993896484\n",
            "21.296348571777344\n",
            "18.36016082763672\n",
            "18.0476016998291\n",
            "17.941303253173828\n",
            "18.70572280883789\n",
            "21.917152404785156\n",
            "18.797863006591797\n",
            "18.41477394104004\n",
            "18.564706802368164\n",
            "19.91867446899414\n",
            "21.4835262298584\n",
            "16.4957275390625\n",
            "19.59124755859375\n",
            "22.080312728881836\n",
            "22.17336654663086\n",
            "15.521626472473145\n",
            "19.930789947509766\n",
            "18.206281661987305\n",
            "18.893238067626953\n",
            "15.603215217590332\n",
            "20.3208065032959\n",
            "21.210716247558594\n",
            "20.9307861328125\n",
            "19.914968490600586\n",
            "17.39295768737793\n",
            "19.581357955932617\n",
            "17.418867111206055\n",
            "23.45100975036621\n",
            "17.470911026000977\n",
            "18.369050979614258\n",
            "17.248807907104492\n",
            "18.700199127197266\n",
            "20.910938262939453\n",
            "18.019960403442383\n",
            "19.87123680114746\n",
            "17.860450744628906\n",
            "17.99797248840332\n",
            "16.848142623901367\n",
            "20.342510223388672\n",
            "19.776765823364258\n",
            "17.75006866455078\n",
            "16.961929321289062\n",
            "18.495336532592773\n",
            "18.26849937438965\n",
            "18.617128372192383\n",
            "20.09464454650879\n",
            "23.248620986938477\n",
            "19.660825729370117\n",
            "20.496171951293945\n",
            "20.452590942382812\n",
            "20.501800537109375\n",
            "18.28848648071289\n",
            "21.02603530883789\n",
            "16.43460464477539\n",
            "18.491403579711914\n",
            "16.47234344482422\n",
            "18.121337890625\n",
            "14.190399169921875\n",
            "19.990074157714844\n",
            "19.745086669921875\n",
            "18.08045768737793\n",
            "19.66437339782715\n",
            "19.478897094726562\n",
            "17.370803833007812\n",
            "16.827510833740234\n",
            "19.963905334472656\n",
            "20.141666412353516\n",
            "18.027217864990234\n",
            "18.039772033691406\n",
            "19.559288024902344\n",
            "17.038177490234375\n",
            "17.39023780822754\n",
            "18.545654296875\n",
            "17.136449813842773\n",
            "19.413728713989258\n",
            "19.876256942749023\n",
            "17.567201614379883\n",
            "18.537729263305664\n",
            "21.236040115356445\n",
            "18.881778717041016\n",
            "18.5803279876709\n",
            "19.436269760131836\n",
            "19.07731819152832\n",
            "17.920900344848633\n",
            "19.433612823486328\n",
            "14.492853164672852\n",
            "20.044387817382812\n",
            "16.036075592041016\n",
            "16.67678451538086\n",
            "20.584592819213867\n",
            "21.228193283081055\n",
            "19.18784523010254\n",
            "18.323806762695312\n",
            "19.522798538208008\n",
            "19.603246688842773\n",
            "20.067798614501953\n",
            "19.315305709838867\n",
            "18.943029403686523\n",
            "15.463615417480469\n",
            "16.58340072631836\n",
            "16.110305786132812\n",
            "20.10576057434082\n",
            "19.458608627319336\n",
            "17.614055633544922\n",
            "21.099138259887695\n",
            "19.51787567138672\n",
            "19.802627563476562\n",
            "17.311052322387695\n",
            "19.813323974609375\n",
            "19.794578552246094\n",
            "18.986536026000977\n",
            "17.062875747680664\n",
            "17.998470306396484\n",
            "16.298612594604492\n",
            "18.93889808654785\n",
            "19.97474479675293\n",
            "17.6871280670166\n",
            "17.567800521850586\n",
            "16.83905029296875\n",
            "24.62150764465332\n",
            "19.997167587280273\n",
            "18.49675178527832\n",
            "18.247896194458008\n",
            "19.74151039123535\n",
            "19.193836212158203\n",
            "18.186513900756836\n",
            "19.323848724365234\n",
            "19.843608856201172\n",
            "18.71564483642578\n",
            "18.04317855834961\n",
            "17.087814331054688\n",
            "15.5868558883667\n",
            "18.397035598754883\n",
            "16.420700073242188\n",
            "19.3320369720459\n",
            "20.90485191345215\n",
            "17.27655792236328\n",
            "16.71747398376465\n",
            "18.25056266784668\n",
            "20.805166244506836\n",
            "18.76395034790039\n",
            "19.65371322631836\n",
            "17.071157455444336\n",
            "19.699974060058594\n",
            "19.321916580200195\n",
            "17.242128372192383\n",
            "15.691329002380371\n",
            "22.474578857421875\n",
            "17.57984161376953\n",
            "15.145668029785156\n",
            "19.028635025024414\n",
            "14.572549819946289\n",
            "19.415075302124023\n",
            "18.397064208984375\n",
            "21.5072021484375\n",
            "17.796165466308594\n",
            "18.047039031982422\n",
            "17.415149688720703\n",
            "17.696102142333984\n",
            "20.79042625427246\n",
            "19.74117088317871\n",
            "16.764453887939453\n",
            "21.29502296447754\n",
            "19.864572525024414\n",
            "17.563196182250977\n",
            "17.1442928314209\n",
            "18.679105758666992\n",
            "20.220401763916016\n",
            "17.88496971130371\n",
            "18.418806076049805\n",
            "19.079967498779297\n",
            "20.14222526550293\n",
            "20.17147445678711\n",
            "18.733993530273438\n",
            "17.7139949798584\n",
            "20.705135345458984\n",
            "17.065093994140625\n",
            "20.60010528564453\n",
            "18.63132095336914\n",
            "19.53601837158203\n",
            "19.17385482788086\n",
            "19.966047286987305\n",
            "20.493471145629883\n",
            "18.174800872802734\n",
            "16.22873878479004\n",
            "20.39411735534668\n",
            "21.136558532714844\n",
            "18.566675186157227\n",
            "17.670835494995117\n",
            "17.445894241333008\n",
            "15.887626647949219\n",
            "18.256006240844727\n",
            "19.547109603881836\n",
            "15.625736236572266\n",
            "16.225160598754883\n",
            "19.352401733398438\n",
            "18.914289474487305\n",
            "19.676979064941406\n",
            "18.107486724853516\n",
            "16.753313064575195\n",
            "20.28597068786621\n",
            "15.715413093566895\n",
            "18.227598190307617\n",
            "19.316425323486328\n",
            "17.93790626525879\n",
            "17.962182998657227\n",
            "20.500606536865234\n",
            "15.998787879943848\n",
            "21.497051239013672\n",
            "18.697895050048828\n",
            "18.28883171081543\n",
            "20.758893966674805\n",
            "18.255191802978516\n",
            "18.592220306396484\n",
            "19.412546157836914\n",
            "22.056909561157227\n",
            "16.3404541015625\n",
            "16.296607971191406\n",
            "20.745954513549805\n",
            "19.886655807495117\n",
            "18.350505828857422\n",
            "18.364473342895508\n",
            "14.750866889953613\n",
            "17.15177345275879\n",
            "18.523807525634766\n",
            "16.321218490600586\n",
            "16.223892211914062\n",
            "15.728281021118164\n",
            "15.489006996154785\n",
            "18.631908416748047\n",
            "16.087623596191406\n",
            "18.10968780517578\n",
            "19.11955451965332\n",
            "18.446659088134766\n",
            "19.2321720123291\n",
            "19.36893653869629\n",
            "20.467069625854492\n",
            "18.525651931762695\n",
            "20.66499900817871\n",
            "18.210796356201172\n",
            "18.410640716552734\n",
            "20.68549346923828\n",
            "20.584566116333008\n",
            "20.04739761352539\n",
            "17.34642791748047\n",
            "21.19161033630371\n",
            "18.19513702392578\n",
            "17.280502319335938\n",
            "15.63864517211914\n",
            "16.265132904052734\n",
            "18.45023536682129\n",
            "17.59580421447754\n",
            "18.053306579589844\n",
            "18.246917724609375\n",
            "17.143203735351562\n",
            "17.904626846313477\n",
            "18.15361976623535\n",
            "16.55126190185547\n",
            "21.738922119140625\n",
            "17.415279388427734\n",
            "16.05425262451172\n",
            "17.436147689819336\n",
            "18.984861373901367\n",
            "17.05127716064453\n",
            "17.806983947753906\n",
            "17.875286102294922\n",
            "20.47263526916504\n",
            "18.431589126586914\n",
            "18.81673240661621\n",
            "18.81534194946289\n",
            "19.62262725830078\n",
            "20.422239303588867\n",
            "19.59023094177246\n",
            "18.990814208984375\n",
            "20.537519454956055\n",
            "15.768097877502441\n",
            "15.362271308898926\n",
            "16.479053497314453\n",
            "18.337413787841797\n",
            "17.977432250976562\n",
            "18.608144760131836\n",
            "18.137605667114258\n",
            "22.622406005859375\n",
            "20.71277618408203\n",
            "17.258752822875977\n",
            "22.124135971069336\n",
            "20.413127899169922\n",
            "19.86793327331543\n",
            "18.866252899169922\n",
            "18.32720947265625\n",
            "17.99345588684082\n",
            "18.762802124023438\n",
            "18.887102127075195\n",
            "18.221513748168945\n",
            "16.114118576049805\n",
            "21.094310760498047\n",
            "17.22062873840332\n",
            "18.981365203857422\n",
            "16.05116844177246\n",
            "17.695261001586914\n",
            "17.249492645263672\n",
            "17.75775718688965\n",
            "15.634261131286621\n",
            "17.747682571411133\n",
            "16.65280532836914\n",
            "17.366199493408203\n",
            "18.18806266784668\n",
            "17.137741088867188\n",
            "17.78618049621582\n",
            "21.002622604370117\n",
            "20.228111267089844\n",
            "18.112459182739258\n",
            "18.069108963012695\n",
            "19.14350128173828\n",
            "17.13559341430664\n",
            "22.3898868560791\n",
            "17.104001998901367\n",
            "18.273324966430664\n",
            "18.600597381591797\n",
            "16.647104263305664\n",
            "19.262752532958984\n",
            "17.810937881469727\n",
            "18.1337890625\n",
            "18.582454681396484\n",
            "16.49031639099121\n",
            "16.764421463012695\n",
            "21.711719512939453\n",
            "21.71442413330078\n",
            "19.203632354736328\n",
            "19.678829193115234\n",
            "18.607807159423828\n",
            "20.501340866088867\n",
            "17.25838851928711\n",
            "16.95200538635254\n",
            "18.331707000732422\n",
            "18.997573852539062\n",
            "18.192726135253906\n",
            "17.04332160949707\n",
            "20.66471290588379\n",
            "15.913030624389648\n",
            "18.7198486328125\n",
            "21.57821273803711\n",
            "16.23674201965332\n",
            "21.895679473876953\n",
            "19.615299224853516\n",
            "22.7144718170166\n",
            "18.923221588134766\n",
            "17.60543441772461\n",
            "18.16492462158203\n",
            "19.751813888549805\n",
            "20.390295028686523\n",
            "19.22909927368164\n",
            "22.749696731567383\n",
            "17.912384033203125\n",
            "21.081998825073242\n",
            "18.747499465942383\n",
            "17.69076156616211\n",
            "19.775123596191406\n",
            "15.843819618225098\n",
            "20.112110137939453\n",
            "19.885086059570312\n",
            "18.547815322875977\n",
            "17.483837127685547\n",
            "16.018306732177734\n",
            "19.751079559326172\n",
            "15.64089584350586\n",
            "18.184677124023438\n",
            "21.82097625732422\n",
            "20.534744262695312\n",
            "18.815759658813477\n",
            "17.99632453918457\n",
            "15.499218940734863\n",
            "16.422195434570312\n",
            "19.777286529541016\n",
            "17.99425506591797\n",
            "19.553617477416992\n",
            "19.534120559692383\n",
            "22.09499740600586\n",
            "19.721813201904297\n",
            "17.866661071777344\n",
            "22.510459899902344\n",
            "18.693099975585938\n",
            "16.506546020507812\n",
            "19.95795440673828\n",
            "16.435110092163086\n",
            "17.827301025390625\n",
            "18.512155532836914\n",
            "18.57579231262207\n",
            "18.60528564453125\n",
            "20.773221969604492\n",
            "13.42357063293457\n",
            "20.02633285522461\n",
            "20.077930450439453\n",
            "20.191635131835938\n",
            "19.773670196533203\n",
            "20.481473922729492\n",
            "19.946598052978516\n",
            "15.313796997070312\n",
            "18.185104370117188\n",
            "18.428985595703125\n",
            "18.779075622558594\n",
            "16.926786422729492\n",
            "18.79545783996582\n",
            "17.352785110473633\n",
            "18.700191497802734\n",
            "19.892629623413086\n",
            "19.49386215209961\n",
            "17.956857681274414\n",
            "16.542491912841797\n",
            "21.565080642700195\n",
            "17.246267318725586\n",
            "17.89364242553711\n",
            "18.754878997802734\n",
            "18.21297836303711\n",
            "17.44961929321289\n",
            "17.93150520324707\n",
            "16.178722381591797\n",
            "16.194286346435547\n",
            "16.932479858398438\n",
            "16.808696746826172\n",
            "18.91353416442871\n",
            "18.841156005859375\n",
            "18.485111236572266\n",
            "19.50115203857422\n",
            "18.80322265625\n",
            "15.676913261413574\n",
            "20.043567657470703\n",
            "18.957876205444336\n",
            "17.919456481933594\n",
            "19.212682723999023\n",
            "20.44490623474121\n",
            "18.386686325073242\n",
            "21.057083129882812\n",
            "18.70561408996582\n",
            "14.646215438842773\n",
            "14.332693099975586\n",
            "17.36234474182129\n",
            "17.338623046875\n",
            "19.61444091796875\n",
            "19.568628311157227\n",
            "17.17381477355957\n",
            "18.623764038085938\n",
            "19.691913604736328\n",
            "17.697036743164062\n",
            "20.900157928466797\n",
            "20.528114318847656\n",
            "19.26621437072754\n",
            "18.152467727661133\n",
            "16.293811798095703\n",
            "17.104326248168945\n",
            "14.137441635131836\n",
            "18.45071029663086\n",
            "21.001977920532227\n",
            "21.338579177856445\n",
            "19.519420623779297\n",
            "18.23000717163086\n",
            "19.84259796142578\n",
            "18.469690322875977\n",
            "17.996469497680664\n",
            "18.155534744262695\n",
            "18.9838924407959\n",
            "18.219741821289062\n",
            "17.37628746032715\n",
            "16.797470092773438\n",
            "18.801427841186523\n",
            "17.483701705932617\n",
            "16.7861328125\n",
            "16.304677963256836\n",
            "18.56925392150879\n",
            "18.598079681396484\n",
            "21.71651840209961\n",
            "18.09056282043457\n",
            "17.57779884338379\n",
            "18.45937156677246\n",
            "18.887466430664062\n",
            "17.835128784179688\n",
            "17.915918350219727\n",
            "18.263261795043945\n",
            "18.701143264770508\n",
            "19.803293228149414\n",
            "17.566028594970703\n",
            "17.61997413635254\n",
            "20.996496200561523\n",
            "14.987180709838867\n",
            "16.992788314819336\n",
            "23.30280303955078\n",
            "19.55307960510254\n",
            "21.140886306762695\n",
            "17.87457275390625\n",
            "16.515914916992188\n",
            "17.395015716552734\n",
            "18.637035369873047\n",
            "17.25655746459961\n",
            "20.54953384399414\n",
            "18.119293212890625\n",
            "19.490108489990234\n",
            "18.603958129882812\n",
            "20.403825759887695\n",
            "16.906984329223633\n",
            "19.981922149658203\n",
            "13.369705200195312\n",
            "20.228618621826172\n",
            "21.046659469604492\n",
            "16.887243270874023\n",
            "17.903518676757812\n",
            "18.49158477783203\n",
            "20.457481384277344\n",
            "17.243833541870117\n",
            "19.852745056152344\n",
            "20.21380615234375\n",
            "19.58977508544922\n",
            "20.074922561645508\n",
            "19.5804443359375\n",
            "21.30307960510254\n",
            "18.960796356201172\n",
            "17.17157554626465\n",
            "17.07818603515625\n",
            "18.215444564819336\n",
            "19.36867904663086\n",
            "18.731422424316406\n",
            "20.507293701171875\n",
            "15.486428260803223\n",
            "17.226293563842773\n",
            "16.487642288208008\n",
            "17.448984146118164\n",
            "18.724443435668945\n",
            "17.050905227661133\n",
            "22.361421585083008\n",
            "16.857694625854492\n",
            "20.3403377532959\n",
            "18.53542137145996\n",
            "20.39879608154297\n",
            "18.15862464904785\n",
            "19.387950897216797\n",
            "17.33254623413086\n",
            "17.307498931884766\n",
            "20.444215774536133\n",
            "20.014305114746094\n",
            "20.94244384765625\n",
            "18.31515121459961\n",
            "16.226531982421875\n",
            "16.51861572265625\n",
            "21.542871475219727\n",
            "19.498394012451172\n",
            "17.69037437438965\n",
            "17.844444274902344\n",
            "18.548107147216797\n",
            "17.7705135345459\n",
            "20.597482681274414\n",
            "17.530574798583984\n",
            "16.778234481811523\n",
            "19.007131576538086\n",
            "20.822622299194336\n",
            "16.94512367248535\n",
            "17.383398056030273\n",
            "17.26352310180664\n",
            "20.60964584350586\n",
            "20.122411727905273\n",
            "20.07342529296875\n",
            "17.67043113708496\n",
            "21.268815994262695\n",
            "20.550514221191406\n",
            "21.54982566833496\n",
            "19.779129028320312\n",
            "19.946533203125\n",
            "18.892995834350586\n",
            "19.315000534057617\n",
            "18.832271575927734\n",
            "19.837013244628906\n",
            "19.530973434448242\n",
            "15.875869750976562\n",
            "18.2026309967041\n",
            "19.674787521362305\n",
            "18.040132522583008\n",
            "15.964127540588379\n",
            "15.83560562133789\n",
            "18.826400756835938\n",
            "15.935938835144043\n",
            "17.09241485595703\n",
            "20.093666076660156\n",
            "20.659286499023438\n",
            "17.3032283782959\n",
            "17.924348831176758\n",
            "17.91731071472168\n",
            "15.565400123596191\n",
            "21.93310546875\n",
            "18.61374282836914\n",
            "22.04420280456543\n",
            "18.78921127319336\n",
            "15.63900089263916\n",
            "18.419086456298828\n",
            "18.633255004882812\n",
            "20.554792404174805\n",
            "16.572107315063477\n",
            "16.979656219482422\n",
            "17.58985137939453\n",
            "19.91269874572754\n",
            "18.050554275512695\n",
            "16.540712356567383\n",
            "15.501240730285645\n",
            "17.7560977935791\n",
            "19.833742141723633\n",
            "17.635955810546875\n",
            "19.846424102783203\n",
            "19.899547576904297\n",
            "15.705412864685059\n",
            "17.118270874023438\n",
            "19.147607803344727\n",
            "20.810108184814453\n",
            "18.815242767333984\n",
            "20.646665573120117\n",
            "20.26833152770996\n",
            "18.13838768005371\n",
            "16.945608139038086\n",
            "17.72328758239746\n",
            "17.877037048339844\n",
            "22.385330200195312\n",
            "19.12603759765625\n",
            "16.290603637695312\n",
            "17.9102840423584\n",
            "18.368972778320312\n",
            "18.648103713989258\n",
            "18.040115356445312\n",
            "19.2807559967041\n",
            "20.438352584838867\n",
            "18.77813720703125\n",
            "17.07478141784668\n",
            "20.029979705810547\n",
            "18.46379852294922\n",
            "21.497655868530273\n",
            "17.293384552001953\n",
            "19.525056838989258\n",
            "16.701343536376953\n",
            "20.90647315979004\n",
            "19.490732192993164\n",
            "19.56911849975586\n",
            "18.8992862701416\n",
            "18.53860092163086\n",
            "19.28384017944336\n",
            "20.302675247192383\n",
            "18.77872085571289\n",
            "17.339893341064453\n",
            "22.379871368408203\n",
            "17.741107940673828\n",
            "16.167240142822266\n",
            "18.439571380615234\n",
            "21.86393928527832\n",
            "17.223119735717773\n",
            "18.774145126342773\n",
            "20.548494338989258\n",
            "18.568185806274414\n",
            "17.84990119934082\n",
            "21.093732833862305\n",
            "19.497175216674805\n",
            "16.487773895263672\n",
            "18.974895477294922\n",
            "16.694198608398438\n",
            "22.274169921875\n",
            "17.51329803466797\n",
            "17.765548706054688\n",
            "19.50541877746582\n",
            "17.502307891845703\n",
            "20.24793243408203\n",
            "18.79569435119629\n",
            "17.807973861694336\n",
            "21.63292694091797\n",
            "17.472370147705078\n",
            "17.915145874023438\n",
            "19.253311157226562\n",
            "15.02255630493164\n",
            "16.967729568481445\n",
            "19.017606735229492\n",
            "20.176084518432617\n",
            "18.849000930786133\n",
            "18.137027740478516\n",
            "17.666179656982422\n",
            "19.47987937927246\n",
            "19.389219284057617\n",
            "19.248977661132812\n",
            "21.05316734313965\n",
            "15.330399513244629\n",
            "18.445270538330078\n",
            "18.546754837036133\n",
            "19.748613357543945\n",
            "14.245804786682129\n",
            "20.98734474182129\n",
            "18.85891342163086\n",
            "18.500547409057617\n",
            "17.41616439819336\n",
            "18.958332061767578\n",
            "16.59574317932129\n",
            "21.15021324157715\n",
            "16.694576263427734\n",
            "21.61407470703125\n",
            "20.39378547668457\n",
            "18.797195434570312\n",
            "20.470691680908203\n",
            "17.465213775634766\n",
            "20.111862182617188\n",
            "16.371200561523438\n",
            "18.615053176879883\n",
            "21.289413452148438\n",
            "17.313692092895508\n",
            "17.697586059570312\n",
            "17.806915283203125\n",
            "19.06102752685547\n",
            "16.791250228881836\n",
            "14.0057954788208\n",
            "18.19179344177246\n",
            "19.27708625793457\n",
            "20.53110122680664\n",
            "18.410032272338867\n",
            "16.764751434326172\n",
            "18.416030883789062\n",
            "21.285358428955078\n",
            "16.118371963500977\n",
            "18.54587173461914\n",
            "22.212125778198242\n",
            "17.289579391479492\n",
            "18.21514129638672\n",
            "18.972410202026367\n",
            "17.936906814575195\n",
            "18.19732666015625\n",
            "22.26648712158203\n",
            "16.714893341064453\n",
            "18.30565643310547\n",
            "17.15861701965332\n",
            "18.462068557739258\n",
            "18.409709930419922\n",
            "20.0432186126709\n",
            "18.183061599731445\n",
            "16.335758209228516\n",
            "16.207271575927734\n",
            "18.70970344543457\n",
            "20.12941551208496\n",
            "20.294536590576172\n",
            "15.91463851928711\n",
            "18.66944694519043\n",
            "21.713232040405273\n",
            "18.812002182006836\n",
            "16.354822158813477\n",
            "20.95726203918457\n",
            "19.275306701660156\n",
            "18.880496978759766\n",
            "18.307674407958984\n",
            "17.443925857543945\n",
            "16.98396873474121\n",
            "18.393320083618164\n",
            "20.7896785736084\n",
            "19.47428321838379\n",
            "18.7665958404541\n",
            "15.978304862976074\n",
            "19.455678939819336\n",
            "19.42594337463379\n",
            "18.891258239746094\n",
            "20.56870460510254\n",
            "18.244590759277344\n",
            "16.05716896057129\n",
            "19.277685165405273\n",
            "17.9833927154541\n",
            "21.616844177246094\n",
            "19.23712730407715\n",
            "18.136310577392578\n",
            "20.930713653564453\n",
            "19.394649505615234\n",
            "19.413806915283203\n",
            "17.37782096862793\n",
            "17.947803497314453\n",
            "18.85379409790039\n",
            "19.934558868408203\n",
            "19.43822479248047\n",
            "18.26870346069336\n",
            "22.306819915771484\n",
            "20.1079044342041\n",
            "16.6464786529541\n",
            "16.03803825378418\n",
            "19.762182235717773\n",
            "17.317869186401367\n",
            "18.548748016357422\n",
            "18.314128875732422\n",
            "18.492137908935547\n",
            "23.63291358947754\n",
            "15.472163200378418\n",
            "19.573259353637695\n",
            "17.114341735839844\n",
            "19.253498077392578\n",
            "18.00325584411621\n",
            "20.52524757385254\n",
            "20.180679321289062\n",
            "18.666576385498047\n",
            "18.891212463378906\n",
            "18.404232025146484\n",
            "15.725690841674805\n",
            "21.48428726196289\n",
            "20.081241607666016\n",
            "18.048566818237305\n",
            "20.495630264282227\n"
          ]
        }
      ]
    },
    {
      "cell_type": "code",
      "source": [],
      "metadata": {
        "id": "BAe6JFRX3-eK"
      },
      "execution_count": 91,
      "outputs": []
    },
    {
      "cell_type": "code",
      "source": [
        "parameters = [C, W1, b1, W2, b2]\n",
        "for p in parameters:\n",
        "  print(p.shape)"
      ],
      "metadata": {
        "id": "IM-S5sV35Vrn",
        "outputId": "1570cfa3-ceee-48a3-95b5-f5c7d891b0d0",
        "colab": {
          "base_uri": "https://localhost:8080/"
        }
      },
      "execution_count": 53,
      "outputs": [
        {
          "output_type": "stream",
          "name": "stdout",
          "text": [
            "torch.Size([27, 10])\n",
            "torch.Size([30, 100])\n",
            "torch.Size([100])\n",
            "torch.Size([100, 27])\n",
            "torch.Size([27])\n"
          ]
        }
      ]
    },
    {
      "cell_type": "code",
      "source": [
        "for p in parameters:\n",
        "  p.requires_grad = True"
      ],
      "metadata": {
        "id": "gePiQero7W_d"
      },
      "execution_count": 70,
      "outputs": []
    },
    {
      "cell_type": "code",
      "source": [
        "num_of_iterations = 1000\n"
      ],
      "metadata": {
        "id": "X78AXzBr_PfQ"
      },
      "execution_count": 87,
      "outputs": []
    },
    {
      "cell_type": "code",
      "source": [
        "lre = torch.linspace(-3, 0, num_of_iterations) # candidate learning rates\n",
        "# -3 = 0.001 step\n",
        "lrs = 10**lre # it does not make a sense to use just linear leanring rates increase, thus we use exponential function to grow faster later"
      ],
      "metadata": {
        "id": "8yFhSNkv7rHe"
      },
      "execution_count": 83,
      "outputs": []
    },
    {
      "cell_type": "code",
      "source": [
        "# Now with all the parameters and learnign process\n",
        "\n",
        "step_i = []\n",
        "loss_i = []\n",
        "lr_i = []\n",
        "\n",
        "for i in range(num_of_iterations):\n",
        "\n",
        "  # minibatch construct\n",
        "  ix = torch.randint(0, Xtr.shape[0], (32,))\n",
        "\n",
        "  # forward pass\n",
        "  emb = C[Xtr[ix]] # (32, 3, 2)\n",
        "  h = torch.tanh(emb.view(-1, 30) @ W1 + b1) # (32, 100)\n",
        "  logits = h @ W2 + b2 # (32, 27)\n",
        "\n",
        "  loss = F.cross_entropy(logits, Ytr[ix])\n",
        "\n",
        "  print(loss.item())\n",
        "\n",
        "  # backward pass\n",
        "  for p in parameters:\n",
        "    p.grad = None\n",
        "  loss.backward()\n",
        "\n",
        "  # update\n",
        "  # Constant alpha rate (usually bad idea, but may be helpful at the beginning of the learning)\n",
        "  # alpha_lr = 0.001\n",
        "  # Better way\n",
        "  # alpha_lr = lrs[i]\n",
        "  # Another way: trying to adjust the learning rate: first faster, then slowe\n",
        "  alpha_lr = 0.1 if i < (num_of_iterations/2) else 0.01\n",
        "\n",
        "  for p in parameters:\n",
        "    p.data += p.grad * -alpha_lr\n",
        "\n",
        "  # tracking the learning stats\n",
        "  step_i.append(i)\n",
        "  lr_i.append(alpha_lr)\n",
        "  loss_i.append(loss.item())\n",
        "  # Better, \"normalized\" learning rates\n",
        "  # loss_i.append(loss.log10().item())\n",
        "\n",
        "print(loss.item())\n",
        "\n"
      ],
      "metadata": {
        "outputId": "f8662d1e-9bb0-426c-b8c0-f05939ba6631",
        "colab": {
          "base_uri": "https://localhost:8080/"
        },
        "id": "CdYbUyW43-7G"
      },
      "execution_count": 140,
      "outputs": [
        {
          "output_type": "stream",
          "name": "stdout",
          "text": [
            "1.9698433876037598\n",
            "2.165619373321533\n",
            "1.8741432428359985\n",
            "2.0255684852600098\n",
            "2.51233172416687\n",
            "2.519716739654541\n",
            "2.1785335540771484\n",
            "2.4769504070281982\n",
            "1.9733525514602661\n",
            "1.9574594497680664\n",
            "2.4262924194335938\n",
            "2.367553234100342\n",
            "2.552333354949951\n",
            "2.434375762939453\n",
            "2.089984655380249\n",
            "2.102203845977783\n",
            "1.9899237155914307\n",
            "2.5132296085357666\n",
            "1.9373337030410767\n",
            "2.089533805847168\n",
            "2.262765407562256\n",
            "2.190863609313965\n",
            "2.7740044593811035\n",
            "2.112152099609375\n",
            "2.252000093460083\n",
            "2.2679455280303955\n",
            "2.189098596572876\n",
            "2.219849109649658\n",
            "1.8877806663513184\n",
            "2.2394211292266846\n",
            "1.9492727518081665\n",
            "2.3219351768493652\n",
            "1.976344347000122\n",
            "2.004244804382324\n",
            "2.6967051029205322\n",
            "1.9487636089324951\n",
            "2.258030891418457\n",
            "2.53054141998291\n",
            "1.8368091583251953\n",
            "2.3449602127075195\n",
            "2.1215081214904785\n",
            "2.2904157638549805\n",
            "2.409184694290161\n",
            "2.032703161239624\n",
            "2.4985604286193848\n",
            "1.9066370725631714\n",
            "2.2784957885742188\n",
            "2.097419023513794\n",
            "2.09332013130188\n",
            "2.3140769004821777\n",
            "2.528913736343384\n",
            "2.255539655685425\n",
            "2.1123313903808594\n",
            "1.9113585948944092\n",
            "2.0256497859954834\n",
            "2.542290687561035\n",
            "2.4519028663635254\n",
            "1.873407006263733\n",
            "1.9887932538986206\n",
            "2.0213232040405273\n",
            "1.9448331594467163\n",
            "2.497584342956543\n",
            "1.6758933067321777\n",
            "2.0142014026641846\n",
            "2.0585551261901855\n",
            "2.532761573791504\n",
            "2.033378839492798\n",
            "1.8629180192947388\n",
            "2.169581651687622\n",
            "2.0412628650665283\n",
            "1.731960654258728\n",
            "2.1588521003723145\n",
            "2.198026180267334\n",
            "2.2802302837371826\n",
            "2.0937392711639404\n",
            "2.4188008308410645\n",
            "2.2885003089904785\n",
            "2.33679461479187\n",
            "2.3414993286132812\n",
            "2.2224433422088623\n",
            "1.9347341060638428\n",
            "2.471677303314209\n",
            "2.2443835735321045\n",
            "2.3066201210021973\n",
            "1.889852523803711\n",
            "2.088439702987671\n",
            "2.0162534713745117\n",
            "2.4272701740264893\n",
            "2.0783462524414062\n",
            "2.613133192062378\n",
            "2.242600917816162\n",
            "1.9973849058151245\n",
            "2.1660280227661133\n",
            "2.1697616577148438\n",
            "2.266374111175537\n",
            "1.9608254432678223\n",
            "1.9582058191299438\n",
            "2.518420457839966\n",
            "2.551363468170166\n",
            "2.0246644020080566\n",
            "2.7758495807647705\n",
            "2.2835166454315186\n",
            "1.9754685163497925\n",
            "2.334662675857544\n",
            "2.49344539642334\n",
            "2.2966880798339844\n",
            "1.9123313426971436\n",
            "2.7629547119140625\n",
            "2.707829236984253\n",
            "2.7066521644592285\n",
            "2.1967625617980957\n",
            "2.0840959548950195\n",
            "2.086214065551758\n",
            "1.7495508193969727\n",
            "2.085641860961914\n",
            "1.683819055557251\n",
            "2.018613576889038\n",
            "2.22672963142395\n",
            "2.1553964614868164\n",
            "2.5492217540740967\n",
            "1.8763383626937866\n",
            "2.1498429775238037\n",
            "1.9090914726257324\n",
            "2.4097695350646973\n",
            "2.4025156497955322\n",
            "2.2060787677764893\n",
            "2.973944664001465\n",
            "2.4703357219696045\n",
            "2.2928836345672607\n",
            "1.7803239822387695\n",
            "2.0225932598114014\n",
            "1.988266110420227\n",
            "2.5536670684814453\n",
            "2.4678144454956055\n",
            "2.1326847076416016\n",
            "2.3735315799713135\n",
            "2.3900184631347656\n",
            "1.7367801666259766\n",
            "2.160780429840088\n",
            "2.1408607959747314\n",
            "2.2590088844299316\n",
            "2.6269869804382324\n",
            "1.9538260698318481\n",
            "2.6663272380828857\n",
            "2.000749111175537\n",
            "2.4542465209960938\n",
            "2.1043832302093506\n",
            "1.952847957611084\n",
            "2.4899370670318604\n",
            "2.1436352729797363\n",
            "2.197183132171631\n",
            "2.2300758361816406\n",
            "2.0742123126983643\n",
            "2.3675310611724854\n",
            "2.303286552429199\n",
            "1.7678910493850708\n",
            "2.0840368270874023\n",
            "2.2436482906341553\n",
            "2.395023822784424\n",
            "2.1431732177734375\n",
            "2.131063222885132\n",
            "2.283047914505005\n",
            "2.121973991394043\n",
            "2.4107577800750732\n",
            "2.4498162269592285\n",
            "2.23545503616333\n",
            "2.2344436645507812\n",
            "2.0774784088134766\n",
            "2.0058064460754395\n",
            "2.0735552310943604\n",
            "1.914925456047058\n",
            "2.0190794467926025\n",
            "2.168963670730591\n",
            "2.109231948852539\n",
            "2.055689811706543\n",
            "2.268441915512085\n",
            "2.2850749492645264\n",
            "2.1944773197174072\n",
            "2.29248309135437\n",
            "2.0040547847747803\n",
            "2.343252182006836\n",
            "2.1688103675842285\n",
            "2.116818904876709\n",
            "2.0768883228302\n",
            "2.0878632068634033\n",
            "2.2306950092315674\n",
            "2.4878127574920654\n",
            "2.5419161319732666\n",
            "2.1078269481658936\n",
            "2.199599266052246\n",
            "1.9355547428131104\n",
            "2.1995229721069336\n",
            "2.1511495113372803\n",
            "2.1197454929351807\n",
            "2.2043747901916504\n",
            "2.4447169303894043\n",
            "2.2463297843933105\n",
            "1.9751101732254028\n",
            "1.971505880355835\n",
            "1.9821510314941406\n",
            "1.9554897546768188\n",
            "2.4707438945770264\n",
            "2.2320799827575684\n",
            "2.1625161170959473\n",
            "2.814995527267456\n",
            "2.551889657974243\n",
            "2.1971867084503174\n",
            "1.8690077066421509\n",
            "2.9068386554718018\n",
            "2.7618625164031982\n",
            "2.4602978229522705\n",
            "2.54172945022583\n",
            "1.9594826698303223\n",
            "2.1364681720733643\n",
            "1.9457906484603882\n",
            "2.0413928031921387\n",
            "2.259816884994507\n",
            "2.1904296875\n",
            "2.084587335586548\n",
            "2.2833328247070312\n",
            "2.0552139282226562\n",
            "2.2440969944000244\n",
            "2.4925878047943115\n",
            "2.2453560829162598\n",
            "2.3856754302978516\n",
            "2.381606101989746\n",
            "1.7843762636184692\n",
            "1.9271539449691772\n",
            "2.095994710922241\n",
            "1.9191991090774536\n",
            "2.215973377227783\n",
            "2.0901150703430176\n",
            "2.167729139328003\n",
            "2.669921398162842\n",
            "2.291991710662842\n",
            "2.2177183628082275\n",
            "2.5053207874298096\n",
            "2.229928731918335\n",
            "2.112900972366333\n",
            "2.485445499420166\n",
            "2.645982027053833\n",
            "2.243673801422119\n",
            "2.288372755050659\n",
            "2.0186264514923096\n",
            "2.526606559753418\n",
            "1.787934422492981\n",
            "2.4572973251342773\n",
            "2.2164201736450195\n",
            "2.3878467082977295\n",
            "2.0366222858428955\n",
            "2.4606282711029053\n",
            "2.5348081588745117\n",
            "2.1253502368927\n",
            "2.3241991996765137\n",
            "2.2578282356262207\n",
            "2.147355794906616\n",
            "2.1695261001586914\n",
            "2.3927817344665527\n",
            "2.4794163703918457\n",
            "1.773742437362671\n",
            "2.4889888763427734\n",
            "2.13445782661438\n",
            "2.0001888275146484\n",
            "2.5139243602752686\n",
            "2.475393056869507\n",
            "2.3684470653533936\n",
            "2.0248284339904785\n",
            "2.4376659393310547\n",
            "2.502610445022583\n",
            "1.9683914184570312\n",
            "2.338344097137451\n",
            "2.059680461883545\n",
            "2.1883859634399414\n",
            "2.2828612327575684\n",
            "2.369748592376709\n",
            "2.1316750049591064\n",
            "2.5429775714874268\n",
            "2.2907679080963135\n",
            "2.08418607711792\n",
            "2.142063617706299\n",
            "2.3700804710388184\n",
            "2.521512031555176\n",
            "2.530087947845459\n",
            "2.4252474308013916\n",
            "2.3741116523742676\n",
            "2.4252986907958984\n",
            "2.0756144523620605\n",
            "2.230771541595459\n",
            "2.1080477237701416\n",
            "2.4753308296203613\n",
            "2.444582223892212\n",
            "2.299788236618042\n",
            "2.441415548324585\n",
            "1.9651933908462524\n",
            "2.0383713245391846\n",
            "1.9676342010498047\n",
            "1.9072837829589844\n",
            "2.1067094802856445\n",
            "2.48376727104187\n",
            "2.1544642448425293\n",
            "1.88423490524292\n",
            "2.1440672874450684\n",
            "1.865391492843628\n",
            "2.05275297164917\n",
            "2.009899854660034\n",
            "1.6954337358474731\n",
            "2.0300045013427734\n",
            "2.0957961082458496\n",
            "2.087465763092041\n",
            "2.089050531387329\n",
            "2.0503931045532227\n",
            "1.9052478075027466\n",
            "2.277838706970215\n",
            "2.26139760017395\n",
            "2.029543161392212\n",
            "2.4021151065826416\n",
            "2.219024658203125\n",
            "2.243054151535034\n",
            "2.258326768875122\n",
            "2.112203598022461\n",
            "1.9713778495788574\n",
            "2.228753089904785\n",
            "2.054661989212036\n",
            "2.147085666656494\n",
            "2.339550495147705\n",
            "2.1680655479431152\n",
            "2.2676122188568115\n",
            "2.1050405502319336\n",
            "2.268062114715576\n",
            "2.509511947631836\n",
            "2.3135714530944824\n",
            "2.388091564178467\n",
            "2.504404067993164\n",
            "2.662846326828003\n",
            "2.364574670791626\n",
            "2.043013334274292\n",
            "1.553110957145691\n",
            "2.1761083602905273\n",
            "2.422349452972412\n",
            "2.277029275894165\n",
            "2.1501641273498535\n",
            "1.8833212852478027\n",
            "2.5278656482696533\n",
            "2.132617950439453\n",
            "2.0649001598358154\n",
            "2.424422025680542\n",
            "2.0280041694641113\n",
            "2.0498929023742676\n",
            "2.361114025115967\n",
            "2.3100008964538574\n",
            "2.3324098587036133\n",
            "2.421994209289551\n",
            "1.8170875310897827\n",
            "2.0804941654205322\n",
            "2.3214259147644043\n",
            "2.3470139503479004\n",
            "2.38993763923645\n",
            "2.5341432094573975\n",
            "2.175020217895508\n",
            "2.235145330429077\n",
            "2.403843879699707\n",
            "2.119563341140747\n",
            "1.9297735691070557\n",
            "1.9343388080596924\n",
            "2.1662538051605225\n",
            "2.3839828968048096\n",
            "2.1893510818481445\n",
            "1.9912729263305664\n",
            "2.140805244445801\n",
            "2.0536441802978516\n",
            "1.7289539575576782\n",
            "2.149967908859253\n",
            "2.226834297180176\n",
            "1.9781005382537842\n",
            "2.2982771396636963\n",
            "2.115553855895996\n",
            "2.1024510860443115\n",
            "2.183825969696045\n",
            "2.106330633163452\n",
            "2.1217427253723145\n",
            "1.7685654163360596\n",
            "1.9119932651519775\n",
            "2.3046047687530518\n",
            "1.9931238889694214\n",
            "2.484497547149658\n",
            "2.2908804416656494\n",
            "2.2047715187072754\n",
            "2.2034664154052734\n",
            "1.8884848356246948\n",
            "1.9051432609558105\n",
            "2.2521727085113525\n",
            "2.3705344200134277\n",
            "2.1625072956085205\n",
            "2.4205312728881836\n",
            "2.3149032592773438\n",
            "2.381326675415039\n",
            "2.9474873542785645\n",
            "2.159048080444336\n",
            "2.260775566101074\n",
            "2.076612710952759\n",
            "2.2701120376586914\n",
            "2.4024817943573\n",
            "2.269374370574951\n",
            "2.227182626724243\n",
            "2.152461528778076\n",
            "2.0621914863586426\n",
            "2.395017623901367\n",
            "2.359943151473999\n",
            "2.0596117973327637\n",
            "2.6871659755706787\n",
            "2.3087732791900635\n",
            "2.3756649494171143\n",
            "2.0067880153656006\n",
            "1.931283950805664\n",
            "2.3352913856506348\n",
            "2.4229869842529297\n",
            "2.330775499343872\n",
            "1.9760470390319824\n",
            "2.4791207313537598\n",
            "1.9739983081817627\n",
            "2.2575252056121826\n",
            "2.1419060230255127\n",
            "2.010695457458496\n",
            "2.2268264293670654\n",
            "2.315962314605713\n",
            "2.19435453414917\n",
            "2.05377197265625\n",
            "2.577167510986328\n",
            "2.4324495792388916\n",
            "2.6331167221069336\n",
            "2.3843584060668945\n",
            "2.133042097091675\n",
            "2.038893461227417\n",
            "2.364772081375122\n",
            "2.3855862617492676\n",
            "2.3833789825439453\n",
            "2.7685890197753906\n",
            "2.0258545875549316\n",
            "2.4010119438171387\n",
            "2.065258502960205\n",
            "2.361607551574707\n",
            "1.9677636623382568\n",
            "2.462416887283325\n",
            "2.2905991077423096\n",
            "2.752356767654419\n",
            "2.165475368499756\n",
            "2.1169424057006836\n",
            "2.0787665843963623\n",
            "2.00394868850708\n",
            "2.4591312408447266\n",
            "2.0355985164642334\n",
            "2.8276209831237793\n",
            "1.9849063158035278\n",
            "1.8479667901992798\n",
            "2.244086980819702\n",
            "2.085292339324951\n",
            "2.385327100753784\n",
            "2.641123056411743\n",
            "2.2217319011688232\n",
            "2.0905604362487793\n",
            "2.2236316204071045\n",
            "1.8312263488769531\n",
            "2.2679245471954346\n",
            "2.089205741882324\n",
            "2.114847421646118\n",
            "2.2074360847473145\n",
            "2.1592774391174316\n",
            "2.301433801651001\n",
            "2.4113762378692627\n",
            "2.3750665187835693\n",
            "2.2520954608917236\n",
            "2.5948007106781006\n",
            "1.9770108461380005\n",
            "3.095085859298706\n",
            "1.9788053035736084\n",
            "1.4688420295715332\n",
            "2.176243543624878\n",
            "2.10349178314209\n",
            "2.065910577774048\n",
            "1.9261194467544556\n",
            "2.4040818214416504\n",
            "2.337897300720215\n",
            "2.412156820297241\n",
            "2.3696212768554688\n",
            "2.1008312702178955\n",
            "2.0534234046936035\n",
            "2.1923930644989014\n",
            "2.3746774196624756\n",
            "2.037248373031616\n",
            "2.0027577877044678\n",
            "2.3101675510406494\n",
            "1.9726282358169556\n",
            "2.394932508468628\n",
            "2.0732033252716064\n",
            "2.2415647506713867\n",
            "2.2519888877868652\n",
            "2.1240906715393066\n",
            "2.1849868297576904\n",
            "2.2325594425201416\n",
            "2.526329517364502\n",
            "2.218268871307373\n",
            "2.0732192993164062\n",
            "2.0980591773986816\n",
            "2.187609910964966\n",
            "2.2208335399627686\n",
            "2.032965898513794\n",
            "2.253504991531372\n",
            "2.2374563217163086\n",
            "2.1160166263580322\n",
            "2.227607488632202\n",
            "2.048269033432007\n",
            "1.6608080863952637\n",
            "2.6379570960998535\n",
            "1.777485728263855\n",
            "2.445455551147461\n",
            "2.2152726650238037\n",
            "2.5503265857696533\n",
            "2.1937475204467773\n",
            "2.066809892654419\n",
            "2.6642277240753174\n",
            "2.090747833251953\n",
            "1.9817583560943604\n",
            "1.9421327114105225\n",
            "1.7929024696350098\n",
            "2.0591840744018555\n",
            "2.386430501937866\n",
            "2.07002592086792\n",
            "2.4253342151641846\n",
            "2.2016894817352295\n",
            "2.0519840717315674\n",
            "1.728892207145691\n",
            "1.7862247228622437\n",
            "2.4826385974884033\n",
            "1.9441028833389282\n",
            "2.5117321014404297\n",
            "2.0566487312316895\n",
            "2.159409761428833\n",
            "1.7666022777557373\n",
            "1.703001856803894\n",
            "2.0773770809173584\n",
            "2.318110704421997\n",
            "2.420410633087158\n",
            "2.313710927963257\n",
            "2.191951036453247\n",
            "1.9320306777954102\n",
            "2.604794502258301\n",
            "2.412390947341919\n",
            "2.354600667953491\n",
            "2.1126134395599365\n",
            "2.2690417766571045\n",
            "2.0633819103240967\n",
            "1.919821858406067\n",
            "2.132889747619629\n",
            "2.159452438354492\n",
            "2.1153805255889893\n",
            "2.2661054134368896\n",
            "2.3839874267578125\n",
            "2.163593053817749\n",
            "2.1461281776428223\n",
            "2.454202175140381\n",
            "2.0878384113311768\n",
            "2.0492846965789795\n",
            "2.537426710128784\n",
            "1.8376996517181396\n",
            "2.2348334789276123\n",
            "2.474867105484009\n",
            "2.2181215286254883\n",
            "2.0591273307800293\n",
            "2.150113582611084\n",
            "2.0074994564056396\n",
            "2.6685285568237305\n",
            "2.0372180938720703\n",
            "2.071951150894165\n",
            "2.3248703479766846\n",
            "2.1362698078155518\n",
            "2.330256223678589\n",
            "2.1495132446289062\n",
            "2.408891201019287\n",
            "2.3251445293426514\n",
            "2.428327798843384\n",
            "2.4272375106811523\n",
            "2.087155342102051\n",
            "1.8875726461410522\n",
            "2.5982601642608643\n",
            "2.6483397483825684\n",
            "2.059540271759033\n",
            "2.2269840240478516\n",
            "1.9088568687438965\n",
            "2.3641223907470703\n",
            "2.0663204193115234\n",
            "1.913291335105896\n",
            "2.345349073410034\n",
            "1.9451454877853394\n",
            "2.0624423027038574\n",
            "2.2349538803100586\n",
            "2.5097522735595703\n",
            "1.9774725437164307\n",
            "1.9489827156066895\n",
            "2.3436684608459473\n",
            "2.5244827270507812\n",
            "2.133209466934204\n",
            "1.9631564617156982\n",
            "2.1595325469970703\n",
            "2.4699363708496094\n",
            "1.9437967538833618\n",
            "2.418881416320801\n",
            "2.316538095474243\n",
            "2.0623908042907715\n",
            "2.6309406757354736\n",
            "2.3528823852539062\n",
            "1.8807637691497803\n",
            "2.383157730102539\n",
            "1.8247425556182861\n",
            "2.1250760555267334\n",
            "2.010230302810669\n",
            "2.181501865386963\n",
            "1.9666428565979004\n",
            "2.019385576248169\n",
            "2.2818386554718018\n",
            "2.358776807785034\n",
            "2.154491901397705\n",
            "2.161699056625366\n",
            "1.97405207157135\n",
            "1.9408260583877563\n",
            "2.074193000793457\n",
            "2.18904709815979\n",
            "1.8739458322525024\n",
            "2.5405192375183105\n",
            "1.8179502487182617\n",
            "3.0418694019317627\n",
            "1.9114208221435547\n",
            "1.8734809160232544\n",
            "1.8932454586029053\n",
            "2.0481393337249756\n",
            "2.0770928859710693\n",
            "2.1632704734802246\n",
            "1.9131075143814087\n",
            "1.963974118232727\n",
            "2.2043023109436035\n",
            "1.868133544921875\n",
            "2.2951371669769287\n",
            "1.9594857692718506\n",
            "1.887389063835144\n",
            "2.3435933589935303\n",
            "2.0232818126678467\n",
            "2.1829640865325928\n",
            "2.2850818634033203\n",
            "2.0189366340637207\n",
            "2.1238210201263428\n",
            "2.2785000801086426\n",
            "2.0708818435668945\n",
            "1.9564151763916016\n",
            "1.9309600591659546\n",
            "2.264362335205078\n",
            "2.238243341445923\n",
            "1.8554084300994873\n",
            "2.31492018699646\n",
            "2.0930657386779785\n",
            "2.177968978881836\n",
            "2.1565351486206055\n",
            "2.357757329940796\n",
            "2.1980338096618652\n",
            "2.3596177101135254\n",
            "2.072202444076538\n",
            "2.1817264556884766\n",
            "2.1005430221557617\n",
            "2.192488670349121\n",
            "1.8172177076339722\n",
            "2.307971954345703\n",
            "2.326052188873291\n",
            "2.605541229248047\n",
            "2.3916211128234863\n",
            "2.217784881591797\n",
            "2.175544500350952\n",
            "1.9002225399017334\n",
            "2.639127731323242\n",
            "2.384671926498413\n",
            "2.4226765632629395\n",
            "2.3141112327575684\n",
            "2.6297004222869873\n",
            "2.1748292446136475\n",
            "2.3697311878204346\n",
            "2.3383522033691406\n",
            "2.1137123107910156\n",
            "2.0704667568206787\n",
            "2.106170654296875\n",
            "2.1105620861053467\n",
            "2.426164388656616\n",
            "2.154730796813965\n",
            "2.1061010360717773\n",
            "2.0044777393341064\n",
            "2.104745388031006\n",
            "2.254021167755127\n",
            "2.075481653213501\n",
            "2.223653793334961\n",
            "2.2834339141845703\n",
            "2.2598459720611572\n",
            "2.1605916023254395\n",
            "2.084536075592041\n",
            "2.2587406635284424\n",
            "2.081663131713867\n",
            "2.433011770248413\n",
            "2.129257917404175\n",
            "1.6091629266738892\n",
            "2.2598655223846436\n",
            "2.205178737640381\n",
            "2.0864269733428955\n",
            "1.7400035858154297\n",
            "1.9913609027862549\n",
            "2.195465564727783\n",
            "2.497899293899536\n",
            "2.108985424041748\n",
            "1.893380880355835\n",
            "2.4152045249938965\n",
            "2.3351619243621826\n",
            "2.0119314193725586\n",
            "2.070087194442749\n",
            "1.6260502338409424\n",
            "2.578284740447998\n",
            "2.073507308959961\n",
            "2.221752882003784\n",
            "2.352595329284668\n",
            "2.1434834003448486\n",
            "2.0651049613952637\n",
            "2.4492430686950684\n",
            "2.108320951461792\n",
            "2.280621290206909\n",
            "2.3331780433654785\n",
            "2.5958750247955322\n",
            "1.9191408157348633\n",
            "2.016018867492676\n",
            "2.0351672172546387\n",
            "2.244523763656616\n",
            "2.1621530055999756\n",
            "1.9365320205688477\n",
            "2.106454849243164\n",
            "1.9310134649276733\n",
            "1.8406392335891724\n",
            "2.0272483825683594\n",
            "2.4207561016082764\n",
            "2.240567922592163\n",
            "2.0461742877960205\n",
            "2.0105085372924805\n",
            "2.3331058025360107\n",
            "2.084829330444336\n",
            "2.5633738040924072\n",
            "2.5577030181884766\n",
            "2.1149470806121826\n",
            "1.9321469068527222\n",
            "2.0328257083892822\n",
            "2.375281810760498\n",
            "2.514181613922119\n",
            "2.4080498218536377\n",
            "2.065415859222412\n",
            "1.7729970216751099\n",
            "2.284144639968872\n",
            "2.863591432571411\n",
            "2.017624616622925\n",
            "2.066469669342041\n",
            "2.2070369720458984\n",
            "1.844854712486267\n",
            "2.109149694442749\n",
            "2.2364864349365234\n",
            "2.145230770111084\n",
            "2.006680727005005\n",
            "2.693114995956421\n",
            "2.2313005924224854\n",
            "2.422706365585327\n",
            "2.3220510482788086\n",
            "2.133136749267578\n",
            "2.5141961574554443\n",
            "2.227289915084839\n",
            "1.9698224067687988\n",
            "1.9649826288223267\n",
            "1.9404284954071045\n",
            "3.0752875804901123\n",
            "2.1100172996520996\n",
            "2.0269241333007812\n",
            "2.5305440425872803\n",
            "2.246081829071045\n",
            "2.228592872619629\n",
            "2.1792521476745605\n",
            "2.2644262313842773\n",
            "1.948943853378296\n",
            "1.9928488731384277\n",
            "2.153677225112915\n",
            "1.7973110675811768\n",
            "2.355764627456665\n",
            "2.3063149452209473\n",
            "2.0674045085906982\n",
            "2.11053204536438\n",
            "2.361469268798828\n",
            "1.9320374727249146\n",
            "2.497368574142456\n",
            "2.162834644317627\n",
            "2.2079544067382812\n",
            "1.9899436235427856\n",
            "2.3826072216033936\n",
            "2.5583484172821045\n",
            "2.198345184326172\n",
            "2.435115337371826\n",
            "2.32033371925354\n",
            "1.7934463024139404\n",
            "2.085594654083252\n",
            "2.0553834438323975\n",
            "2.4041192531585693\n",
            "2.506943941116333\n",
            "2.0031685829162598\n",
            "2.1417250633239746\n",
            "1.9001057147979736\n",
            "1.9212632179260254\n",
            "1.772840142250061\n",
            "2.047598361968994\n",
            "2.0815794467926025\n",
            "2.4328160285949707\n",
            "2.3833045959472656\n",
            "2.1853859424591064\n",
            "2.5327210426330566\n",
            "2.1949996948242188\n",
            "1.8659627437591553\n",
            "2.2630698680877686\n",
            "2.2391228675842285\n",
            "1.9922947883605957\n",
            "1.8810893297195435\n",
            "2.2227039337158203\n",
            "1.8563833236694336\n",
            "2.0637476444244385\n",
            "2.186110019683838\n",
            "2.1541435718536377\n",
            "2.2973458766937256\n",
            "2.0777995586395264\n",
            "2.140087366104126\n",
            "1.9706802368164062\n",
            "2.535996437072754\n",
            "2.284170389175415\n",
            "1.9144642353057861\n",
            "2.0486316680908203\n",
            "2.0937485694885254\n",
            "1.7249855995178223\n",
            "2.5715532302856445\n",
            "2.2298600673675537\n",
            "1.9993033409118652\n",
            "2.1032028198242188\n",
            "2.362531900405884\n",
            "2.4700748920440674\n",
            "2.107109785079956\n",
            "2.0531837940216064\n",
            "2.2294678688049316\n",
            "1.951013207435608\n",
            "2.0307822227478027\n",
            "2.557950258255005\n",
            "2.2000651359558105\n",
            "1.7912696599960327\n",
            "2.6863856315612793\n",
            "2.3651793003082275\n",
            "2.188805341720581\n",
            "1.9657913446426392\n",
            "2.2493972778320312\n",
            "2.4236409664154053\n",
            "2.1411044597625732\n",
            "2.2121963500976562\n",
            "2.4599359035491943\n",
            "2.2538251876831055\n",
            "2.151357412338257\n",
            "1.9698137044906616\n",
            "1.849211573600769\n",
            "1.8433995246887207\n",
            "1.6206403970718384\n",
            "2.516726493835449\n",
            "2.2311642169952393\n",
            "2.139976978302002\n",
            "2.353541135787964\n",
            "2.015942335128784\n",
            "1.7251873016357422\n",
            "1.9737704992294312\n",
            "2.073754072189331\n",
            "2.107635259628296\n",
            "1.971411108970642\n",
            "2.1796956062316895\n",
            "2.576571464538574\n",
            "1.831817865371704\n",
            "1.958837628364563\n",
            "2.1977219581604004\n",
            "2.1312174797058105\n",
            "2.020047426223755\n",
            "2.0831382274627686\n",
            "2.423689365386963\n",
            "2.2210850715637207\n",
            "1.9555495977401733\n",
            "2.5208661556243896\n",
            "2.119213342666626\n",
            "2.444462299346924\n",
            "2.0929043292999268\n",
            "2.4017105102539062\n",
            "2.1880791187286377\n",
            "1.9775025844573975\n",
            "2.258155584335327\n",
            "1.845825433731079\n",
            "2.1352028846740723\n",
            "1.9353339672088623\n",
            "2.0816519260406494\n",
            "2.194873332977295\n",
            "2.0397679805755615\n",
            "2.3666694164276123\n",
            "1.9891947507858276\n",
            "2.1892831325531006\n",
            "1.8893457651138306\n",
            "1.9195351600646973\n",
            "2.6917335987091064\n",
            "2.5585174560546875\n",
            "2.3940975666046143\n",
            "1.651350498199463\n",
            "2.183772087097168\n",
            "2.196521759033203\n",
            "2.0630407333374023\n",
            "2.2197563648223877\n",
            "1.920189380645752\n",
            "2.0186331272125244\n",
            "2.4698870182037354\n",
            "2.257766008377075\n",
            "2.288422107696533\n",
            "2.194519519805908\n",
            "1.894308090209961\n",
            "2.217968225479126\n",
            "2.0169122219085693\n",
            "2.0935046672821045\n",
            "2.272279977798462\n",
            "2.0729854106903076\n",
            "2.410953998565674\n",
            "1.9751406908035278\n",
            "1.8255281448364258\n",
            "1.837286114692688\n",
            "2.111708879470825\n",
            "2.0528764724731445\n",
            "2.209259033203125\n",
            "2.188584804534912\n",
            "1.882752537727356\n",
            "2.0766098499298096\n",
            "2.086641788482666\n",
            "2.683333158493042\n",
            "2.387913703918457\n",
            "2.503161668777466\n",
            "2.027012348175049\n",
            "2.188542604446411\n",
            "2.025996446609497\n",
            "2.2826778888702393\n",
            "2.483940601348877\n",
            "1.9521042108535767\n",
            "2.382863998413086\n",
            "2.1263339519500732\n",
            "1.8915218114852905\n",
            "2.4886608123779297\n",
            "2.036846876144409\n",
            "2.1847097873687744\n",
            "2.2320895195007324\n",
            "2.098400354385376\n",
            "2.38651967048645\n",
            "2.0241706371307373\n",
            "1.8152951002120972\n",
            "2.3767893314361572\n",
            "2.414754867553711\n",
            "2.253704786300659\n",
            "2.2076597213745117\n",
            "2.145472288131714\n",
            "2.321697473526001\n",
            "2.281475782394409\n",
            "2.2765822410583496\n",
            "2.2133474349975586\n",
            "1.9776455163955688\n",
            "2.2065939903259277\n",
            "2.0501468181610107\n",
            "1.6522222757339478\n",
            "2.2123053073883057\n",
            "2.310532331466675\n",
            "2.442582368850708\n",
            "2.1988630294799805\n",
            "1.9933946132659912\n",
            "1.9656580686569214\n",
            "1.9531642198562622\n",
            "2.863863706588745\n",
            "2.1743884086608887\n",
            "2.0916748046875\n",
            "2.3275270462036133\n",
            "2.6444318294525146\n",
            "2.3524279594421387\n",
            "2.1786270141601562\n",
            "2.5660488605499268\n",
            "2.0366134643554688\n",
            "2.2290096282958984\n",
            "2.10683012008667\n",
            "2.1411876678466797\n",
            "1.994971752166748\n",
            "1.8567945957183838\n",
            "2.2146403789520264\n",
            "2.3815622329711914\n",
            "2.2290806770324707\n",
            "1.8939911127090454\n",
            "2.0765905380249023\n",
            "2.1895484924316406\n",
            "2.217273712158203\n",
            "2.217273712158203\n"
          ]
        }
      ]
    },
    {
      "cell_type": "code",
      "source": [
        "plt.plot(step_i, loss_i)\n"
      ],
      "metadata": {
        "id": "132I1oh034k7",
        "outputId": "2ac0a547-2bcc-49c2-9b8b-b74c5de45fbd",
        "colab": {
          "base_uri": "https://localhost:8080/",
          "height": 447
        }
      },
      "execution_count": 141,
      "outputs": [
        {
          "output_type": "execute_result",
          "data": {
            "text/plain": [
              "[<matplotlib.lines.Line2D at 0x7ea302c93c10>]"
            ]
          },
          "metadata": {},
          "execution_count": 141
        },
        {
          "output_type": "display_data",
          "data": {
            "text/plain": [
              "<Figure size 640x480 with 1 Axes>"
            ],
            "image/png": "[encoded data removed]"
          },
          "metadata": {}
        }
      ]
    },
    {
      "cell_type": "code",
      "source": [
        "# training loss\n",
        "emb = C[Xtr] # (32, 3, 2)\n",
        "h = torch.tanh(emb.view(-1, 30) @ W1 + b1) # (32, 100)\n",
        "logits = h @ W2 + b2 # (32, 27)\n",
        "loss = F.cross_entropy(logits, Ytr)\n",
        "loss"
      ],
      "metadata": {
        "colab": {
          "base_uri": "https://localhost:8080/"
        },
        "id": "ZlhYinNgdIVF",
        "outputId": "cbb807b4-f8de-445f-b6fb-48f80d31dc9e"
      },
      "execution_count": 142,
      "outputs": [
        {
          "output_type": "execute_result",
          "data": {
            "text/plain": [
              "tensor(2.1570, grad_fn=<NllLossBackward0>)"
            ]
          },
          "metadata": {},
          "execution_count": 142
        }
      ]
    },
    {
      "cell_type": "code",
      "source": [
        "# validation loss\n",
        "emb = C[Xdev] # (32, 3, 2)\n",
        "h = torch.tanh(emb.view(-1, 30) @ W1 + b1) # (32, 100)\n",
        "logits = h @ W2 + b2 # (32, 27)\n",
        "loss = F.cross_entropy(logits, Ydev)\n",
        "loss"
      ],
      "metadata": {
        "colab": {
          "base_uri": "https://localhost:8080/"
        },
        "id": "cJH3DDu4dLTM",
        "outputId": "939af077-2220-4948-bd76-b7d4f5cd6963"
      },
      "execution_count": 143,
      "outputs": [
        {
          "output_type": "execute_result",
          "data": {
            "text/plain": [
              "tensor(2.1925, grad_fn=<NllLossBackward0>)"
            ]
          },
          "metadata": {},
          "execution_count": 143
        }
      ]
    },
    {
      "cell_type": "code",
      "source": [
        "# test loss\n",
        "emb = C[Xte] # (32, 3, 2)\n",
        "h = torch.tanh(emb.view(-1, 30) @ W1 + b1) # (32, 100)\n",
        "logits = h @ W2 + b2 # (32, 27)\n",
        "loss = F.cross_entropy(logits, Yte)\n",
        "loss"
      ],
      "metadata": {
        "colab": {
          "base_uri": "https://localhost:8080/"
        },
        "id": "DwOgCg1vdNhe",
        "outputId": "996e6d0e-6463-4ffd-9b72-edd76e5b1511"
      },
      "execution_count": 144,
      "outputs": [
        {
          "output_type": "execute_result",
          "data": {
            "text/plain": [
              "tensor(2.1818, grad_fn=<NllLossBackward0>)"
            ]
          },
          "metadata": {},
          "execution_count": 144
        }
      ]
    },
    {
      "cell_type": "code",
      "source": [
        "# TODO: Try to experiment with the alpha learning rate. Different values and methods\n",
        "# In our example we should see that nothing really works here. It is underfitting no matter what tactic we use\n",
        "# When something like this happens, it most likely means that the NN is too simple to handle the given task. We need to make it more complex. We have two options in NLP: 1. add hidden layers, or hidden layer neurons 2. add the neurons to the input layer"
      ],
      "metadata": {
        "id": "4EmjuQXKKMbL"
      },
      "execution_count": null,
      "outputs": []
    },
    {
      "cell_type": "code",
      "source": [
        "# Let's visualise something, so we have a better insight\n",
        "# visualize dimensions 0 and 1 of the embedding matrix C for all characters\n",
        "# we visualize this as two embedding locations\n",
        "plt.figure(figsize=(8,8))\n",
        "plt.scatter(C[:,0].data, C[:,1].data, s=200)\n",
        "for i in range(C.shape[0]):\n",
        "    plt.text(C[i,0].item(), C[i,1].item(), itos[i], ha=\"center\", va=\"center\", color='white')\n",
        "plt.grid('minor')"
      ],
      "metadata": {
        "colab": {
          "base_uri": "https://localhost:8080/",
          "height": 696
        },
        "id": "CCWLYP9GdPP4",
        "outputId": "5e319511-5894-4a7a-a3b7-be8db60c945f"
      },
      "execution_count": 145,
      "outputs": [
        {
          "output_type": "display_data",
          "data": {
            "text/plain": [
              "<Figure size 800x800 with 1 Axes>"
            ],
            "image/png": "[encoded data removed]"
          },
          "metadata": {}
        }
      ]
    },
    {
      "cell_type": "code",
      "source": [
        "# sample from the model\n",
        "g = torch.Generator().manual_seed(2147483647 + 10)\n",
        "\n",
        "for _ in range(20):\n",
        "\n",
        "    out = []\n",
        "    context = [0] * block_size # initialize with all ...\n",
        "    while True:\n",
        "      emb = C[torch.tensor([context])] # (1,block_size,d)\n",
        "      h = torch.tanh(emb.view(1, -1) @ W1 + b1)\n",
        "      logits = h @ W2 + b2\n",
        "      probs = F.softmax(logits, dim=1)\n",
        "      ix = torch.multinomial(probs, num_samples=1, generator=g).item()\n",
        "      context = context[1:] + [ix]\n",
        "      out.append(ix)\n",
        "      if ix == 0:\n",
        "        break\n",
        "\n",
        "    print(''.join(itos[i] for i in out))"
      ],
      "metadata": {
        "colab": {
          "base_uri": "https://localhost:8080/"
        },
        "id": "TQUMmgRrdRIA",
        "outputId": "4618124d-0820-424d-99aa-803c84d680c0"
      },
      "execution_count": null,
      "outputs": [
        {
          "output_type": "stream",
          "name": "stdout",
          "text": [
            "carmah.\n",
            "ambril.\n",
            "khi.\n",
            "mili.\n",
            "thylahnanden.\n",
            "jazhnen.\n",
            "deliah.\n",
            "jareei.\n",
            "ner.\n",
            "kentzeriiv.\n",
            "kaleigh.\n",
            "ham.\n",
            "jory.\n",
            "quint.\n",
            "shon.\n",
            "marian.\n",
            "quinteron.\n",
            "jarynn.\n",
            "jaxen.\n",
            "dus.\n"
          ]
        }
      ]
    },
    {
      "cell_type": "code",
      "source": [],
      "metadata": {
        "id": "iwENKZS7dT_5"
      },
      "execution_count": null,
      "outputs": []
    }
  ]
}