{
  "nbformat": 4,
  "nbformat_minor": 0,
  "metadata": {
    "colab": {
      "provenance": [],
      "include_colab_link": true
    },
    "kernelspec": {
      "name": "python3",
      "display_name": "Python 3"
    },
    "language_info": {
      "name": "python"
    }
  },
  "cells": [
    {
      "cell_type": "markdown",
      "metadata": {
        "id": "view-in-github",
        "colab_type": "text"
      },
      "source": [
        "<a href=\"https://colab.research.google.com/github/patmull/alex-karpathy-tutorials/blob/main/build_makemore_mlp.ipynb\" target=\"_parent\"><img src=\"https://colab.research.google.com/assets/colab-badge.svg\" alt=\"Open In Colab\"/></a>"
      ]
    },
    {
      "cell_type": "code",
      "execution_count": 2,
      "metadata": {
        "id": "vowXRstocd8F"
      },
      "outputs": [],
      "source": [
        "import torch\n",
        "import torch.nn.functional as F\n",
        "import matplotlib.pyplot as plt # for making figures\n",
        "%matplotlib inline"
      ]
    },
    {
      "cell_type": "code",
      "source": [
        "# download the names.txt file from github\n",
        "!wget https://raw.githubusercontent.com/karpathy/makemore/master/names.txt"
      ],
      "metadata": {
        "colab": {
          "base_uri": "https://localhost:8080/"
        },
        "id": "9Rlc3YeWcm_d",
        "outputId": "617d9b8a-0619-471f-9584-dbe3b253e7ab"
      },
      "execution_count": 3,
      "outputs": [
        {
          "output_type": "stream",
          "name": "stdout",
          "text": [
            "--2023-10-03 07:26:45--  https://raw.githubusercontent.com/karpathy/makemore/master/names.txt\n",
            "Resolving raw.githubusercontent.com (raw.githubusercontent.com)... 185.199.109.133, 185.199.110.133, 185.199.108.133, ...\n",
            "Connecting to raw.githubusercontent.com (raw.githubusercontent.com)|185.199.109.133|:443... connected.\n",
            "HTTP request sent, awaiting response... 200 OK\n",
            "Length: 228145 (223K) [text/plain]\n",
            "Saving to: ‘names.txt’\n",
            "\n",
            "\rnames.txt             0%[                    ]       0  --.-KB/s               \rnames.txt           100%[===================>] 222.80K  --.-KB/s    in 0.04s   \n",
            "\n",
            "2023-10-03 07:26:45 (5.49 MB/s) - ‘names.txt’ saved [228145/228145]\n",
            "\n"
          ]
        }
      ]
    },
    {
      "cell_type": "code",
      "source": [
        "words = open('names.txt', 'r').read().splitlines()\n",
        "words[:8]"
      ],
      "metadata": {
        "colab": {
          "base_uri": "https://localhost:8080/"
        },
        "id": "uH2MGP4FcidR",
        "outputId": "1cea87bd-9449-4d24-b657-10256a5886e8"
      },
      "execution_count": 4,
      "outputs": [
        {
          "output_type": "execute_result",
          "data": {
            "text/plain": [
              "['emma', 'olivia', 'ava', 'isabella', 'sophia', 'charlotte', 'mia', 'amelia']"
            ]
          },
          "metadata": {},
          "execution_count": 4
        }
      ]
    },
    {
      "cell_type": "code",
      "source": [
        "len(words)"
      ],
      "metadata": {
        "colab": {
          "base_uri": "https://localhost:8080/"
        },
        "id": "FbakoEqAcvnF",
        "outputId": "9082763e-e837-48b2-a64b-3bcfbda8cba7"
      },
      "execution_count": 5,
      "outputs": [
        {
          "output_type": "execute_result",
          "data": {
            "text/plain": [
              "32033"
            ]
          },
          "metadata": {},
          "execution_count": 5
        }
      ]
    },
    {
      "cell_type": "code",
      "source": [
        "# build the vocabulary of characters and mappings to/from integers\n",
        "chars = sorted(list(set(''.join(words))))\n",
        "stoi = {s:i+1 for i,s in enumerate(chars)}\n",
        "stoi['.'] = 0\n",
        "itos = {i:s for s,i in stoi.items()}\n",
        "print(itos)"
      ],
      "metadata": {
        "colab": {
          "base_uri": "https://localhost:8080/"
        },
        "id": "EYnXhmWVcx-l",
        "outputId": "216e8f8e-176e-41fc-86c0-0099327fc15b"
      },
      "execution_count": 6,
      "outputs": [
        {
          "output_type": "stream",
          "name": "stdout",
          "text": [
            "{1: 'a', 2: 'b', 3: 'c', 4: 'd', 5: 'e', 6: 'f', 7: 'g', 8: 'h', 9: 'i', 10: 'j', 11: 'k', 12: 'l', 13: 'm', 14: 'n', 15: 'o', 16: 'p', 17: 'q', 18: 'r', 19: 's', 20: 't', 21: 'u', 22: 'v', 23: 'w', 24: 'x', 25: 'y', 26: 'z', 0: '.'}\n"
          ]
        }
      ]
    },
    {
      "cell_type": "code",
      "source": [
        "# build the dataset\n",
        "block_size = 3 # context length: how many characters do we take to predict the next one. NOTICE: If we change this, the shape dimensions will change.\n",
        "\n",
        "def build_dataset(words):\n",
        "  X, Y = [], []\n",
        "  for w in words:\n",
        "\n",
        "    # print(f\"w: {w}\")\n",
        "    context = [0] * block_size\n",
        "    for ch in w + '.':\n",
        "      ix = stoi[ch]\n",
        "      X.append(context)\n",
        "      Y.append(ix)\n",
        "      # print(''.join(itos[i] for i in context), '--->', itos[ix])\n",
        "      context = context[1:] + [ix] # crop and append\n",
        "\n",
        "  X = torch.tensor(X)\n",
        "  Y = torch.tensor(Y)\n",
        "  print(X.shape, Y.shape)\n",
        "  return X, Y\n",
        "\n",
        "import random\n",
        "random.seed(42)\n",
        "random.shuffle(words)\n",
        "n1 = int(0.8*len(words))\n",
        "n2 = int(0.9*len(words))\n",
        "\n",
        "Xtr, Ytr = build_dataset(words[:n1])\n",
        "Xdev, Ydev = build_dataset(words[n1:n2]) # ( = validation set)\n",
        "Xte, Yte = build_dataset(words[n2:])"
      ],
      "metadata": {
        "colab": {
          "base_uri": "https://localhost:8080/"
        },
        "id": "MB5XgJxdczFi",
        "outputId": "384541f7-20e6-4b31-fd19-bc33f7eb9da1"
      },
      "execution_count": 7,
      "outputs": [
        {
          "output_type": "stream",
          "name": "stdout",
          "text": [
            "torch.Size([182625, 3]) torch.Size([182625])\n",
            "torch.Size([22655, 3]) torch.Size([22655])\n",
            "torch.Size([22866, 3]) torch.Size([22866])\n"
          ]
        }
      ]
    },
    {
      "cell_type": "code",
      "source": [
        "(Xtr.shape, Xtr.dtype, Ytr.shape, Ytr.dtype)"
      ],
      "metadata": {
        "colab": {
          "base_uri": "https://localhost:8080/"
        },
        "id": "PEDC3USHmThX",
        "outputId": "766b7c98-089e-473f-afba-20aaa84abc77"
      },
      "execution_count": 8,
      "outputs": [
        {
          "output_type": "execute_result",
          "data": {
            "text/plain": [
              "(torch.Size([182625, 3]), torch.int64, torch.Size([182625]), torch.int64)"
            ]
          },
          "metadata": {},
          "execution_count": 8
        }
      ]
    },
    {
      "cell_type": "code",
      "source": [
        "Xtr"
      ],
      "metadata": {
        "colab": {
          "base_uri": "https://localhost:8080/"
        },
        "id": "YEqjLmYOnNaj",
        "outputId": "b55aa7ea-cdda-4b0f-c967-f346324c5d0f"
      },
      "execution_count": 9,
      "outputs": [
        {
          "output_type": "execute_result",
          "data": {
            "text/plain": [
              "tensor([[ 0,  0,  0],\n",
              "        [ 0,  0, 25],\n",
              "        [ 0, 25, 21],\n",
              "        ...,\n",
              "        [15, 12,  4],\n",
              "        [12,  4,  1],\n",
              "        [ 4,  1, 14]])"
            ]
          },
          "metadata": {},
          "execution_count": 9
        }
      ]
    },
    {
      "cell_type": "code",
      "source": [
        "Ytr"
      ],
      "metadata": {
        "colab": {
          "base_uri": "https://localhost:8080/"
        },
        "id": "2HlCdiZHnZPR",
        "outputId": "447e1ddd-9889-4f65-beef-3a09f384ad73"
      },
      "execution_count": 10,
      "outputs": [
        {
          "output_type": "execute_result",
          "data": {
            "text/plain": [
              "tensor([25, 21,  8,  ...,  1, 14,  0])"
            ]
          },
          "metadata": {},
          "execution_count": 10
        }
      ]
    },
    {
      "cell_type": "code",
      "source": [
        "Ytr.shape"
      ],
      "metadata": {
        "colab": {
          "base_uri": "https://localhost:8080/"
        },
        "id": "k4H9qFW0neKp",
        "outputId": "4a3c5923-8ca5-4fb5-ce7a-d038cf0417ee"
      },
      "execution_count": 11,
      "outputs": [
        {
          "output_type": "execute_result",
          "data": {
            "text/plain": [
              "torch.Size([182625])"
            ]
          },
          "metadata": {},
          "execution_count": 11
        }
      ]
    },
    {
      "cell_type": "code",
      "source": [
        "GENERATOR_SEED = 2147483647  # for reproducibility\n",
        "g = torch.Generator().manual_seed(GENERATOR_SEED)\n",
        "C = torch.randn((27, 10), generator=g)\n",
        "W1 = torch.randn((30, 200), generator=g)\n",
        "b1 = torch.randn(200, generator=g)\n",
        "W2 = torch.randn((200, 27), generator=g)\n",
        "b2 = torch.randn(27, generator=g)\n",
        "parameters = [C, W1, b1, W2, b2]"
      ],
      "metadata": {
        "id": "EAA0_oigc13X"
      },
      "execution_count": 12,
      "outputs": []
    },
    {
      "cell_type": "code",
      "source": [
        "sum(p.nelement() for p in parameters) # number of parameters in total"
      ],
      "metadata": {
        "colab": {
          "base_uri": "https://localhost:8080/"
        },
        "id": "_HcVef6-c5S4",
        "outputId": "09b00616-9632-47ee-b254-fb04c3d8f288"
      },
      "execution_count": 13,
      "outputs": [
        {
          "output_type": "execute_result",
          "data": {
            "text/plain": [
              "11897"
            ]
          },
          "metadata": {},
          "execution_count": 13
        }
      ]
    },
    {
      "cell_type": "code",
      "source": [
        "for p in parameters:\n",
        "  p.requires_grad = True"
      ],
      "metadata": {
        "id": "coNBea1sc6tm"
      },
      "execution_count": 14,
      "outputs": []
    },
    {
      "cell_type": "code",
      "source": [
        "C.shape"
      ],
      "metadata": {
        "colab": {
          "base_uri": "https://localhost:8080/"
        },
        "id": "CymZcj7Foqvc",
        "outputId": "cbb1b9e5-d7b5-4efa-cf50-0219f2bfb9a5"
      },
      "execution_count": 15,
      "outputs": [
        {
          "output_type": "execute_result",
          "data": {
            "text/plain": [
              "torch.Size([27, 10])"
            ]
          },
          "metadata": {},
          "execution_count": 15
        }
      ]
    },
    {
      "cell_type": "code",
      "source": [
        "C[2] # Thes values are from the Tensor above (only not rounded)"
      ],
      "metadata": {
        "colab": {
          "base_uri": "https://localhost:8080/"
        },
        "id": "RNwTuhWhohIj",
        "outputId": "7e56f66e-aba6-4cea-9e58-6363a5972ada"
      },
      "execution_count": 16,
      "outputs": [
        {
          "output_type": "execute_result",
          "data": {
            "text/plain": [
              "tensor([ 0.9849, -0.1484, -1.4795,  0.4483, -0.0707,  2.4968,  2.4448, -0.6701,\n",
              "        -1.2199,  0.3031], grad_fn=<SelectBackward0>)"
            ]
          },
          "metadata": {},
          "execution_count": 16
        }
      ]
    },
    {
      "cell_type": "code",
      "source": [
        "# We can also do the selection effectively using the One Hot Encoding method\n",
        "f_one_hot = F.one_hot(torch.tensor(2), num_classes=27)\n",
        "print(f_one_hot)\n",
        "print(f_one_hot.float() @ C)"
      ],
      "metadata": {
        "colab": {
          "base_uri": "https://localhost:8080/"
        },
        "id": "3Y20c3pdomkN",
        "outputId": "5d3d167f-5ea6-45c1-f2ec-08150e4ba3d9"
      },
      "execution_count": 17,
      "outputs": [
        {
          "output_type": "stream",
          "name": "stdout",
          "text": [
            "tensor([0, 0, 1, 0, 0, 0, 0, 0, 0, 0, 0, 0, 0, 0, 0, 0, 0, 0, 0, 0, 0, 0, 0, 0,\n",
            "        0, 0, 0])\n",
            "tensor([ 0.9849, -0.1484, -1.4795,  0.4483, -0.0707,  2.4968,  2.4448, -0.6701,\n",
            "        -1.2199,  0.3031], grad_fn=<SqueezeBackward4>)\n"
          ]
        }
      ]
    },
    {
      "cell_type": "code",
      "source": [
        "## PyTorch tensors indexing\n",
        "print(C[torch.tensor([2,6,7])])\n",
        "print(C[torch.tensor([2,2,2,2,2,6,7,7,7,2])])\n",
        "print(f\"C dimensions: {C.shape}\")\n",
        "print(f\"Xtr dimensions: {Xtr.shape}\")\n",
        "print(f\"C[Xtr] dimensions: {C[Xtr].shape}\") # [182424, 3, 10]. z=10 is embedding vector from the C. x, y are the Xtr dimensions\n",
        "print(C[Xtr])\n",
        "example_location = Xtr[4, 2]\n",
        "print(\"Selecting individual integer from the tensor: \", example_location, example_location.item())\n",
        "print(C[Xtr][4,2])\n",
        "print(\"This is == to selecting by the example_location.item():\")\n",
        "print(C[example_location.item()])"
      ],
      "metadata": {
        "colab": {
          "base_uri": "https://localhost:8080/"
        },
        "id": "MH7XD6IspeG5",
        "outputId": "8f7d9ccf-7a4a-4efa-b804-be94243492c9"
      },
      "execution_count": 18,
      "outputs": [
        {
          "output_type": "stream",
          "name": "stdout",
          "text": [
            "tensor([[ 0.9849, -0.1484, -1.4795,  0.4483, -0.0707,  2.4968,  2.4448, -0.6701,\n",
            "         -1.2199,  0.3031],\n",
            "        [ 0.1351, -0.2116, -1.0406, -1.5367,  0.9374, -0.8830,  1.7457,  2.1346,\n",
            "         -0.8561,  0.5408],\n",
            "        [ 0.6169,  1.5160, -1.0447, -0.6641, -0.7239,  1.7507,  0.1753,  0.9928,\n",
            "         -0.6279,  0.0770]], grad_fn=<IndexBackward0>)\n",
            "tensor([[ 0.9849, -0.1484, -1.4795,  0.4483, -0.0707,  2.4968,  2.4448, -0.6701,\n",
            "         -1.2199,  0.3031],\n",
            "        [ 0.9849, -0.1484, -1.4795,  0.4483, -0.0707,  2.4968,  2.4448, -0.6701,\n",
            "         -1.2199,  0.3031],\n",
            "        [ 0.9849, -0.1484, -1.4795,  0.4483, -0.0707,  2.4968,  2.4448, -0.6701,\n",
            "         -1.2199,  0.3031],\n",
            "        [ 0.9849, -0.1484, -1.4795,  0.4483, -0.0707,  2.4968,  2.4448, -0.6701,\n",
            "         -1.2199,  0.3031],\n",
            "        [ 0.9849, -0.1484, -1.4795,  0.4483, -0.0707,  2.4968,  2.4448, -0.6701,\n",
            "         -1.2199,  0.3031],\n",
            "        [ 0.1351, -0.2116, -1.0406, -1.5367,  0.9374, -0.8830,  1.7457,  2.1346,\n",
            "         -0.8561,  0.5408],\n",
            "        [ 0.6169,  1.5160, -1.0447, -0.6641, -0.7239,  1.7507,  0.1753,  0.9928,\n",
            "         -0.6279,  0.0770],\n",
            "        [ 0.6169,  1.5160, -1.0447, -0.6641, -0.7239,  1.7507,  0.1753,  0.9928,\n",
            "         -0.6279,  0.0770],\n",
            "        [ 0.6169,  1.5160, -1.0447, -0.6641, -0.7239,  1.7507,  0.1753,  0.9928,\n",
            "         -0.6279,  0.0770],\n",
            "        [ 0.9849, -0.1484, -1.4795,  0.4483, -0.0707,  2.4968,  2.4448, -0.6701,\n",
            "         -1.2199,  0.3031]], grad_fn=<IndexBackward0>)\n",
            "C dimensions: torch.Size([27, 10])\n",
            "Xtr dimensions: torch.Size([182625, 3])\n",
            "C[Xtr] dimensions: torch.Size([182625, 3, 10])\n",
            "tensor([[[ 1.5674e+00, -2.3729e-01, -2.7385e-02,  ...,  6.0489e-01,\n",
            "           7.9136e-02,  9.0462e-01],\n",
            "         [ 1.5674e+00, -2.3729e-01, -2.7385e-02,  ...,  6.0489e-01,\n",
            "           7.9136e-02,  9.0462e-01],\n",
            "         [ 1.5674e+00, -2.3729e-01, -2.7385e-02,  ...,  6.0489e-01,\n",
            "           7.9136e-02,  9.0462e-01]],\n",
            "\n",
            "        [[ 1.5674e+00, -2.3729e-01, -2.7385e-02,  ...,  6.0489e-01,\n",
            "           7.9136e-02,  9.0462e-01],\n",
            "         [ 1.5674e+00, -2.3729e-01, -2.7385e-02,  ...,  6.0489e-01,\n",
            "           7.9136e-02,  9.0462e-01],\n",
            "         [-1.2801e+00,  9.2445e-02,  1.0526e-01,  ..., -8.1628e-01,\n",
            "          -3.9243e-01, -7.4521e-01]],\n",
            "\n",
            "        [[ 1.5674e+00, -2.3729e-01, -2.7385e-02,  ...,  6.0489e-01,\n",
            "           7.9136e-02,  9.0462e-01],\n",
            "         [-1.2801e+00,  9.2445e-02,  1.0526e-01,  ..., -8.1628e-01,\n",
            "          -3.9243e-01, -7.4521e-01],\n",
            "         [-2.4780e-01,  8.8282e-01, -8.1004e-02,  ..., -1.9295e-01,\n",
            "           1.2348e+00,  3.3308e-01]],\n",
            "\n",
            "        ...,\n",
            "\n",
            "        [[ 5.5570e-01,  4.7458e-01, -1.3867e+00,  ...,  1.0198e+00,\n",
            "          -1.9062e+00, -4.2753e-01],\n",
            "         [-5.6144e-01, -1.3753e-01, -1.3799e-01,  ..., -5.1029e-01,\n",
            "           5.6421e-01,  9.6838e-01],\n",
            "         [-9.6478e-01, -2.3211e-01, -3.4762e-01,  ...,  4.5846e-01,\n",
            "           5.4011e-02, -1.7400e+00]],\n",
            "\n",
            "        [[-5.6144e-01, -1.3753e-01, -1.3799e-01,  ..., -5.1029e-01,\n",
            "           5.6421e-01,  9.6838e-01],\n",
            "         [-9.6478e-01, -2.3211e-01, -3.4762e-01,  ...,  4.5846e-01,\n",
            "           5.4011e-02, -1.7400e+00],\n",
            "         [-4.7125e-01,  7.8682e-01, -3.2843e-01,  ..., -1.6261e+00,\n",
            "           6.7716e-01, -8.4039e-01]],\n",
            "\n",
            "        [[-9.6478e-01, -2.3211e-01, -3.4762e-01,  ...,  4.5846e-01,\n",
            "           5.4011e-02, -1.7400e+00],\n",
            "         [-4.7125e-01,  7.8682e-01, -3.2843e-01,  ..., -1.6261e+00,\n",
            "           6.7716e-01, -8.4039e-01],\n",
            "         [ 4.6827e-01, -6.5650e-01,  6.1662e-01,  ..., -4.5585e-01,\n",
            "          -1.3132e-03, -5.1161e-01]]], grad_fn=<IndexBackward0>)\n",
            "Selecting individual integer from the tensor:  tensor(5) 5\n",
            "tensor([ 0.1156,  0.8032,  0.5411, -1.1646,  0.1476, -1.0006,  0.3801,  0.4733,\n",
            "        -0.9103, -0.7830], grad_fn=<SelectBackward0>)\n",
            "This is == to selecting by the example_location.item():\n",
            "tensor([ 0.1156,  0.8032,  0.5411, -1.1646,  0.1476, -1.0006,  0.3801,  0.4733,\n",
            "        -0.9103, -0.7830], grad_fn=<SelectBackward0>)\n"
          ]
        }
      ]
    },
    {
      "cell_type": "code",
      "source": [
        "emb = C[Xtr]\n",
        "emb.shape"
      ],
      "metadata": {
        "colab": {
          "base_uri": "https://localhost:8080/"
        },
        "id": "N7-3ORmf1QOq",
        "outputId": "6c3564c0-96ea-4308-ca56-8d539283a397"
      },
      "execution_count": 19,
      "outputs": [
        {
          "output_type": "execute_result",
          "data": {
            "text/plain": [
              "torch.Size([182625, 3, 10])"
            ]
          },
          "metadata": {},
          "execution_count": 19
        }
      ]
    },
    {
      "cell_type": "code",
      "source": [
        "W_x_shape = emb.shape[0] * emb.shape[2] # * emb.shape[2]\n",
        "W_y_shape = 100 # Chosen some meaningul value\n",
        "print(f\"W_x_shape: {W_x_shape}\")\n",
        "W = torch.randn((W_x_shape, W_y_shape))\n",
        "W"
      ],
      "metadata": {
        "colab": {
          "base_uri": "https://localhost:8080/"
        },
        "id": "vlP4Ewjm1Yd4",
        "outputId": "05d4c034-9158-4c32-9e2c-226fb8f1fc5b"
      },
      "execution_count": 20,
      "outputs": [
        {
          "output_type": "stream",
          "name": "stdout",
          "text": [
            "W_x_shape: 1826250\n"
          ]
        },
        {
          "output_type": "execute_result",
          "data": {
            "text/plain": [
              "tensor([[ 0.5716,  1.8084,  0.9752,  ...,  1.6933,  0.3253,  0.3834],\n",
              "        [ 0.3865, -0.1487, -0.6291,  ...,  0.8707, -0.7697,  0.0992],\n",
              "        [ 0.7620,  1.5228, -0.0548,  ..., -0.1419, -0.1036, -0.7217],\n",
              "        ...,\n",
              "        [-0.1539, -1.2765, -0.2216,  ..., -0.2401,  2.0253,  0.8696],\n",
              "        [ 0.2348,  0.5191,  1.6833,  ...,  0.7447, -0.0800, -0.2927],\n",
              "        [-0.7104, -1.0585,  0.7370,  ...,  0.4964,  1.0021,  1.0165]])"
            ]
          },
          "metadata": {},
          "execution_count": 20
        }
      ]
    },
    {
      "cell_type": "code",
      "source": [
        "# What we want. WARNING: This will produce an error due to the uncompatible shape\n",
        "# emb @ W1 + b1\n",
        "# What we need\n",
        "# Those are the 3 embeddings selected (the very first \"nodes\" of the NN, see the picture in the original MLP paper or Andrej's video)\n",
        "print(emb[:, 0, :].size())\n",
        "print(emb[:, 1, :].size())\n",
        "print(emb[:, 2, :].size())\n",
        "# Concatination of the tensors together in order to edit the shape\n",
        "concat_embeddings = torch.cat([emb[:, 0, :], emb[:, 1, :], emb[:, 2, :]], 1) # Now the shape is what we need\n",
        "print(concat_embeddings.size())"
      ],
      "metadata": {
        "id": "5a_KKplH5N1-",
        "outputId": "8ed2f039-0725-4fde-99d8-b5db57ccff09",
        "colab": {
          "base_uri": "https://localhost:8080/"
        }
      },
      "execution_count": 22,
      "outputs": [
        {
          "output_type": "stream",
          "name": "stdout",
          "text": [
            "torch.Size([182625, 10])\n",
            "torch.Size([182625, 10])\n",
            "torch.Size([182625, 10])\n",
            "torch.Size([182625, 30])\n"
          ]
        }
      ]
    },
    {
      "cell_type": "code",
      "source": [
        "torch.unbind(emb, 1)"
      ],
      "metadata": {
        "id": "0_-TGtFPUlqi",
        "outputId": "c00765a6-4f73-4295-f504-13cebb4660c5",
        "colab": {
          "base_uri": "https://localhost:8080/"
        }
      },
      "execution_count": 23,
      "outputs": [
        {
          "output_type": "execute_result",
          "data": {
            "text/plain": [
              "(tensor([[ 1.5674, -0.2373, -0.0274,  ...,  0.6049,  0.0791,  0.9046],\n",
              "         [ 1.5674, -0.2373, -0.0274,  ...,  0.6049,  0.0791,  0.9046],\n",
              "         [ 1.5674, -0.2373, -0.0274,  ...,  0.6049,  0.0791,  0.9046],\n",
              "         ...,\n",
              "         [ 0.5557,  0.4746, -1.3867,  ...,  1.0198, -1.9062, -0.4275],\n",
              "         [-0.5614, -0.1375, -0.1380,  ..., -0.5103,  0.5642,  0.9684],\n",
              "         [-0.9648, -0.2321, -0.3476,  ...,  0.4585,  0.0540, -1.7400]],\n",
              "        grad_fn=<UnbindBackward0>),\n",
              " tensor([[ 1.5674, -0.2373, -0.0274,  ...,  0.6049,  0.0791,  0.9046],\n",
              "         [ 1.5674, -0.2373, -0.0274,  ...,  0.6049,  0.0791,  0.9046],\n",
              "         [-1.2801,  0.0924,  0.1053,  ..., -0.8163, -0.3924, -0.7452],\n",
              "         ...,\n",
              "         [-0.5614, -0.1375, -0.1380,  ..., -0.5103,  0.5642,  0.9684],\n",
              "         [-0.9648, -0.2321, -0.3476,  ...,  0.4585,  0.0540, -1.7400],\n",
              "         [-0.4713,  0.7868, -0.3284,  ..., -1.6261,  0.6772, -0.8404]],\n",
              "        grad_fn=<UnbindBackward0>),\n",
              " tensor([[ 1.5674e+00, -2.3729e-01, -2.7385e-02,  ...,  6.0489e-01,\n",
              "           7.9136e-02,  9.0462e-01],\n",
              "         [-1.2801e+00,  9.2445e-02,  1.0526e-01,  ..., -8.1628e-01,\n",
              "          -3.9243e-01, -7.4521e-01],\n",
              "         [-2.4780e-01,  8.8282e-01, -8.1004e-02,  ..., -1.9295e-01,\n",
              "           1.2348e+00,  3.3308e-01],\n",
              "         ...,\n",
              "         [-9.6478e-01, -2.3211e-01, -3.4762e-01,  ...,  4.5846e-01,\n",
              "           5.4011e-02, -1.7400e+00],\n",
              "         [-4.7125e-01,  7.8682e-01, -3.2843e-01,  ..., -1.6261e+00,\n",
              "           6.7716e-01, -8.4039e-01],\n",
              "         [ 4.6827e-01, -6.5650e-01,  6.1662e-01,  ..., -4.5585e-01,\n",
              "          -1.3132e-03, -5.1161e-01]], grad_fn=<UnbindBackward0>))"
            ]
          },
          "metadata": {},
          "execution_count": 23
        }
      ]
    },
    {
      "cell_type": "code",
      "source": [
        "torch.cat(torch.unbind(emb, 1), 1).shape # we finally have same result as before (but with much better SW engineering practises)"
      ],
      "metadata": {
        "id": "orITpO31WaY8",
        "outputId": "940230ca-ceb8-4481-abb5-b0c187e4024e",
        "colab": {
          "base_uri": "https://localhost:8080/"
        }
      },
      "execution_count": 24,
      "outputs": [
        {
          "output_type": "execute_result",
          "data": {
            "text/plain": [
              "torch.Size([182625, 30])"
            ]
          },
          "metadata": {},
          "execution_count": 24
        }
      ]
    },
    {
      "cell_type": "code",
      "source": [
        "a = torch.arange(18)\n",
        "a"
      ],
      "metadata": {
        "id": "FGoJku5GWgOr",
        "outputId": "e16d6db1-afb1-44ce-b2a1-6533b382d50d",
        "colab": {
          "base_uri": "https://localhost:8080/"
        }
      },
      "execution_count": 25,
      "outputs": [
        {
          "output_type": "execute_result",
          "data": {
            "text/plain": [
              "tensor([ 0,  1,  2,  3,  4,  5,  6,  7,  8,  9, 10, 11, 12, 13, 14, 15, 16, 17])"
            ]
          },
          "metadata": {},
          "execution_count": 25
        }
      ]
    },
    {
      "cell_type": "code",
      "source": [
        "## EFFICIENTY OF TORCH\n",
        "a.storage() # this is TOrch in memory\n",
        "# TODO: What is the purpose f a.view()?\n"
      ],
      "metadata": {
        "id": "lGQArXBvXFgg",
        "outputId": "ce1f7d5d-75e4-4edb-cb9a-d6ea62f4bfdf",
        "colab": {
          "base_uri": "https://localhost:8080/"
        }
      },
      "execution_count": 26,
      "outputs": [
        {
          "output_type": "stream",
          "name": "stderr",
          "text": [
            "<ipython-input-26-1fb01bc2b505>:2: UserWarning: TypedStorage is deprecated. It will be removed in the future and UntypedStorage will be the only storage class. This should only matter to you if you are using storages directly.  To access UntypedStorage directly, use tensor.untyped_storage() instead of tensor.storage()\n",
            "  a.storage() # this is TOrch in memory\n"
          ]
        },
        {
          "output_type": "execute_result",
          "data": {
            "text/plain": [
              " 0\n",
              " 1\n",
              " 2\n",
              " 3\n",
              " 4\n",
              " 5\n",
              " 6\n",
              " 7\n",
              " 8\n",
              " 9\n",
              " 10\n",
              " 11\n",
              " 12\n",
              " 13\n",
              " 14\n",
              " 15\n",
              " 16\n",
              " 17\n",
              "[torch.storage.TypedStorage(dtype=torch.int64, device=cpu) of size 18]"
            ]
          },
          "metadata": {},
          "execution_count": 26
        }
      ]
    },
    {
      "cell_type": "code",
      "source": [
        "print(a.view(9,2)) # representing the 'a' as a different size tensor\n",
        "print(a.view(3,3,2))"
      ],
      "metadata": {
        "colab": {
          "base_uri": "https://localhost:8080/"
        },
        "id": "zEps138TbGOa",
        "outputId": "8656827b-f416-47e5-b46f-b11e75cb6fee"
      },
      "execution_count": 27,
      "outputs": [
        {
          "output_type": "stream",
          "name": "stdout",
          "text": [
            "tensor([[ 0,  1],\n",
            "        [ 2,  3],\n",
            "        [ 4,  5],\n",
            "        [ 6,  7],\n",
            "        [ 8,  9],\n",
            "        [10, 11],\n",
            "        [12, 13],\n",
            "        [14, 15],\n",
            "        [16, 17]])\n",
            "tensor([[[ 0,  1],\n",
            "         [ 2,  3],\n",
            "         [ 4,  5]],\n",
            "\n",
            "        [[ 6,  7],\n",
            "         [ 8,  9],\n",
            "         [10, 11]],\n",
            "\n",
            "        [[12, 13],\n",
            "         [14, 15],\n",
            "         [16, 17]]])\n"
          ]
        }
      ]
    },
    {
      "cell_type": "code",
      "source": [
        "# The equality of using the previous approch of concatinating the embeddings and the view() method\n",
        "torch.cat(torch.unbind(emb, 1), 1) == emb.view(182625, 30)"
      ],
      "metadata": {
        "colab": {
          "base_uri": "https://localhost:8080/"
        },
        "id": "GVx9JInJcYyM",
        "outputId": "78b9ab0d-fb66-407b-b2bb-0cb403417f41"
      },
      "execution_count": 33,
      "outputs": [
        {
          "output_type": "execute_result",
          "data": {
            "text/plain": [
              "tensor([[True, True, True,  ..., True, True, True],\n",
              "        [True, True, True,  ..., True, True, True],\n",
              "        [True, True, True,  ..., True, True, True],\n",
              "        ...,\n",
              "        [True, True, True,  ..., True, True, True],\n",
              "        [True, True, True,  ..., True, True, True],\n",
              "        [True, True, True,  ..., True, True, True]])"
            ]
          },
          "metadata": {},
          "execution_count": 33
        }
      ]
    },
    {
      "cell_type": "code",
      "source": [
        "lre = torch.linspace(-3, 0, 1000)\n",
        "lrs = 10**lre"
      ],
      "metadata": {
        "id": "nFWpAj_9c9Yr"
      },
      "execution_count": 34,
      "outputs": []
    },
    {
      "cell_type": "code",
      "source": [
        "emb_view_X_dim = 182625\n"
      ],
      "metadata": {
        "id": "FI4Rsg4VfpZd"
      },
      "execution_count": null,
      "outputs": []
    },
    {
      "cell_type": "code",
      "source": [
        "## Hidden layer\n",
        "Xtr_x_dim = Xtr.shape[0]\n",
        "Xtr_x_dim\n"
      ],
      "metadata": {
        "colab": {
          "base_uri": "https://localhost:8080/"
        },
        "id": "EYgPT9uEfYXH",
        "outputId": "d8cb032a-6f11-4589-d016-cba7d57aee1c"
      },
      "execution_count": 70,
      "outputs": [
        {
          "output_type": "execute_result",
          "data": {
            "text/plain": [
              "182625"
            ]
          },
          "metadata": {},
          "execution_count": 70
        }
      ]
    },
    {
      "cell_type": "code",
      "source": [
        "torch.arange(Xtr_x_dim)"
      ],
      "metadata": {
        "colab": {
          "base_uri": "https://localhost:8080/"
        },
        "id": "lS7esSx7gRIN",
        "outputId": "8f279b20-9d11-4f21-8c0f-7f3d5f8694f0"
      },
      "execution_count": 71,
      "outputs": [
        {
          "output_type": "execute_result",
          "data": {
            "text/plain": [
              "tensor([     0,      1,      2,  ..., 182622, 182623, 182624])"
            ]
          },
          "metadata": {},
          "execution_count": 71
        }
      ]
    },
    {
      "cell_type": "code",
      "source": [
        "b_tr = torch.randn(Xtr_x_dim)\n",
        "b_tr.shape"
      ],
      "metadata": {
        "colab": {
          "base_uri": "https://localhost:8080/"
        },
        "id": "jr7FDm-tgb90",
        "outputId": "d5c65190-3baa-4a87-ee0f-6bdfe3408fb0"
      },
      "execution_count": 72,
      "outputs": [
        {
          "output_type": "execute_result",
          "data": {
            "text/plain": [
              "torch.Size([182625])"
            ]
          },
          "metadata": {},
          "execution_count": 72
        }
      ]
    },
    {
      "cell_type": "code",
      "source": [
        "emb = C[Xtr]\n",
        "emb.view(-1, Xtr_x_dim)"
      ],
      "metadata": {
        "colab": {
          "base_uri": "https://localhost:8080/"
        },
        "id": "9Nx8mK6fkMYz",
        "outputId": "41059371-28e9-440f-a30b-97e1b23a1e44"
      },
      "execution_count": 62,
      "outputs": [
        {
          "output_type": "execute_result",
          "data": {
            "text/plain": [
              "tensor([[ 1.6239,  0.3657,  0.0282,  ...,  0.2180,  0.5837, -0.7261],\n",
              "        [-0.6123, -1.1945,  0.7051,  ..., -0.1436,  0.1029, -0.3004],\n",
              "        [ 1.6239,  0.3657,  0.0282,  ..., -0.5034, -1.1575, -0.5403],\n",
              "        ...,\n",
              "        [ 0.3271, -1.2354,  0.8124,  ..., -0.6756, -0.0305, -0.7408],\n",
              "        [-0.3869, -0.1468, -0.5034,  ..., -0.2017, -0.2871, -0.2076],\n",
              "        [ 0.7470,  0.3676,  0.2818,  ...,  0.2818, -0.1661, -0.5096]],\n",
              "       grad_fn=<ViewBackward0>)"
            ]
          },
          "metadata": {},
          "execution_count": 62
        }
      ]
    },
    {
      "cell_type": "code",
      "source": [
        "### HIDDEN LAYER\n",
        "print(emb.shape)\n",
        "emb_y_z_dim = emb.shape[1]*emb.shape[2]\n",
        "W1 = torch.randn(emb_y_z_dim, W_y_shape)\n",
        "b1 = torch.randn(W_y_shape)\n",
        "print(W1.shape)\n",
        "print(b1.shape)\n",
        "print(emb.view(emb.shape[0], emb_y_z_dim).shape)\n",
        "h = emb.view(emb.shape[0], emb_y_z_dim) @ W1 + b1\n",
        "h = torch.tanh(h)\n",
        "h"
      ],
      "metadata": {
        "colab": {
          "base_uri": "https://localhost:8080/"
        },
        "id": "LEcMxJiLjXeY",
        "outputId": "9bb25a40-f81e-49fd-faaa-a2e010e4088d"
      },
      "execution_count": 104,
      "outputs": [
        {
          "output_type": "stream",
          "name": "stdout",
          "text": [
            "torch.Size([182625, 3, 10])\n",
            "torch.Size([30, 100])\n",
            "torch.Size([100])\n",
            "torch.Size([182625, 30])\n"
          ]
        },
        {
          "output_type": "execute_result",
          "data": {
            "text/plain": [
              "tensor([[-0.9804, -0.9481,  0.9914,  ...,  0.9995,  0.9810,  0.5214],\n",
              "        [-0.5557, -0.5430, -0.9122,  ...,  0.9531,  0.9827, -0.6871],\n",
              "        [ 0.9675, -0.3567,  0.5731,  ..., -0.9372,  0.9961, -0.9396],\n",
              "        ...,\n",
              "        [ 0.9998, -0.2658, -0.8588,  ..., -0.9989,  0.9902,  0.7910],\n",
              "        [ 0.9982,  0.4910, -1.0000,  ...,  0.9999,  0.9999, -0.4132],\n",
              "        [ 0.9994,  0.9882, -0.9295,  ...,  0.9997,  0.6117,  0.7509]],\n",
              "       grad_fn=<TanhBackward0>)"
            ]
          },
          "metadata": {},
          "execution_count": 104
        }
      ]
    },
    {
      "cell_type": "code",
      "source": [
        "### OUTPUT LAYER\n",
        "POSSIBLE_CHARS = 27\n",
        "W2 = torch.randn((W_y_shape, POSSIBLE_CHARS))\n",
        "b2 = torch.randn(POSSIBLE_CHARS)"
      ],
      "metadata": {
        "id": "hfNxCgkKr8wb"
      },
      "execution_count": 109,
      "outputs": []
    },
    {
      "cell_type": "code",
      "source": [
        "logits = h @ W2 + b2\n",
        "logits.shape"
      ],
      "metadata": {
        "colab": {
          "base_uri": "https://localhost:8080/"
        },
        "id": "6nMmZUufi9w3",
        "outputId": "1b7b47ab-edc7-4880-ef20-f64e68ba51e0"
      },
      "execution_count": 111,
      "outputs": [
        {
          "output_type": "execute_result",
          "data": {
            "text/plain": [
              "torch.Size([182625, 27])"
            ]
          },
          "metadata": {},
          "execution_count": 111
        }
      ]
    },
    {
      "cell_type": "code",
      "source": [
        "counts = logits.exp()\n",
        "counts.shape"
      ],
      "metadata": {
        "id": "IvWU9dekwaCe",
        "outputId": "0d23ccc3-8d00-4df0-cea3-11d60d5f9fbd",
        "colab": {
          "base_uri": "https://localhost:8080/"
        }
      },
      "execution_count": 128,
      "outputs": [
        {
          "output_type": "execute_result",
          "data": {
            "text/plain": [
              "torch.Size([182625, 27])"
            ]
          },
          "metadata": {},
          "execution_count": 128
        }
      ]
    },
    {
      "cell_type": "code",
      "source": [
        "prob = counts / counts.sum(1, keepdims=True)\n",
        "prob.shape"
      ],
      "metadata": {
        "id": "XkWcMClKwOx7",
        "outputId": "ca45586a-402a-4682-cdc8-502b813c4af9",
        "colab": {
          "base_uri": "https://localhost:8080/"
        }
      },
      "execution_count": 129,
      "outputs": [
        {
          "output_type": "execute_result",
          "data": {
            "text/plain": [
              "torch.Size([182625, 27])"
            ]
          },
          "metadata": {},
          "execution_count": 129
        }
      ]
    },
    {
      "cell_type": "code",
      "source": [
        "# see that probs are normalized (= summing to 1)\n",
        "prob[0].sum()"
      ],
      "metadata": {
        "id": "rUjcRjWexBEl",
        "outputId": "bfece70e-d091-4a00-bfa3-2689d8949c2d",
        "colab": {
          "base_uri": "https://localhost:8080/"
        }
      },
      "execution_count": 115,
      "outputs": [
        {
          "output_type": "execute_result",
          "data": {
            "text/plain": [
              "tensor(1.0000, grad_fn=<SumBackward0>)"
            ]
          },
          "metadata": {},
          "execution_count": 115
        }
      ]
    },
    {
      "cell_type": "code",
      "source": [
        "## PREDICTING THE Y"
      ],
      "metadata": {
        "id": "ZOwP7_92x0Ct"
      },
      "execution_count": null,
      "outputs": []
    },
    {
      "cell_type": "code",
      "source": [
        "# Reminder of the main goal: we want to predict the Y\n",
        "Ytr\n",
        "Ytr.shape"
      ],
      "metadata": {
        "colab": {
          "base_uri": "https://localhost:8080/"
        },
        "id": "aKOUv98pg79M",
        "outputId": "36d3f9e9-04e5-4173-eac5-9837896ca98b"
      },
      "execution_count": 118,
      "outputs": [
        {
          "output_type": "execute_result",
          "data": {
            "text/plain": [
              "torch.Size([182625])"
            ]
          },
          "metadata": {},
          "execution_count": 118
        }
      ]
    },
    {
      "cell_type": "code",
      "source": [
        "# Like in the case of Bigrams lang. model, we want to index each row ang plug out the correct probability for the given character\n",
        "rows_indexes = torch.arange(Ytr.shape[0]) # This will select the necessary rows\n",
        "rows_indexes"
      ],
      "metadata": {
        "id": "OnDBevhqwr2p",
        "outputId": "2fcf85c6-87f0-4559-a015-3b5ed3dcbd63",
        "colab": {
          "base_uri": "https://localhost:8080/"
        }
      },
      "execution_count": 124,
      "outputs": [
        {
          "output_type": "execute_result",
          "data": {
            "text/plain": [
              "tensor([     0,      1,      2,  ..., 182622, 182623, 182624])"
            ]
          },
          "metadata": {},
          "execution_count": 124
        }
      ]
    },
    {
      "cell_type": "code",
      "source": [
        "prob[rows_indexes, Ytr]\n",
        "# You can see very low probabilities here. But we haven't trained the network yet, so this is expected."
      ],
      "metadata": {
        "id": "RhZ-A4PzyCgY",
        "outputId": "16a84888-894c-4a43-8860-a261abd851cc",
        "colab": {
          "base_uri": "https://localhost:8080/"
        }
      },
      "execution_count": 126,
      "outputs": [
        {
          "output_type": "execute_result",
          "data": {
            "text/plain": [
              "tensor([4.0319e-12, 1.6939e-16, 1.2945e-06,  ..., 4.8899e-13, 3.1018e-16,\n",
              "        7.7022e-01], grad_fn=<IndexBackward0>)"
            ]
          },
          "metadata": {},
          "execution_count": 126
        }
      ]
    },
    {
      "cell_type": "code",
      "source": [
        "loss = -prob[rows_indexes, Ytr].log().mean()\n",
        "loss"
      ],
      "metadata": {
        "id": "96vyRbi2y84Y",
        "outputId": "cb9ab61d-6e39-4595-ef02-2a2678c1eb3f",
        "colab": {
          "base_uri": "https://localhost:8080/"
        }
      },
      "execution_count": 127,
      "outputs": [
        {
          "output_type": "execute_result",
          "data": {
            "text/plain": [
              "tensor(18.8370, grad_fn=<NegBackward0>)"
            ]
          },
          "metadata": {},
          "execution_count": 127
        }
      ]
    },
    {
      "cell_type": "code",
      "source": [
        "lri = []\n",
        "lossi = []\n",
        "stepi = []"
      ],
      "metadata": {
        "id": "t2huuyTudBlF"
      },
      "execution_count": 35,
      "outputs": []
    },
    {
      "cell_type": "code",
      "source": [
        "for i in range(1000):\n",
        "\n",
        "  # minibatch construct\n",
        "  ix = torch.randint(0, Xtr.shape[0], (32,))\n",
        "\n",
        "  # forward pass\n",
        "  emb = C[Xtr[ix]] # (32, 3, 2)\n",
        "  h = torch.tanh(emb.view(-1, 30) @ W1 + b1) # (32, 100)\n",
        "  logits = h @ W2 + b2 # (32, 27)\n",
        "  # Old way:\n",
        "  \"\"\"\n",
        "  rows_indexes = torch.arange(Ytr[ix].shape[0])\n",
        "  counts = logits.exp()\n",
        "  prob = counts / counts.sum(1, keepdims=True)\n",
        "  loss = -prob[rows_indexes, Ytr[ix]].log().mean()\n",
        "  \"\"\"\n",
        "  # New way:\n",
        "  loss = F.cross_entropy(logits, Ytr[ix])\n",
        "\n",
        "  print(loss.item())\n",
        "\n",
        "  # backward pass\n",
        "  for p in parameters:\n",
        "    p.grad = None\n",
        "  loss.backward()\n",
        "\n"
      ],
      "metadata": {
        "id": "DFOrEI5azwEt",
        "outputId": "1a15234e-47bb-4901-c7fe-6707f82a208b",
        "colab": {
          "base_uri": "https://localhost:8080/"
        }
      },
      "execution_count": 139,
      "outputs": [
        {
          "output_type": "stream",
          "name": "stdout",
          "text": [
            "14.424185752868652\n",
            "16.874921798706055\n",
            "17.685800552368164\n",
            "14.90078353881836\n",
            "16.720321655273438\n",
            "13.407326698303223\n",
            "15.338845252990723\n",
            "16.977643966674805\n",
            "15.087929725646973\n",
            "15.533321380615234\n",
            "15.386523246765137\n",
            "15.28035831451416\n",
            "15.268209457397461\n",
            "17.140880584716797\n",
            "20.024568557739258\n",
            "17.22852897644043\n",
            "15.10047435760498\n",
            "19.893247604370117\n",
            "19.888885498046875\n",
            "15.973905563354492\n",
            "15.372411727905273\n",
            "12.55702018737793\n",
            "14.817347526550293\n",
            "15.65913200378418\n",
            "18.360599517822266\n",
            "14.590165138244629\n",
            "17.1221923828125\n",
            "16.494861602783203\n",
            "16.553804397583008\n",
            "15.718280792236328\n",
            "17.23801040649414\n",
            "15.09212875366211\n",
            "18.32190704345703\n",
            "15.759593963623047\n",
            "16.05760955810547\n",
            "16.77733039855957\n",
            "20.433744430541992\n",
            "19.718149185180664\n",
            "15.99337100982666\n",
            "17.102367401123047\n",
            "16.217636108398438\n",
            "16.42728042602539\n",
            "18.40416145324707\n",
            "13.860017776489258\n",
            "16.330263137817383\n",
            "15.509549140930176\n",
            "16.197355270385742\n",
            "16.884937286376953\n",
            "17.343185424804688\n",
            "15.42184066772461\n",
            "15.610081672668457\n",
            "14.404385566711426\n",
            "16.227209091186523\n",
            "16.77660369873047\n",
            "15.679555892944336\n",
            "19.478740692138672\n",
            "19.57999038696289\n",
            "17.529691696166992\n",
            "15.188705444335938\n",
            "15.525857925415039\n",
            "14.264572143554688\n",
            "16.16655158996582\n",
            "16.094127655029297\n",
            "15.618764877319336\n",
            "17.001220703125\n",
            "17.134031295776367\n",
            "14.771939277648926\n",
            "18.495378494262695\n",
            "14.653205871582031\n",
            "14.010190963745117\n",
            "16.003646850585938\n",
            "19.32835578918457\n",
            "15.826571464538574\n",
            "16.817657470703125\n",
            "14.579366683959961\n",
            "19.128694534301758\n",
            "15.752155303955078\n",
            "20.072647094726562\n",
            "15.879841804504395\n",
            "13.71335220336914\n",
            "17.08319664001465\n",
            "16.20557403564453\n",
            "18.824613571166992\n",
            "17.862180709838867\n",
            "14.273932456970215\n",
            "16.691051483154297\n",
            "19.104679107666016\n",
            "17.084150314331055\n",
            "19.06549072265625\n",
            "19.50627899169922\n",
            "14.429459571838379\n",
            "18.823789596557617\n",
            "14.566093444824219\n",
            "20.607158660888672\n",
            "16.549327850341797\n",
            "14.694486618041992\n",
            "15.997126579284668\n",
            "16.395652770996094\n",
            "13.67312240600586\n",
            "16.170169830322266\n",
            "15.747903823852539\n",
            "16.214967727661133\n",
            "18.296077728271484\n",
            "16.324983596801758\n",
            "18.90685272216797\n",
            "17.463167190551758\n",
            "18.354970932006836\n",
            "19.417959213256836\n",
            "16.17498016357422\n",
            "15.298938751220703\n",
            "17.59571075439453\n",
            "17.366689682006836\n",
            "17.539684295654297\n",
            "18.609418869018555\n",
            "19.196063995361328\n",
            "17.10961151123047\n",
            "18.053016662597656\n",
            "15.64970874786377\n",
            "15.474448204040527\n",
            "17.426231384277344\n",
            "19.53868865966797\n",
            "18.362348556518555\n",
            "20.226438522338867\n",
            "16.872901916503906\n",
            "17.450178146362305\n",
            "17.74357032775879\n",
            "18.709341049194336\n",
            "15.848158836364746\n",
            "17.477384567260742\n",
            "18.528240203857422\n",
            "18.83034896850586\n",
            "17.143814086914062\n",
            "19.251489639282227\n",
            "19.805152893066406\n",
            "21.024324417114258\n",
            "18.37140464782715\n",
            "18.071136474609375\n",
            "16.46965980529785\n",
            "20.271560668945312\n",
            "17.666587829589844\n",
            "14.773568153381348\n",
            "15.935462951660156\n",
            "16.512258529663086\n",
            "18.3073787689209\n",
            "17.25983428955078\n",
            "18.402599334716797\n",
            "15.910150527954102\n",
            "17.38525390625\n",
            "17.301921844482422\n",
            "17.302047729492188\n",
            "16.283836364746094\n",
            "17.697040557861328\n",
            "16.658676147460938\n",
            "18.874296188354492\n",
            "15.108354568481445\n",
            "15.896687507629395\n",
            "18.372512817382812\n",
            "14.654500961303711\n",
            "18.231325149536133\n",
            "16.82146453857422\n",
            "17.18367576599121\n",
            "18.427806854248047\n",
            "17.12364387512207\n",
            "15.77393913269043\n",
            "15.662557601928711\n",
            "18.427122116088867\n",
            "16.880874633789062\n",
            "20.113439559936523\n",
            "16.36501121520996\n",
            "17.778575897216797\n",
            "18.195573806762695\n",
            "14.943290710449219\n",
            "19.23560333251953\n",
            "16.225732803344727\n",
            "20.20254135131836\n",
            "18.588764190673828\n",
            "20.395185470581055\n",
            "15.442505836486816\n",
            "15.616150856018066\n",
            "21.742074966430664\n",
            "17.059152603149414\n",
            "18.839754104614258\n",
            "17.187345504760742\n",
            "16.784059524536133\n",
            "20.069623947143555\n",
            "17.465627670288086\n",
            "14.775630950927734\n",
            "16.33926773071289\n",
            "17.620779037475586\n",
            "16.91929054260254\n",
            "18.15967559814453\n",
            "18.529132843017578\n",
            "17.293209075927734\n",
            "19.349727630615234\n",
            "19.021604537963867\n",
            "16.583274841308594\n",
            "17.64480209350586\n",
            "20.69481658935547\n",
            "15.989837646484375\n",
            "17.005590438842773\n",
            "15.497057914733887\n",
            "16.767026901245117\n",
            "17.69366455078125\n",
            "17.858871459960938\n",
            "16.050519943237305\n",
            "17.09880828857422\n",
            "15.874687194824219\n",
            "17.224403381347656\n",
            "14.913176536560059\n",
            "18.755855560302734\n",
            "14.948222160339355\n",
            "16.260765075683594\n",
            "13.71806526184082\n",
            "19.299419403076172\n",
            "16.354476928710938\n",
            "17.58371353149414\n",
            "16.109764099121094\n",
            "14.047767639160156\n",
            "19.062211990356445\n",
            "17.189607620239258\n",
            "19.185447692871094\n",
            "16.99303436279297\n",
            "15.693704605102539\n",
            "18.838354110717773\n",
            "19.99532127380371\n",
            "17.492700576782227\n",
            "16.751556396484375\n",
            "17.257970809936523\n",
            "17.27458953857422\n",
            "16.79415512084961\n",
            "17.003751754760742\n",
            "17.351318359375\n",
            "17.26894187927246\n",
            "17.112876892089844\n",
            "14.497865676879883\n",
            "12.333944320678711\n",
            "16.88836097717285\n",
            "14.36248779296875\n",
            "17.58197784423828\n",
            "15.874327659606934\n",
            "19.09766960144043\n",
            "15.956987380981445\n",
            "16.80167007446289\n",
            "17.50727653503418\n",
            "16.050527572631836\n",
            "20.6784725189209\n",
            "19.114242553710938\n",
            "20.557537078857422\n",
            "15.722846984863281\n",
            "16.355976104736328\n",
            "17.436891555786133\n",
            "18.526159286499023\n",
            "16.624286651611328\n",
            "17.66401481628418\n",
            "15.072796821594238\n",
            "15.329143524169922\n",
            "17.44072151184082\n",
            "18.531105041503906\n",
            "17.084075927734375\n",
            "16.957063674926758\n",
            "17.603498458862305\n",
            "17.716402053833008\n",
            "17.32295036315918\n",
            "15.488332748413086\n",
            "15.47309398651123\n",
            "14.416433334350586\n",
            "18.50161361694336\n",
            "16.167224884033203\n",
            "17.17230796813965\n",
            "18.613988876342773\n",
            "18.042003631591797\n",
            "13.97000789642334\n",
            "16.337387084960938\n",
            "15.543660163879395\n",
            "18.960922241210938\n",
            "16.338199615478516\n",
            "18.05595588684082\n",
            "16.77188491821289\n",
            "17.11941909790039\n",
            "17.979883193969727\n",
            "16.11309242248535\n",
            "18.2738037109375\n",
            "16.71245765686035\n",
            "14.197847366333008\n",
            "16.185110092163086\n",
            "18.539016723632812\n",
            "19.55389976501465\n",
            "19.86311912536621\n",
            "17.56805992126465\n",
            "18.26827621459961\n",
            "14.410112380981445\n",
            "15.6635103225708\n",
            "19.238445281982422\n",
            "17.02992820739746\n",
            "18.2586669921875\n",
            "14.173456192016602\n",
            "18.551626205444336\n",
            "18.23959732055664\n",
            "15.074118614196777\n",
            "22.448965072631836\n",
            "17.377689361572266\n",
            "17.50334358215332\n",
            "18.399030685424805\n",
            "19.2546443939209\n",
            "17.887664794921875\n",
            "16.051210403442383\n",
            "21.01921272277832\n",
            "18.581560134887695\n",
            "17.01140594482422\n",
            "15.426314353942871\n",
            "18.02446174621582\n",
            "18.716657638549805\n",
            "20.358861923217773\n",
            "18.065065383911133\n",
            "16.39496612548828\n",
            "16.662935256958008\n",
            "17.650190353393555\n",
            "15.62307357788086\n",
            "16.712793350219727\n",
            "16.973379135131836\n",
            "13.520696640014648\n",
            "17.367082595825195\n",
            "19.222599029541016\n",
            "19.54927635192871\n",
            "19.07796859741211\n",
            "18.267696380615234\n",
            "18.993852615356445\n",
            "14.957200050354004\n",
            "16.351158142089844\n",
            "19.320049285888672\n",
            "18.920764923095703\n",
            "14.325260162353516\n",
            "15.037126541137695\n",
            "16.163543701171875\n",
            "15.145662307739258\n",
            "16.60379981994629\n",
            "15.298803329467773\n",
            "17.393720626831055\n",
            "15.702759742736816\n",
            "17.448612213134766\n",
            "19.364961624145508\n",
            "15.517011642456055\n",
            "17.809534072875977\n",
            "18.214160919189453\n",
            "16.684894561767578\n",
            "19.24393081665039\n",
            "15.561827659606934\n",
            "17.62343978881836\n",
            "19.93061637878418\n",
            "21.862520217895508\n",
            "16.489145278930664\n",
            "16.568016052246094\n",
            "16.009307861328125\n",
            "15.690300941467285\n",
            "16.3023738861084\n",
            "18.164522171020508\n",
            "16.041213989257812\n",
            "17.43072509765625\n",
            "18.199487686157227\n",
            "15.08169937133789\n",
            "18.673812866210938\n",
            "18.715927124023438\n",
            "17.7014102935791\n",
            "17.288490295410156\n",
            "20.085372924804688\n",
            "17.453699111938477\n",
            "18.69869613647461\n",
            "18.1673526763916\n",
            "15.720258712768555\n",
            "19.5553035736084\n",
            "17.639204025268555\n",
            "15.505415916442871\n",
            "16.315717697143555\n",
            "18.576913833618164\n",
            "16.742584228515625\n",
            "16.893239974975586\n",
            "17.624868392944336\n",
            "14.270878791809082\n",
            "15.93101692199707\n",
            "18.617204666137695\n",
            "15.96071720123291\n",
            "17.25279426574707\n",
            "17.09760093688965\n",
            "18.17734146118164\n",
            "15.982560157775879\n",
            "12.811765670776367\n",
            "17.02570343017578\n",
            "16.70885467529297\n",
            "17.458728790283203\n",
            "19.17622947692871\n",
            "18.456148147583008\n",
            "16.966089248657227\n",
            "16.44598388671875\n",
            "16.216630935668945\n",
            "16.856019973754883\n",
            "13.736793518066406\n",
            "13.196904182434082\n",
            "17.196496963500977\n",
            "19.745189666748047\n",
            "16.65220069885254\n",
            "16.712568283081055\n",
            "17.453115463256836\n",
            "16.330495834350586\n",
            "18.17076873779297\n",
            "17.98643684387207\n",
            "16.134252548217773\n",
            "20.66680335998535\n",
            "17.539669036865234\n",
            "19.088115692138672\n",
            "18.3962459564209\n",
            "16.87710952758789\n",
            "17.379863739013672\n",
            "15.124509811401367\n",
            "13.342216491699219\n",
            "16.7797908782959\n",
            "13.796724319458008\n",
            "15.387399673461914\n",
            "19.80995750427246\n",
            "19.86685562133789\n",
            "19.730300903320312\n",
            "20.895404815673828\n",
            "16.195419311523438\n",
            "19.75457763671875\n",
            "19.58916473388672\n",
            "15.961177825927734\n",
            "15.993688583374023\n",
            "17.91316032409668\n",
            "18.103038787841797\n",
            "15.179315567016602\n",
            "19.427457809448242\n",
            "17.757841110229492\n",
            "19.104032516479492\n",
            "18.551921844482422\n",
            "18.605722427368164\n",
            "18.174575805664062\n",
            "16.383352279663086\n",
            "18.5345458984375\n",
            "16.607826232910156\n",
            "14.306965827941895\n",
            "20.333009719848633\n",
            "17.037925720214844\n",
            "19.58163070678711\n",
            "18.38359260559082\n",
            "15.262134552001953\n",
            "19.269617080688477\n",
            "14.724601745605469\n",
            "21.876636505126953\n",
            "17.676578521728516\n",
            "18.856525421142578\n",
            "16.365192413330078\n",
            "14.308320045471191\n",
            "19.05160903930664\n",
            "15.534099578857422\n",
            "16.93526840209961\n",
            "15.15899658203125\n",
            "20.050180435180664\n",
            "17.82286262512207\n",
            "15.813480377197266\n",
            "17.770002365112305\n",
            "16.535493850708008\n",
            "17.274127960205078\n",
            "17.68621063232422\n",
            "16.41600227355957\n",
            "14.891663551330566\n",
            "16.025753021240234\n",
            "16.642791748046875\n",
            "16.173173904418945\n",
            "20.620075225830078\n",
            "18.15028190612793\n",
            "18.606853485107422\n",
            "17.187963485717773\n",
            "20.39769744873047\n",
            "19.62070083618164\n",
            "17.111970901489258\n",
            "16.55188751220703\n",
            "14.183649063110352\n",
            "18.026935577392578\n",
            "16.51152229309082\n",
            "16.661779403686523\n",
            "18.969236373901367\n",
            "18.40774917602539\n",
            "17.64617347717285\n",
            "16.408512115478516\n",
            "16.847347259521484\n",
            "17.102476119995117\n",
            "17.52368927001953\n",
            "17.67152214050293\n",
            "15.622808456420898\n",
            "17.105499267578125\n",
            "19.679019927978516\n",
            "17.394119262695312\n",
            "17.46807098388672\n",
            "17.38163185119629\n",
            "19.47812843322754\n",
            "15.97109603881836\n",
            "17.81070899963379\n",
            "17.331085205078125\n",
            "13.647893905639648\n",
            "19.690160751342773\n",
            "16.364896774291992\n",
            "16.947509765625\n",
            "16.888071060180664\n",
            "17.895965576171875\n",
            "16.894882202148438\n",
            "15.928746223449707\n",
            "15.72553825378418\n",
            "15.261362075805664\n",
            "18.51093292236328\n",
            "16.7863826751709\n",
            "15.55928897857666\n",
            "16.816787719726562\n",
            "17.674222946166992\n",
            "19.233320236206055\n",
            "18.03180694580078\n",
            "19.486276626586914\n",
            "20.278406143188477\n",
            "15.108558654785156\n",
            "18.547576904296875\n",
            "15.16117000579834\n",
            "15.028290748596191\n",
            "17.84596061706543\n",
            "18.945215225219727\n",
            "17.720882415771484\n",
            "15.40457820892334\n",
            "16.773082733154297\n",
            "14.668912887573242\n",
            "17.03436851501465\n",
            "15.332200050354004\n",
            "18.798521041870117\n",
            "14.420879364013672\n",
            "15.632747650146484\n",
            "13.51045036315918\n",
            "18.119285583496094\n",
            "15.771588325500488\n",
            "17.11357307434082\n",
            "19.263427734375\n",
            "16.14747428894043\n",
            "15.574418067932129\n",
            "17.395912170410156\n",
            "17.741992950439453\n",
            "19.0405330657959\n",
            "18.774608612060547\n",
            "18.614168167114258\n",
            "18.9263916015625\n",
            "15.071541786193848\n",
            "19.270803451538086\n",
            "18.11181640625\n",
            "18.128049850463867\n",
            "16.504493713378906\n",
            "15.920477867126465\n",
            "16.619359970092773\n",
            "15.749554634094238\n",
            "18.558990478515625\n",
            "15.273517608642578\n",
            "16.432415008544922\n",
            "17.334104537963867\n",
            "14.916983604431152\n",
            "14.665109634399414\n",
            "18.858076095581055\n",
            "16.806467056274414\n",
            "16.171234130859375\n",
            "18.329660415649414\n",
            "15.655320167541504\n",
            "19.799211502075195\n",
            "17.349231719970703\n",
            "16.99587059020996\n",
            "18.18886375427246\n",
            "16.498239517211914\n",
            "16.266294479370117\n",
            "17.624004364013672\n",
            "18.697431564331055\n",
            "16.04041290283203\n",
            "21.578140258789062\n",
            "16.17913246154785\n",
            "17.43001365661621\n",
            "13.645403861999512\n",
            "15.811959266662598\n",
            "18.617389678955078\n",
            "15.312322616577148\n",
            "17.71619415283203\n",
            "17.00749969482422\n",
            "17.2902889251709\n",
            "17.647125244140625\n",
            "18.53037452697754\n",
            "17.26117706298828\n",
            "15.825557708740234\n",
            "16.33688735961914\n",
            "16.638797760009766\n",
            "16.225343704223633\n",
            "15.307796478271484\n",
            "13.995136260986328\n",
            "16.743701934814453\n",
            "19.526824951171875\n",
            "16.67319679260254\n",
            "16.804561614990234\n",
            "12.763209342956543\n",
            "18.750598907470703\n",
            "18.355871200561523\n",
            "15.375021934509277\n",
            "17.05195426940918\n",
            "19.591760635375977\n",
            "19.70762825012207\n",
            "16.91429901123047\n",
            "19.629789352416992\n",
            "18.311433792114258\n",
            "12.848977088928223\n",
            "15.789834976196289\n",
            "14.803696632385254\n",
            "15.15260124206543\n",
            "17.669605255126953\n",
            "16.863571166992188\n",
            "15.564936637878418\n",
            "17.715476989746094\n",
            "19.109344482421875\n",
            "19.5239200592041\n",
            "15.810742378234863\n",
            "16.706640243530273\n",
            "20.828914642333984\n",
            "18.29374122619629\n",
            "18.336902618408203\n",
            "14.361359596252441\n",
            "19.273117065429688\n",
            "18.777196884155273\n",
            "17.306598663330078\n",
            "18.134159088134766\n",
            "17.57367706298828\n",
            "15.816019058227539\n",
            "16.763134002685547\n",
            "18.135986328125\n",
            "16.703214645385742\n",
            "17.851985931396484\n",
            "17.651731491088867\n",
            "19.230358123779297\n",
            "14.998075485229492\n",
            "13.86457633972168\n",
            "17.18650245666504\n",
            "15.0264310836792\n",
            "14.891192436218262\n",
            "15.187259674072266\n",
            "17.956348419189453\n",
            "16.571434020996094\n",
            "17.705209732055664\n",
            "13.878029823303223\n",
            "15.04375171661377\n",
            "13.247703552246094\n",
            "19.700950622558594\n",
            "15.003499031066895\n",
            "18.801578521728516\n",
            "18.282615661621094\n",
            "17.86856460571289\n",
            "20.48695945739746\n",
            "18.27954864501953\n",
            "16.275466918945312\n",
            "19.463661193847656\n",
            "17.309736251831055\n",
            "15.173495292663574\n",
            "14.765469551086426\n",
            "19.907451629638672\n",
            "14.594930648803711\n",
            "18.36168670654297\n",
            "15.318296432495117\n",
            "15.904845237731934\n",
            "14.334223747253418\n",
            "13.696268081665039\n",
            "19.373903274536133\n",
            "17.01318359375\n",
            "16.573379516601562\n",
            "19.541166305541992\n",
            "17.432186126708984\n",
            "17.808368682861328\n",
            "15.649011611938477\n",
            "16.925079345703125\n",
            "18.066795349121094\n",
            "19.539995193481445\n",
            "16.914012908935547\n",
            "18.028121948242188\n",
            "21.31731605529785\n",
            "19.734880447387695\n",
            "19.04449462890625\n",
            "16.53192710876465\n",
            "17.556407928466797\n",
            "18.815135955810547\n",
            "16.03782844543457\n",
            "20.716360092163086\n",
            "17.333065032958984\n",
            "16.720577239990234\n",
            "17.02879524230957\n",
            "16.251567840576172\n",
            "17.487049102783203\n",
            "19.285400390625\n",
            "16.911348342895508\n",
            "17.734521865844727\n",
            "18.30500602722168\n",
            "14.485798835754395\n",
            "20.335033416748047\n",
            "20.030065536499023\n",
            "15.394462585449219\n",
            "20.628421783447266\n",
            "15.156171798706055\n",
            "18.183435440063477\n",
            "17.460729598999023\n",
            "18.03849220275879\n",
            "18.827665328979492\n",
            "17.079654693603516\n",
            "17.9085750579834\n",
            "15.68499755859375\n",
            "17.13483428955078\n",
            "19.22420310974121\n",
            "16.65060043334961\n",
            "18.504796981811523\n",
            "15.242452621459961\n",
            "18.065488815307617\n",
            "15.897727012634277\n",
            "19.562652587890625\n",
            "16.089519500732422\n",
            "14.113665580749512\n",
            "16.178287506103516\n",
            "17.361703872680664\n",
            "15.558735847473145\n",
            "18.705123901367188\n",
            "16.393930435180664\n",
            "20.717771530151367\n",
            "17.08675765991211\n",
            "16.534400939941406\n",
            "13.445221900939941\n",
            "17.228240966796875\n",
            "18.20195770263672\n",
            "17.81105613708496\n",
            "13.500570297241211\n",
            "17.53553581237793\n",
            "14.030291557312012\n",
            "15.90414047241211\n",
            "16.57713508605957\n",
            "14.6544771194458\n",
            "14.938575744628906\n",
            "14.874998092651367\n",
            "15.348209381103516\n",
            "17.433813095092773\n",
            "15.87949275970459\n",
            "16.29429054260254\n",
            "16.14665412902832\n",
            "15.116310119628906\n",
            "14.10819149017334\n",
            "14.715324401855469\n",
            "20.548681259155273\n",
            "17.124752044677734\n",
            "16.987634658813477\n",
            "15.830551147460938\n",
            "16.07700538635254\n",
            "16.75834846496582\n",
            "17.490001678466797\n",
            "19.580242156982422\n",
            "14.600659370422363\n",
            "17.1917724609375\n",
            "18.14598846435547\n",
            "18.55974769592285\n",
            "20.83820152282715\n",
            "16.369102478027344\n",
            "18.81583023071289\n",
            "17.4807071685791\n",
            "14.737103462219238\n",
            "16.76946449279785\n",
            "15.420902252197266\n",
            "16.753732681274414\n",
            "20.635021209716797\n",
            "15.98568058013916\n",
            "17.261993408203125\n",
            "16.01544189453125\n",
            "15.491734504699707\n",
            "19.12393569946289\n",
            "17.54960060119629\n",
            "16.302391052246094\n",
            "19.067245483398438\n",
            "18.873987197875977\n",
            "14.173248291015625\n",
            "16.3969669342041\n",
            "17.810789108276367\n",
            "15.992920875549316\n",
            "22.136911392211914\n",
            "16.381553649902344\n",
            "14.958285331726074\n",
            "18.828794479370117\n",
            "17.594083786010742\n",
            "18.494640350341797\n",
            "16.24417495727539\n",
            "16.112281799316406\n",
            "18.798797607421875\n",
            "18.217954635620117\n",
            "17.17599868774414\n",
            "17.457569122314453\n",
            "18.946195602416992\n",
            "17.230424880981445\n",
            "15.519781112670898\n",
            "15.97973346710205\n",
            "15.396056175231934\n",
            "20.807659149169922\n",
            "18.85258674621582\n",
            "16.18033790588379\n",
            "16.368831634521484\n",
            "19.47884750366211\n",
            "20.811819076538086\n",
            "15.542619705200195\n",
            "16.25278091430664\n",
            "17.072776794433594\n",
            "17.25218963623047\n",
            "16.0306396484375\n",
            "16.85567855834961\n",
            "19.06571388244629\n",
            "14.782747268676758\n",
            "19.026695251464844\n",
            "15.44077205657959\n",
            "17.770170211791992\n",
            "17.69143295288086\n",
            "16.741296768188477\n",
            "18.27595329284668\n",
            "18.608978271484375\n",
            "18.53913116455078\n",
            "17.01361083984375\n",
            "20.157453536987305\n",
            "15.603442192077637\n",
            "14.691669464111328\n",
            "17.99385643005371\n",
            "16.79792594909668\n",
            "14.641785621643066\n",
            "14.930464744567871\n",
            "18.543832778930664\n",
            "18.0932559967041\n",
            "18.459423065185547\n",
            "16.388965606689453\n",
            "16.708967208862305\n",
            "18.555789947509766\n",
            "16.2941951751709\n",
            "18.142925262451172\n",
            "16.247203826904297\n",
            "17.767690658569336\n",
            "13.59405517578125\n",
            "16.923053741455078\n",
            "19.32378387451172\n",
            "23.732744216918945\n",
            "14.465867042541504\n",
            "16.18450355529785\n",
            "18.879817962646484\n",
            "17.403106689453125\n",
            "19.1686954498291\n",
            "15.726385116577148\n",
            "14.739239692687988\n",
            "15.119583129882812\n",
            "17.767091751098633\n",
            "18.341224670410156\n",
            "17.004913330078125\n",
            "16.225399017333984\n",
            "17.56941032409668\n",
            "19.819477081298828\n",
            "17.78774642944336\n",
            "16.073720932006836\n",
            "20.445341110229492\n",
            "18.244041442871094\n",
            "14.252439498901367\n",
            "19.0972957611084\n",
            "18.42547035217285\n",
            "16.54318618774414\n",
            "14.165168762207031\n",
            "16.288785934448242\n",
            "16.12246322631836\n",
            "18.011560440063477\n",
            "16.702096939086914\n",
            "16.5463809967041\n",
            "19.02865982055664\n",
            "16.59371566772461\n",
            "17.242761611938477\n",
            "19.438472747802734\n",
            "19.624732971191406\n",
            "15.458349227905273\n",
            "16.660669326782227\n",
            "16.133174896240234\n",
            "15.553743362426758\n",
            "17.869182586669922\n",
            "18.471712112426758\n",
            "16.254396438598633\n",
            "16.50419807434082\n",
            "16.47903823852539\n",
            "17.34589195251465\n",
            "14.300841331481934\n",
            "16.368881225585938\n",
            "17.421192169189453\n",
            "18.627361297607422\n",
            "15.863618850708008\n",
            "17.537763595581055\n",
            "16.477718353271484\n",
            "20.516706466674805\n",
            "14.246655464172363\n",
            "17.618215560913086\n",
            "20.251930236816406\n",
            "17.412151336669922\n",
            "16.519697189331055\n",
            "17.790735244750977\n",
            "17.063434600830078\n",
            "14.056629180908203\n",
            "14.928762435913086\n",
            "14.818082809448242\n",
            "16.328763961791992\n",
            "14.087286949157715\n",
            "18.570556640625\n",
            "16.720911026000977\n",
            "18.592090606689453\n",
            "20.442995071411133\n",
            "18.638200759887695\n",
            "15.16100025177002\n",
            "17.05863380432129\n",
            "20.769676208496094\n",
            "15.44430923461914\n",
            "16.647314071655273\n",
            "18.051319122314453\n",
            "15.654662132263184\n",
            "19.76362419128418\n",
            "14.954690933227539\n",
            "18.87798500061035\n",
            "17.543228149414062\n",
            "18.136512756347656\n",
            "18.21808624267578\n",
            "16.97538185119629\n",
            "19.226449966430664\n",
            "17.170194625854492\n",
            "19.242517471313477\n",
            "17.179170608520508\n",
            "17.221078872680664\n",
            "17.934513092041016\n",
            "14.383349418640137\n",
            "21.28533935546875\n",
            "16.669986724853516\n",
            "19.257158279418945\n",
            "17.5128116607666\n",
            "14.718856811523438\n",
            "17.116844177246094\n",
            "19.274261474609375\n",
            "16.34274673461914\n",
            "17.30506706237793\n",
            "18.09388542175293\n",
            "20.315122604370117\n",
            "19.02281379699707\n",
            "16.940778732299805\n",
            "16.237585067749023\n",
            "15.300865173339844\n",
            "15.905118942260742\n",
            "19.001556396484375\n",
            "16.69843292236328\n",
            "14.020278930664062\n",
            "13.771294593811035\n",
            "17.0290584564209\n",
            "19.014225006103516\n",
            "17.527559280395508\n",
            "15.78453540802002\n",
            "16.315874099731445\n",
            "14.406377792358398\n",
            "16.791181564331055\n",
            "19.676029205322266\n",
            "16.48682975769043\n",
            "16.922212600708008\n",
            "17.977027893066406\n",
            "12.645503044128418\n",
            "17.878459930419922\n",
            "17.51560401916504\n",
            "16.28321075439453\n",
            "15.951581954956055\n",
            "16.5667667388916\n",
            "16.094690322875977\n",
            "16.237548828125\n",
            "15.515893936157227\n",
            "20.483417510986328\n",
            "14.739705085754395\n",
            "18.05424690246582\n",
            "14.98593521118164\n",
            "18.09716033935547\n",
            "18.6712646484375\n",
            "16.79644203186035\n",
            "15.840475082397461\n",
            "17.693950653076172\n",
            "18.118122100830078\n",
            "17.1755313873291\n",
            "18.108640670776367\n",
            "17.90645408630371\n",
            "16.584341049194336\n",
            "19.48308563232422\n",
            "15.847617149353027\n",
            "16.045656204223633\n",
            "18.102632522583008\n",
            "20.856647491455078\n",
            "15.835450172424316\n",
            "15.325821876525879\n",
            "17.962800979614258\n",
            "18.378028869628906\n",
            "17.163118362426758\n",
            "15.105425834655762\n",
            "16.21429443359375\n",
            "17.74112319946289\n",
            "17.13459587097168\n",
            "17.49640464782715\n",
            "16.291330337524414\n",
            "20.88878631591797\n",
            "14.664505958557129\n"
          ]
        }
      ]
    },
    {
      "cell_type": "code",
      "source": [
        "for i in range(200000):\n",
        "\n",
        "  # minibatch construct\n",
        "  ix = torch.randint(0, Xtr.shape[0], (32,))\n",
        "\n",
        "  # forward pass\n",
        "  emb = C[Xtr[ix]] # (32, 3, 2)\n",
        "  h = torch.tanh(emb.view(-1, 30) @ W1 + b1) # (32, 100)\n",
        "  logits = h @ W2 + b2 # (32, 27)\n",
        "  # Old way:\n",
        "  rows_indexes = torch.arange(Ytr[ix].shape[0])\n",
        "  counts = logits.exp()\n",
        "  prob = counts / counts.sum(1, keepdims=True)\n",
        "  loss = -prob[rows_indexes, Ytr[ix]].log().mean()\n",
        "\n",
        "  # New way:\n",
        "  # loss = F.cross_entropy(logits, Ytr[ix])\n",
        "\n",
        "  print(loss.item())\n",
        "\n",
        "  # backward pass\n",
        "  for p in parameters:\n",
        "    p.grad = None\n",
        "  loss.backward()\n",
        "\n",
        "  # update\n",
        "  #lr = lrs[i]\n",
        "  lr = 0.1 if i < 100000 else 0.01\n",
        "  for p in parameters:\n",
        "    p.data += -lr * p.grad\n",
        "\n",
        "  # track stats\n",
        "  #lri.append(lre[i])\n",
        "  stepi.append(i)\n",
        "  lossi.append(loss.log10().item())\n",
        "\n",
        "print(loss.item())"
      ],
      "metadata": {
        "id": "jiKD-PPOdClh",
        "colab": {
          "base_uri": "https://localhost:8080/",
          "height": 264
        },
        "outputId": "cfb606a2-e5e1-4be6-c707-b3a316b3aa83"
      },
      "execution_count": 136,
      "outputs": [
        {
          "output_type": "stream",
          "name": "stdout",
          "text": [
            "17.340890884399414\n"
          ]
        },
        {
          "output_type": "error",
          "ename": "TypeError",
          "evalue": "ignored",
          "traceback": [
            "\u001b[0;31m---------------------------------------------------------------------------\u001b[0m",
            "\u001b[0;31mTypeError\u001b[0m                                 Traceback (most recent call last)",
            "\u001b[0;32m<ipython-input-136-3776d0e986d5>\u001b[0m in \u001b[0;36m<cell line: 1>\u001b[0;34m()\u001b[0m\n\u001b[1;32m     28\u001b[0m   \u001b[0mlr\u001b[0m \u001b[0;34m=\u001b[0m \u001b[0;36m0.1\u001b[0m \u001b[0;32mif\u001b[0m \u001b[0mi\u001b[0m \u001b[0;34m<\u001b[0m \u001b[0;36m100000\u001b[0m \u001b[0;32melse\u001b[0m \u001b[0;36m0.01\u001b[0m\u001b[0;34m\u001b[0m\u001b[0;34m\u001b[0m\u001b[0m\n\u001b[1;32m     29\u001b[0m   \u001b[0;32mfor\u001b[0m \u001b[0mp\u001b[0m \u001b[0;32min\u001b[0m \u001b[0mparameters\u001b[0m\u001b[0;34m:\u001b[0m\u001b[0;34m\u001b[0m\u001b[0;34m\u001b[0m\u001b[0m\n\u001b[0;32m---> 30\u001b[0;31m     \u001b[0mp\u001b[0m\u001b[0;34m.\u001b[0m\u001b[0mdata\u001b[0m \u001b[0;34m+=\u001b[0m \u001b[0;34m-\u001b[0m\u001b[0mlr\u001b[0m \u001b[0;34m*\u001b[0m \u001b[0mp\u001b[0m\u001b[0;34m.\u001b[0m\u001b[0mgrad\u001b[0m\u001b[0;34m\u001b[0m\u001b[0;34m\u001b[0m\u001b[0m\n\u001b[0m\u001b[1;32m     31\u001b[0m \u001b[0;34m\u001b[0m\u001b[0m\n\u001b[1;32m     32\u001b[0m   \u001b[0;31m# track stats\u001b[0m\u001b[0;34m\u001b[0m\u001b[0;34m\u001b[0m\u001b[0m\n",
            "\u001b[0;31mTypeError\u001b[0m: unsupported operand type(s) for *: 'float' and 'NoneType'"
          ]
        }
      ]
    },
    {
      "cell_type": "code",
      "source": [],
      "metadata": {
        "id": "Z6LKmNq41yha"
      },
      "execution_count": null,
      "outputs": []
    },
    {
      "cell_type": "code",
      "source": [
        "plt.plot(stepi, lossi)"
      ],
      "metadata": {
        "colab": {
          "base_uri": "https://localhost:8080/",
          "height": 282
        },
        "id": "ZBAYXZ_rdGIG",
        "outputId": "4da78334-f8d9-416f-9d09-64b66823372a"
      },
      "execution_count": null,
      "outputs": [
        {
          "output_type": "execute_result",
          "data": {
            "text/plain": [
              "[<matplotlib.lines.Line2D at 0x7fae0cd9ed90>]"
            ]
          },
          "metadata": {},
          "execution_count": 13
        },
        {
          "output_type": "display_data",
          "data": {
            "text/plain": [
              "<Figure size 432x288 with 1 Axes>"
            ],
            "image/png": "[encoded data removed]"
          },
          "metadata": {
            "needs_background": "light"
          }
        }
      ]
    },
    {
      "cell_type": "code",
      "source": [
        "# training loss\n",
        "emb = C[Xtr] # (32, 3, 2)\n",
        "h = torch.tanh(emb.view(-1, 30) @ W1 + b1) # (32, 100)\n",
        "logits = h @ W2 + b2 # (32, 27)\n",
        "loss = F.cross_entropy(logits, Ytr)\n",
        "loss"
      ],
      "metadata": {
        "colab": {
          "base_uri": "https://localhost:8080/"
        },
        "id": "ZlhYinNgdIVF",
        "outputId": "b11e07b9-827b-416d-b70d-a206a6124598"
      },
      "execution_count": null,
      "outputs": [
        {
          "output_type": "execute_result",
          "data": {
            "text/plain": [
              "tensor(2.1335, grad_fn=<NllLossBackward0>)"
            ]
          },
          "metadata": {},
          "execution_count": 14
        }
      ]
    },
    {
      "cell_type": "code",
      "source": [
        "# validation loss\n",
        "emb = C[Xdev] # (32, 3, 2)\n",
        "h = torch.tanh(emb.view(-1, 30) @ W1 + b1) # (32, 100)\n",
        "logits = h @ W2 + b2 # (32, 27)\n",
        "loss = F.cross_entropy(logits, Ydev)\n",
        "loss"
      ],
      "metadata": {
        "colab": {
          "base_uri": "https://localhost:8080/"
        },
        "id": "cJH3DDu4dLTM",
        "outputId": "d87a5a80-edcf-4fb0-9984-b9dc553521cd"
      },
      "execution_count": null,
      "outputs": [
        {
          "output_type": "execute_result",
          "data": {
            "text/plain": [
              "tensor(2.1635, grad_fn=<NllLossBackward0>)"
            ]
          },
          "metadata": {},
          "execution_count": 15
        }
      ]
    },
    {
      "cell_type": "code",
      "source": [
        "# test loss\n",
        "emb = C[Xte] # (32, 3, 2)\n",
        "h = torch.tanh(emb.view(-1, 30) @ W1 + b1) # (32, 100)\n",
        "logits = h @ W2 + b2 # (32, 27)\n",
        "loss = F.cross_entropy(logits, Yte)\n",
        "loss"
      ],
      "metadata": {
        "colab": {
          "base_uri": "https://localhost:8080/"
        },
        "id": "DwOgCg1vdNhe",
        "outputId": "766db7cb-dbfd-4981-e3c1-93cfa87521f5"
      },
      "execution_count": null,
      "outputs": [
        {
          "output_type": "execute_result",
          "data": {
            "text/plain": [
              "tensor(2.1637, grad_fn=<NllLossBackward0>)"
            ]
          },
          "metadata": {},
          "execution_count": 16
        }
      ]
    },
    {
      "cell_type": "code",
      "source": [
        "# visualize dimensions 0 and 1 of the embedding matrix C for all characters\n",
        "plt.figure(figsize=(8,8))\n",
        "plt.scatter(C[:,0].data, C[:,1].data, s=200)\n",
        "for i in range(C.shape[0]):\n",
        "    plt.text(C[i,0].item(), C[i,1].item(), itos[i], ha=\"center\", va=\"center\", color='white')\n",
        "plt.grid('minor')"
      ],
      "metadata": {
        "colab": {
          "base_uri": "https://localhost:8080/",
          "height": 483
        },
        "id": "CCWLYP9GdPP4",
        "outputId": "6e2e7f56-60a1-4312-e964-7ccbfe5f3a25"
      },
      "execution_count": null,
      "outputs": [
        {
          "output_type": "display_data",
          "data": {
            "text/plain": [
              "<Figure size 576x576 with 1 Axes>"
            ],
            "image/png": "[encoded data removed]"
          },
          "metadata": {
            "needs_background": "light"
          }
        }
      ]
    },
    {
      "cell_type": "code",
      "source": [
        "# sample from the model\n",
        "g = torch.Generator().manual_seed(2147483647 + 10)\n",
        "\n",
        "for _ in range(20):\n",
        "\n",
        "    out = []\n",
        "    context = [0] * block_size # initialize with all ...\n",
        "    while True:\n",
        "      emb = C[torch.tensor([context])] # (1,block_size,d)\n",
        "      h = torch.tanh(emb.view(1, -1) @ W1 + b1)\n",
        "      logits = h @ W2 + b2\n",
        "      probs = F.softmax(logits, dim=1)\n",
        "      ix = torch.multinomial(probs, num_samples=1, generator=g).item()\n",
        "      context = context[1:] + [ix]\n",
        "      out.append(ix)\n",
        "      if ix == 0:\n",
        "        break\n",
        "\n",
        "    print(''.join(itos[i] for i in out))"
      ],
      "metadata": {
        "colab": {
          "base_uri": "https://localhost:8080/"
        },
        "id": "TQUMmgRrdRIA",
        "outputId": "4618124d-0820-424d-99aa-803c84d680c0"
      },
      "execution_count": null,
      "outputs": [
        {
          "output_type": "stream",
          "name": "stdout",
          "text": [
            "carmah.\n",
            "ambril.\n",
            "khi.\n",
            "mili.\n",
            "thylahnanden.\n",
            "jazhnen.\n",
            "deliah.\n",
            "jareei.\n",
            "ner.\n",
            "kentzeriiv.\n",
            "kaleigh.\n",
            "ham.\n",
            "jory.\n",
            "quint.\n",
            "shon.\n",
            "marian.\n",
            "quinteron.\n",
            "jarynn.\n",
            "jaxen.\n",
            "dus.\n"
          ]
        }
      ]
    },
    {
      "cell_type": "code",
      "source": [],
      "metadata": {
        "id": "iwENKZS7dT_5"
      },
      "execution_count": null,
      "outputs": []
    }
  ]
}